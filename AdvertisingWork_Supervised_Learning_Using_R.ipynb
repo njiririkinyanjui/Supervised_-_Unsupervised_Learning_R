{
  "nbformat": 4,
  "nbformat_minor": 0,
  "metadata": {
    "colab": {
      "name": "AdvertisingWork_Supervised_Learning_Using_R.ipynb",
      "provenance": [],
      "authorship_tag": "ABX9TyMMzVHJsBoDrKse5BiihT0n",
      "include_colab_link": true
    },
    "kernelspec": {
      "name": "ir",
      "display_name": "R"
    }
  },
  "cells": [
    {
      "cell_type": "markdown",
      "metadata": {
        "id": "view-in-github",
        "colab_type": "text"
      },
      "source": [
        "<a href=\"https://colab.research.google.com/github/njiririkinyanjui/Supervised_-_Unsupervised_Learning_R/blob/main/AdvertisingWork_Supervised_Learning_Using_R.ipynb\" target=\"_parent\"><img src=\"https://colab.research.google.com/assets/colab-badge.svg\" alt=\"Open In Colab\"/></a>"
      ]
    },
    {
      "cell_type": "markdown",
      "metadata": {
        "id": "Qui5qiYUcahK"
      },
      "source": [
        "# **Research Question**"
      ]
    },
    {
      "cell_type": "markdown",
      "metadata": {
        "id": "N5aR-MCYcd9K"
      },
      "source": [
        "A Kenyan entrepreneur has created an online cryptography course and would want to advertise it on her blog. She currently targets audiences originating from various countries. In the past, she ran ads to advertise a related course on the same blog and collected data in the process. She would now like to employ your services as a Data Science Consultant to help her identify which individuals are most likely to click on her ads."
      ]
    },
    {
      "cell_type": "markdown",
      "metadata": {
        "id": "EYi_G4kRcies"
      },
      "source": [
        "Using the Male column wich individual is moree likely to visit the site"
      ]
    },
    {
      "cell_type": "markdown",
      "metadata": {
        "id": "nLk4P756lYeh"
      },
      "source": [
        "* Problem Definition\n",
        "* Data Sourcing\n",
        "* Check the Data\n",
        "* Perform Data Cleaning\n",
        "* Perform Exploratory Data Analysis  (Univariate, Bivariate & Multivariate)\n",
        "* Clustering K-Means & Hierarchial clustering\n",
        "* Implement the Solution ( Supervised Learning)\n",
        "* Challenge the Solution\n",
        "* Follow up Questions"
      ]
    },
    {
      "cell_type": "markdown",
      "metadata": {
        "id": "R86L_DXl9vsr"
      },
      "source": [
        "# **Loading the dataset and Previewing**"
      ]
    },
    {
      "cell_type": "markdown",
      "metadata": {
        "id": "plOln316V1Kh"
      },
      "source": [
        "## Loading the dataset"
      ]
    },
    {
      "cell_type": "code",
      "metadata": {
        "id": "BeEer1km6-Bs",
        "outputId": "9ecbd04c-5ae0-49d5-c195-ec5bbd9b891c",
        "colab": {
          "base_uri": "https://localhost:8080/"
        }
      },
      "source": [
        "# Loading the relevant libraries\n",
        "\n",
        "install.packages('tidyverse')\n",
        "library(tidyverse)\n",
        "\n",
        "install.packages('ggplot2')\n",
        "library(ggplot2)\n",
        "\n",
        "install.packages('psych')\n",
        "library(psych)\n",
        "\n",
        "install.packages('Amelia')\n",
        "library(Amelia)\n",
        "\n",
        "install.packages('GGally')\n",
        "library(GGally)\n",
        "\n",
        "install.packages('rpart')\n",
        "library(rpart)\n",
        "\n",
        "install.packages('randomForest')\n",
        "library(randomForest)\n",
        "\n",
        "library(dplyr)"
      ],
      "execution_count": 1,
      "outputs": [
        {
          "output_type": "stream",
          "text": [
            "Installing package into ‘/usr/local/lib/R/site-library’\n",
            "(as ‘lib’ is unspecified)\n",
            "\n",
            "── \u001b[1mAttaching packages\u001b[22m ─────────────────────────────────────── tidyverse 1.3.0 ──\n",
            "\n",
            "\u001b[32m✔\u001b[39m \u001b[34mggplot2\u001b[39m 3.3.2     \u001b[32m✔\u001b[39m \u001b[34mpurrr  \u001b[39m 0.3.4\n",
            "\u001b[32m✔\u001b[39m \u001b[34mtibble \u001b[39m 3.0.4     \u001b[32m✔\u001b[39m \u001b[34mdplyr  \u001b[39m 1.0.2\n",
            "\u001b[32m✔\u001b[39m \u001b[34mtidyr  \u001b[39m 1.1.2     \u001b[32m✔\u001b[39m \u001b[34mstringr\u001b[39m 1.4.0\n",
            "\u001b[32m✔\u001b[39m \u001b[34mreadr  \u001b[39m 1.4.0     \u001b[32m✔\u001b[39m \u001b[34mforcats\u001b[39m 0.5.0\n",
            "\n",
            "── \u001b[1mConflicts\u001b[22m ────────────────────────────────────────── tidyverse_conflicts() ──\n",
            "\u001b[31m✖\u001b[39m \u001b[34mdplyr\u001b[39m::\u001b[32mfilter()\u001b[39m masks \u001b[34mstats\u001b[39m::filter()\n",
            "\u001b[31m✖\u001b[39m \u001b[34mdplyr\u001b[39m::\u001b[32mlag()\u001b[39m    masks \u001b[34mstats\u001b[39m::lag()\n",
            "\n",
            "Installing package into ‘/usr/local/lib/R/site-library’\n",
            "(as ‘lib’ is unspecified)\n",
            "\n",
            "Installing package into ‘/usr/local/lib/R/site-library’\n",
            "(as ‘lib’ is unspecified)\n",
            "\n",
            "also installing the dependencies ‘tmvnsim’, ‘mnormt’\n",
            "\n",
            "\n",
            "\n",
            "Attaching package: ‘psych’\n",
            "\n",
            "\n",
            "The following objects are masked from ‘package:ggplot2’:\n",
            "\n",
            "    %+%, alpha\n",
            "\n",
            "\n",
            "Installing package into ‘/usr/local/lib/R/site-library’\n",
            "(as ‘lib’ is unspecified)\n",
            "\n",
            "also installing the dependency ‘RcppArmadillo’\n",
            "\n",
            "\n",
            "Loading required package: Rcpp\n",
            "\n",
            "## \n",
            "## Amelia II: Multiple Imputation\n",
            "## (Version 1.7.6, built: 2019-11-24)\n",
            "## Copyright (C) 2005-2020 James Honaker, Gary King and Matthew Blackwell\n",
            "## Refer to http://gking.harvard.edu/amelia/ for more information\n",
            "## \n",
            "\n",
            "Installing package into ‘/usr/local/lib/R/site-library’\n",
            "(as ‘lib’ is unspecified)\n",
            "\n",
            "also installing the dependencies ‘plyr’, ‘reshape’\n",
            "\n",
            "\n",
            "Registered S3 method overwritten by 'GGally':\n",
            "  method from   \n",
            "  +.gg   ggplot2\n",
            "\n",
            "Installing package into ‘/usr/local/lib/R/site-library’\n",
            "(as ‘lib’ is unspecified)\n",
            "\n",
            "Installing package into ‘/usr/local/lib/R/site-library’\n",
            "(as ‘lib’ is unspecified)\n",
            "\n",
            "randomForest 4.6-14\n",
            "\n",
            "Type rfNews() to see new features/changes/bug fixes.\n",
            "\n",
            "\n",
            "Attaching package: ‘randomForest’\n",
            "\n",
            "\n",
            "The following object is masked from ‘package:psych’:\n",
            "\n",
            "    outlier\n",
            "\n",
            "\n",
            "The following object is masked from ‘package:dplyr’:\n",
            "\n",
            "    combine\n",
            "\n",
            "\n",
            "The following object is masked from ‘package:ggplot2’:\n",
            "\n",
            "    margin\n",
            "\n",
            "\n"
          ],
          "name": "stderr"
        }
      ]
    },
    {
      "cell_type": "code",
      "metadata": {
        "id": "SjDFenMDxUNY",
        "outputId": "6acd6218-4993-4594-f94d-ec60d21b67b0",
        "colab": {
          "base_uri": "https://localhost:8080/"
        }
      },
      "source": [
        "# Reading the dataset\n",
        "\n",
        "df <- read_csv(\"/content/advertising.csv\")"
      ],
      "execution_count": 2,
      "outputs": [
        {
          "output_type": "stream",
          "text": [
            "\n",
            "\u001b[36m──\u001b[39m \u001b[1m\u001b[1mColumn specification\u001b[1m\u001b[22m \u001b[36m────────────────────────────────────────────────────────\u001b[39m\n",
            "cols(\n",
            "  `Daily Time Spent on Site` = \u001b[32mcol_double()\u001b[39m,\n",
            "  Age = \u001b[32mcol_double()\u001b[39m,\n",
            "  `Area Income` = \u001b[32mcol_double()\u001b[39m,\n",
            "  `Daily Internet Usage` = \u001b[32mcol_double()\u001b[39m,\n",
            "  `Ad Topic Line` = \u001b[31mcol_character()\u001b[39m,\n",
            "  City = \u001b[31mcol_character()\u001b[39m,\n",
            "  Male = \u001b[32mcol_double()\u001b[39m,\n",
            "  Country = \u001b[31mcol_character()\u001b[39m,\n",
            "  Timestamp = \u001b[34mcol_datetime(format = \"\")\u001b[39m,\n",
            "  `Clicked on Ad` = \u001b[32mcol_double()\u001b[39m\n",
            ")\n",
            "\n",
            "\n"
          ],
          "name": "stderr"
        }
      ]
    },
    {
      "cell_type": "code",
      "metadata": {
        "id": "NicB3VbDb5Z0",
        "outputId": "442e8ec3-0ff9-4970-e2d5-e064a4c1a9ab",
        "colab": {
          "base_uri": "https://localhost:8080/"
        }
      },
      "source": [
        "# Looking at the structure of our data\n",
        "\n",
        "str(df)"
      ],
      "execution_count": 3,
      "outputs": [
        {
          "output_type": "stream",
          "text": [
            "tibble [1,000 × 10] (S3: spec_tbl_df/tbl_df/tbl/data.frame)\n",
            " $ Daily Time Spent on Site: num [1:1000] 69 80.2 69.5 74.2 68.4 ...\n",
            " $ Age                     : num [1:1000] 35 31 26 29 35 23 33 48 30 20 ...\n",
            " $ Area Income             : num [1:1000] 61834 68442 59786 54806 73890 ...\n",
            " $ Daily Internet Usage    : num [1:1000] 256 194 236 246 226 ...\n",
            " $ Ad Topic Line           : chr [1:1000] \"Cloned 5thgeneration orchestration\" \"Monitored national standardization\" \"Organic bottom-line service-desk\" \"Triple-buffered reciprocal time-frame\" ...\n",
            " $ City                    : chr [1:1000] \"Wrightburgh\" \"West Jodi\" \"Davidton\" \"West Terrifurt\" ...\n",
            " $ Male                    : num [1:1000] 0 1 0 1 0 1 0 1 1 1 ...\n",
            " $ Country                 : chr [1:1000] \"Tunisia\" \"Nauru\" \"San Marino\" \"Italy\" ...\n",
            " $ Timestamp               : POSIXct[1:1000], format: \"2016-03-27 00:53:11\" \"2016-04-04 01:39:02\" ...\n",
            " $ Clicked on Ad           : num [1:1000] 0 0 0 0 0 0 0 1 0 0 ...\n",
            " - attr(*, \"spec\")=\n",
            "  .. cols(\n",
            "  ..   `Daily Time Spent on Site` = \u001b[32mcol_double()\u001b[39m,\n",
            "  ..   Age = \u001b[32mcol_double()\u001b[39m,\n",
            "  ..   `Area Income` = \u001b[32mcol_double()\u001b[39m,\n",
            "  ..   `Daily Internet Usage` = \u001b[32mcol_double()\u001b[39m,\n",
            "  ..   `Ad Topic Line` = \u001b[31mcol_character()\u001b[39m,\n",
            "  ..   City = \u001b[31mcol_character()\u001b[39m,\n",
            "  ..   Male = \u001b[32mcol_double()\u001b[39m,\n",
            "  ..   Country = \u001b[31mcol_character()\u001b[39m,\n",
            "  ..   Timestamp = \u001b[34mcol_datetime(format = \"\")\u001b[39m,\n",
            "  ..   `Clicked on Ad` = \u001b[32mcol_double()\u001b[39m\n",
            "  .. )\n"
          ],
          "name": "stdout"
        }
      ]
    },
    {
      "cell_type": "code",
      "metadata": {
        "id": "AZHi4jtXP3YV",
        "outputId": "2f55a6b8-96fa-4295-c407-4065d112af62",
        "colab": {
          "base_uri": "https://localhost:8080/"
        }
      },
      "source": [
        "# This function is the dplyr-alternative to the well-known str function for base R, \n",
        "# and is thus helpful for a first inspection of the data set at hand.\n",
        "\n",
        "glimpse(df)\n",
        "\n",
        "# our datset has 1000 rows and 10 columns"
      ],
      "execution_count": 4,
      "outputs": [
        {
          "output_type": "stream",
          "text": [
            "Rows: 1,000\n",
            "Columns: 10\n",
            "$ `Daily Time Spent on Site` \u001b[3m\u001b[90m<dbl>\u001b[39m\u001b[23m 68.95, 80.23, 69.47, 74.15, 68.37, 59.99, …\n",
            "$ Age                        \u001b[3m\u001b[90m<dbl>\u001b[39m\u001b[23m 35, 31, 26, 29, 35, 23, 33, 48, 30, 20, 49…\n",
            "$ `Area Income`              \u001b[3m\u001b[90m<dbl>\u001b[39m\u001b[23m 61833.90, 68441.85, 59785.94, 54806.18, 73…\n",
            "$ `Daily Internet Usage`     \u001b[3m\u001b[90m<dbl>\u001b[39m\u001b[23m 256.09, 193.77, 236.50, 245.89, 225.58, 22…\n",
            "$ `Ad Topic Line`            \u001b[3m\u001b[90m<chr>\u001b[39m\u001b[23m \"Cloned 5thgeneration orchestration\", \"Mon…\n",
            "$ City                       \u001b[3m\u001b[90m<chr>\u001b[39m\u001b[23m \"Wrightburgh\", \"West Jodi\", \"Davidton\", \"W…\n",
            "$ Male                       \u001b[3m\u001b[90m<dbl>\u001b[39m\u001b[23m 0, 1, 0, 1, 0, 1, 0, 1, 1, 1, 0, 1, 1, 0, …\n",
            "$ Country                    \u001b[3m\u001b[90m<chr>\u001b[39m\u001b[23m \"Tunisia\", \"Nauru\", \"San Marino\", \"Italy\",…\n",
            "$ Timestamp                  \u001b[3m\u001b[90m<dttm>\u001b[39m\u001b[23m 2016-03-27 00:53:11, 2016-04-04 01:39:02,…\n",
            "$ `Clicked on Ad`            \u001b[3m\u001b[90m<dbl>\u001b[39m\u001b[23m 0, 0, 0, 0, 0, 0, 0, 1, 0, 0, 1, 0, 1, 0, …\n"
          ],
          "name": "stdout"
        }
      ]
    },
    {
      "cell_type": "code",
      "metadata": {
        "id": "B6vzUz5I0bA9"
      },
      "source": [
        "# attaching our columns to the timephase of the run \n",
        "\n",
        "attach(df)"
      ],
      "execution_count": 5,
      "outputs": []
    },
    {
      "cell_type": "code",
      "metadata": {
        "id": "XuKP2Fwrx4tv",
        "outputId": "465819bf-c4a9-4a5f-ed2f-85e28b0e8c1e",
        "colab": {
          "base_uri": "https://localhost:8080/",
          "height": 185
        }
      },
      "source": [
        "# Previewing the head of the dataset\n",
        "\n",
        "head(df)"
      ],
      "execution_count": 6,
      "outputs": [
        {
          "output_type": "display_data",
          "data": {
            "text/plain": [
              "  Daily Time Spent on Site Age Area Income Daily Internet Usage\n",
              "1 68.95                    35  61833.90    256.09              \n",
              "2 80.23                    31  68441.85    193.77              \n",
              "3 69.47                    26  59785.94    236.50              \n",
              "4 74.15                    29  54806.18    245.89              \n",
              "5 68.37                    35  73889.99    225.58              \n",
              "6 59.99                    23  59761.56    226.74              \n",
              "  Ad Topic Line                         City           Male Country   \n",
              "1 Cloned 5thgeneration orchestration    Wrightburgh    0    Tunisia   \n",
              "2 Monitored national standardization    West Jodi      1    Nauru     \n",
              "3 Organic bottom-line service-desk      Davidton       0    San Marino\n",
              "4 Triple-buffered reciprocal time-frame West Terrifurt 1    Italy     \n",
              "5 Robust logistical utilization         South Manuel   0    Iceland   \n",
              "6 Sharable client-driven software       Jamieberg      1    Norway    \n",
              "  Timestamp           Clicked on Ad\n",
              "1 2016-03-27 00:53:11 0            \n",
              "2 2016-04-04 01:39:02 0            \n",
              "3 2016-03-13 20:35:42 0            \n",
              "4 2016-01-10 02:31:19 0            \n",
              "5 2016-06-03 03:36:18 0            \n",
              "6 2016-05-19 14:30:17 0            "
            ],
            "text/latex": "A tibble: 6 × 10\n\\begin{tabular}{llllllllll}\n Daily Time Spent on Site & Age & Area Income & Daily Internet Usage & Ad Topic Line & City & Male & Country & Timestamp & Clicked on Ad\\\\\n <dbl> & <dbl> & <dbl> & <dbl> & <chr> & <chr> & <dbl> & <chr> & <dttm> & <dbl>\\\\\n\\hline\n\t 68.95 & 35 & 61833.90 & 256.09 & Cloned 5thgeneration orchestration    & Wrightburgh    & 0 & Tunisia    & 2016-03-27 00:53:11 & 0\\\\\n\t 80.23 & 31 & 68441.85 & 193.77 & Monitored national standardization    & West Jodi      & 1 & Nauru      & 2016-04-04 01:39:02 & 0\\\\\n\t 69.47 & 26 & 59785.94 & 236.50 & Organic bottom-line service-desk      & Davidton       & 0 & San Marino & 2016-03-13 20:35:42 & 0\\\\\n\t 74.15 & 29 & 54806.18 & 245.89 & Triple-buffered reciprocal time-frame & West Terrifurt & 1 & Italy      & 2016-01-10 02:31:19 & 0\\\\\n\t 68.37 & 35 & 73889.99 & 225.58 & Robust logistical utilization         & South Manuel   & 0 & Iceland    & 2016-06-03 03:36:18 & 0\\\\\n\t 59.99 & 23 & 59761.56 & 226.74 & Sharable client-driven software       & Jamieberg      & 1 & Norway     & 2016-05-19 14:30:17 & 0\\\\\n\\end{tabular}\n",
            "text/markdown": "\nA tibble: 6 × 10\n\n| Daily Time Spent on Site &lt;dbl&gt; | Age &lt;dbl&gt; | Area Income &lt;dbl&gt; | Daily Internet Usage &lt;dbl&gt; | Ad Topic Line &lt;chr&gt; | City &lt;chr&gt; | Male &lt;dbl&gt; | Country &lt;chr&gt; | Timestamp &lt;dttm&gt; | Clicked on Ad &lt;dbl&gt; |\n|---|---|---|---|---|---|---|---|---|---|\n| 68.95 | 35 | 61833.90 | 256.09 | Cloned 5thgeneration orchestration    | Wrightburgh    | 0 | Tunisia    | 2016-03-27 00:53:11 | 0 |\n| 80.23 | 31 | 68441.85 | 193.77 | Monitored national standardization    | West Jodi      | 1 | Nauru      | 2016-04-04 01:39:02 | 0 |\n| 69.47 | 26 | 59785.94 | 236.50 | Organic bottom-line service-desk      | Davidton       | 0 | San Marino | 2016-03-13 20:35:42 | 0 |\n| 74.15 | 29 | 54806.18 | 245.89 | Triple-buffered reciprocal time-frame | West Terrifurt | 1 | Italy      | 2016-01-10 02:31:19 | 0 |\n| 68.37 | 35 | 73889.99 | 225.58 | Robust logistical utilization         | South Manuel   | 0 | Iceland    | 2016-06-03 03:36:18 | 0 |\n| 59.99 | 23 | 59761.56 | 226.74 | Sharable client-driven software       | Jamieberg      | 1 | Norway     | 2016-05-19 14:30:17 | 0 |\n\n",
            "text/html": [
              "<table>\n",
              "<caption>A tibble: 6 × 10</caption>\n",
              "<thead>\n",
              "\t<tr><th scope=col>Daily Time Spent on Site</th><th scope=col>Age</th><th scope=col>Area Income</th><th scope=col>Daily Internet Usage</th><th scope=col>Ad Topic Line</th><th scope=col>City</th><th scope=col>Male</th><th scope=col>Country</th><th scope=col>Timestamp</th><th scope=col>Clicked on Ad</th></tr>\n",
              "\t<tr><th scope=col>&lt;dbl&gt;</th><th scope=col>&lt;dbl&gt;</th><th scope=col>&lt;dbl&gt;</th><th scope=col>&lt;dbl&gt;</th><th scope=col>&lt;chr&gt;</th><th scope=col>&lt;chr&gt;</th><th scope=col>&lt;dbl&gt;</th><th scope=col>&lt;chr&gt;</th><th scope=col>&lt;dttm&gt;</th><th scope=col>&lt;dbl&gt;</th></tr>\n",
              "</thead>\n",
              "<tbody>\n",
              "\t<tr><td>68.95</td><td>35</td><td>61833.90</td><td>256.09</td><td>Cloned 5thgeneration orchestration   </td><td>Wrightburgh   </td><td>0</td><td>Tunisia   </td><td>2016-03-27 00:53:11</td><td>0</td></tr>\n",
              "\t<tr><td>80.23</td><td>31</td><td>68441.85</td><td>193.77</td><td>Monitored national standardization   </td><td>West Jodi     </td><td>1</td><td>Nauru     </td><td>2016-04-04 01:39:02</td><td>0</td></tr>\n",
              "\t<tr><td>69.47</td><td>26</td><td>59785.94</td><td>236.50</td><td>Organic bottom-line service-desk     </td><td>Davidton      </td><td>0</td><td>San Marino</td><td>2016-03-13 20:35:42</td><td>0</td></tr>\n",
              "\t<tr><td>74.15</td><td>29</td><td>54806.18</td><td>245.89</td><td>Triple-buffered reciprocal time-frame</td><td>West Terrifurt</td><td>1</td><td>Italy     </td><td>2016-01-10 02:31:19</td><td>0</td></tr>\n",
              "\t<tr><td>68.37</td><td>35</td><td>73889.99</td><td>225.58</td><td>Robust logistical utilization        </td><td>South Manuel  </td><td>0</td><td>Iceland   </td><td>2016-06-03 03:36:18</td><td>0</td></tr>\n",
              "\t<tr><td>59.99</td><td>23</td><td>59761.56</td><td>226.74</td><td>Sharable client-driven software      </td><td>Jamieberg     </td><td>1</td><td>Norway    </td><td>2016-05-19 14:30:17</td><td>0</td></tr>\n",
              "</tbody>\n",
              "</table>\n"
            ]
          },
          "metadata": {
            "tags": []
          }
        }
      ]
    },
    {
      "cell_type": "code",
      "metadata": {
        "id": "rqN--RnOx9h3",
        "outputId": "0cb8ae01-fab7-496b-8adc-ff42698c4ae4",
        "colab": {
          "base_uri": "https://localhost:8080/",
          "height": 185
        }
      },
      "source": [
        "# Previewing the tail of the dataset\n",
        "\n",
        "tail(df)"
      ],
      "execution_count": 7,
      "outputs": [
        {
          "output_type": "display_data",
          "data": {
            "text/plain": [
              "  Daily Time Spent on Site Age Area Income Daily Internet Usage\n",
              "1 43.70                    28  63126.96    173.01              \n",
              "2 72.97                    30  71384.57    208.58              \n",
              "3 51.30                    45  67782.17    134.42              \n",
              "4 51.63                    51  42415.72    120.37              \n",
              "5 55.55                    19  41920.79    187.95              \n",
              "6 45.01                    26  29875.80    178.35              \n",
              "  Ad Topic Line                        City          Male\n",
              "1 Front-line bifurcated ability        Nicholasland  0   \n",
              "2 Fundamental modular algorithm        Duffystad     1   \n",
              "3 Grass-roots cohesive monitoring      New Darlene   1   \n",
              "4 Expanded intangible solution         South Jessica 1   \n",
              "5 Proactive bandwidth-monitored policy West Steven   0   \n",
              "6 Virtual 5thgeneration emulation      Ronniemouth   0   \n",
              "  Country                Timestamp           Clicked on Ad\n",
              "1 Mayotte                2016-04-04 03:57:48 1            \n",
              "2 Lebanon                2016-02-11 21:49:00 1            \n",
              "3 Bosnia and Herzegovina 2016-04-22 02:07:01 1            \n",
              "4 Mongolia               2016-02-01 17:24:57 1            \n",
              "5 Guatemala              2016-03-24 02:35:54 0            \n",
              "6 Brazil                 2016-06-03 21:43:21 1            "
            ],
            "text/latex": "A tibble: 6 × 10\n\\begin{tabular}{llllllllll}\n Daily Time Spent on Site & Age & Area Income & Daily Internet Usage & Ad Topic Line & City & Male & Country & Timestamp & Clicked on Ad\\\\\n <dbl> & <dbl> & <dbl> & <dbl> & <chr> & <chr> & <dbl> & <chr> & <dttm> & <dbl>\\\\\n\\hline\n\t 43.70 & 28 & 63126.96 & 173.01 & Front-line bifurcated ability        & Nicholasland  & 0 & Mayotte                & 2016-04-04 03:57:48 & 1\\\\\n\t 72.97 & 30 & 71384.57 & 208.58 & Fundamental modular algorithm        & Duffystad     & 1 & Lebanon                & 2016-02-11 21:49:00 & 1\\\\\n\t 51.30 & 45 & 67782.17 & 134.42 & Grass-roots cohesive monitoring      & New Darlene   & 1 & Bosnia and Herzegovina & 2016-04-22 02:07:01 & 1\\\\\n\t 51.63 & 51 & 42415.72 & 120.37 & Expanded intangible solution         & South Jessica & 1 & Mongolia               & 2016-02-01 17:24:57 & 1\\\\\n\t 55.55 & 19 & 41920.79 & 187.95 & Proactive bandwidth-monitored policy & West Steven   & 0 & Guatemala              & 2016-03-24 02:35:54 & 0\\\\\n\t 45.01 & 26 & 29875.80 & 178.35 & Virtual 5thgeneration emulation      & Ronniemouth   & 0 & Brazil                 & 2016-06-03 21:43:21 & 1\\\\\n\\end{tabular}\n",
            "text/markdown": "\nA tibble: 6 × 10\n\n| Daily Time Spent on Site &lt;dbl&gt; | Age &lt;dbl&gt; | Area Income &lt;dbl&gt; | Daily Internet Usage &lt;dbl&gt; | Ad Topic Line &lt;chr&gt; | City &lt;chr&gt; | Male &lt;dbl&gt; | Country &lt;chr&gt; | Timestamp &lt;dttm&gt; | Clicked on Ad &lt;dbl&gt; |\n|---|---|---|---|---|---|---|---|---|---|\n| 43.70 | 28 | 63126.96 | 173.01 | Front-line bifurcated ability        | Nicholasland  | 0 | Mayotte                | 2016-04-04 03:57:48 | 1 |\n| 72.97 | 30 | 71384.57 | 208.58 | Fundamental modular algorithm        | Duffystad     | 1 | Lebanon                | 2016-02-11 21:49:00 | 1 |\n| 51.30 | 45 | 67782.17 | 134.42 | Grass-roots cohesive monitoring      | New Darlene   | 1 | Bosnia and Herzegovina | 2016-04-22 02:07:01 | 1 |\n| 51.63 | 51 | 42415.72 | 120.37 | Expanded intangible solution         | South Jessica | 1 | Mongolia               | 2016-02-01 17:24:57 | 1 |\n| 55.55 | 19 | 41920.79 | 187.95 | Proactive bandwidth-monitored policy | West Steven   | 0 | Guatemala              | 2016-03-24 02:35:54 | 0 |\n| 45.01 | 26 | 29875.80 | 178.35 | Virtual 5thgeneration emulation      | Ronniemouth   | 0 | Brazil                 | 2016-06-03 21:43:21 | 1 |\n\n",
            "text/html": [
              "<table>\n",
              "<caption>A tibble: 6 × 10</caption>\n",
              "<thead>\n",
              "\t<tr><th scope=col>Daily Time Spent on Site</th><th scope=col>Age</th><th scope=col>Area Income</th><th scope=col>Daily Internet Usage</th><th scope=col>Ad Topic Line</th><th scope=col>City</th><th scope=col>Male</th><th scope=col>Country</th><th scope=col>Timestamp</th><th scope=col>Clicked on Ad</th></tr>\n",
              "\t<tr><th scope=col>&lt;dbl&gt;</th><th scope=col>&lt;dbl&gt;</th><th scope=col>&lt;dbl&gt;</th><th scope=col>&lt;dbl&gt;</th><th scope=col>&lt;chr&gt;</th><th scope=col>&lt;chr&gt;</th><th scope=col>&lt;dbl&gt;</th><th scope=col>&lt;chr&gt;</th><th scope=col>&lt;dttm&gt;</th><th scope=col>&lt;dbl&gt;</th></tr>\n",
              "</thead>\n",
              "<tbody>\n",
              "\t<tr><td>43.70</td><td>28</td><td>63126.96</td><td>173.01</td><td>Front-line bifurcated ability       </td><td>Nicholasland </td><td>0</td><td>Mayotte               </td><td>2016-04-04 03:57:48</td><td>1</td></tr>\n",
              "\t<tr><td>72.97</td><td>30</td><td>71384.57</td><td>208.58</td><td>Fundamental modular algorithm       </td><td>Duffystad    </td><td>1</td><td>Lebanon               </td><td>2016-02-11 21:49:00</td><td>1</td></tr>\n",
              "\t<tr><td>51.30</td><td>45</td><td>67782.17</td><td>134.42</td><td>Grass-roots cohesive monitoring     </td><td>New Darlene  </td><td>1</td><td>Bosnia and Herzegovina</td><td>2016-04-22 02:07:01</td><td>1</td></tr>\n",
              "\t<tr><td>51.63</td><td>51</td><td>42415.72</td><td>120.37</td><td>Expanded intangible solution        </td><td>South Jessica</td><td>1</td><td>Mongolia              </td><td>2016-02-01 17:24:57</td><td>1</td></tr>\n",
              "\t<tr><td>55.55</td><td>19</td><td>41920.79</td><td>187.95</td><td>Proactive bandwidth-monitored policy</td><td>West Steven  </td><td>0</td><td>Guatemala             </td><td>2016-03-24 02:35:54</td><td>0</td></tr>\n",
              "\t<tr><td>45.01</td><td>26</td><td>29875.80</td><td>178.35</td><td>Virtual 5thgeneration emulation     </td><td>Ronniemouth  </td><td>0</td><td>Brazil                </td><td>2016-06-03 21:43:21</td><td>1</td></tr>\n",
              "</tbody>\n",
              "</table>\n"
            ]
          },
          "metadata": {
            "tags": []
          }
        }
      ]
    },
    {
      "cell_type": "code",
      "metadata": {
        "id": "yKjUmq0ZL5rg",
        "outputId": "e5680cc6-ce76-4204-f6e6-4ca87845b673",
        "colab": {
          "base_uri": "https://localhost:8080/",
          "height": 34
        }
      },
      "source": [
        "# Finding the type of our dataset\n",
        "\n",
        "class(df)\n",
        "\n",
        "# The dataset is a dataframe\n",
        "# It is still a data.frame, but a special kind of data.frame, i.e. a tibble data.frame.\n",
        "# When printing a tibble data.frame, only the first 10 rows will be printed by default, \n",
        "# and variables that don’t fit within the width of the page or console will be hidden."
      ],
      "execution_count": 8,
      "outputs": [
        {
          "output_type": "display_data",
          "data": {
            "text/plain": [
              "[1] \"spec_tbl_df\" \"tbl_df\"      \"tbl\"         \"data.frame\" "
            ],
            "text/latex": "\\begin{enumerate*}\n\\item 'spec\\_tbl\\_df'\n\\item 'tbl\\_df'\n\\item 'tbl'\n\\item 'data.frame'\n\\end{enumerate*}\n",
            "text/markdown": "1. 'spec_tbl_df'\n2. 'tbl_df'\n3. 'tbl'\n4. 'data.frame'\n\n\n",
            "text/html": [
              "<style>\n",
              ".list-inline {list-style: none; margin:0; padding: 0}\n",
              ".list-inline>li {display: inline-block}\n",
              ".list-inline>li:not(:last-child)::after {content: \"\\00b7\"; padding: 0 .5ex}\n",
              "</style>\n",
              "<ol class=list-inline><li>'spec_tbl_df'</li><li>'tbl_df'</li><li>'tbl'</li><li>'data.frame'</li></ol>\n"
            ]
          },
          "metadata": {
            "tags": []
          }
        }
      ]
    },
    {
      "cell_type": "code",
      "metadata": {
        "id": "-cMe1hcd2W4w",
        "outputId": "dcdd8e06-32bb-4691-a1f3-87cf1b9377c5",
        "colab": {
          "base_uri": "https://localhost:8080/",
          "height": 34
        }
      },
      "source": [
        "# Calling the columns\n",
        "\n",
        "names(df)\n",
        "\n",
        "# Below are the column names "
      ],
      "execution_count": 9,
      "outputs": [
        {
          "output_type": "display_data",
          "data": {
            "text/plain": [
              " [1] \"Daily Time Spent on Site\" \"Age\"                     \n",
              " [3] \"Area Income\"              \"Daily Internet Usage\"    \n",
              " [5] \"Ad Topic Line\"            \"City\"                    \n",
              " [7] \"Male\"                     \"Country\"                 \n",
              " [9] \"Timestamp\"                \"Clicked on Ad\"           "
            ],
            "text/latex": "\\begin{enumerate*}\n\\item 'Daily Time Spent on Site'\n\\item 'Age'\n\\item 'Area Income'\n\\item 'Daily Internet Usage'\n\\item 'Ad Topic Line'\n\\item 'City'\n\\item 'Male'\n\\item 'Country'\n\\item 'Timestamp'\n\\item 'Clicked on Ad'\n\\end{enumerate*}\n",
            "text/markdown": "1. 'Daily Time Spent on Site'\n2. 'Age'\n3. 'Area Income'\n4. 'Daily Internet Usage'\n5. 'Ad Topic Line'\n6. 'City'\n7. 'Male'\n8. 'Country'\n9. 'Timestamp'\n10. 'Clicked on Ad'\n\n\n",
            "text/html": [
              "<style>\n",
              ".list-inline {list-style: none; margin:0; padding: 0}\n",
              ".list-inline>li {display: inline-block}\n",
              ".list-inline>li:not(:last-child)::after {content: \"\\00b7\"; padding: 0 .5ex}\n",
              "</style>\n",
              "<ol class=list-inline><li>'Daily Time Spent on Site'</li><li>'Age'</li><li>'Area Income'</li><li>'Daily Internet Usage'</li><li>'Ad Topic Line'</li><li>'City'</li><li>'Male'</li><li>'Country'</li><li>'Timestamp'</li><li>'Clicked on Ad'</li></ol>\n"
            ]
          },
          "metadata": {
            "tags": []
          }
        }
      ]
    },
    {
      "cell_type": "markdown",
      "metadata": {
        "id": "Q5GW4V2g-AdY"
      },
      "source": [
        "## Data cleaning"
      ]
    },
    {
      "cell_type": "code",
      "metadata": {
        "id": "T2LbKA3KzStV",
        "outputId": "0dc32181-03ef-4dba-bdd5-dd54c7a837ae",
        "colab": {
          "base_uri": "https://localhost:8080/",
          "height": 0
        }
      },
      "source": [
        "# Finding the total missing values in the dataset per column\n",
        "\n",
        "colSums(is.na(df))\n",
        "\n",
        "# Theres no missing data in our dataset"
      ],
      "execution_count": 10,
      "outputs": [
        {
          "output_type": "display_data",
          "data": {
            "text/plain": [
              "Daily Time Spent on Site                      Age              Area Income \n",
              "                       0                        0                        0 \n",
              "    Daily Internet Usage            Ad Topic Line                     City \n",
              "                       0                        0                        0 \n",
              "                    Male                  Country                Timestamp \n",
              "                       0                        0                        0 \n",
              "           Clicked on Ad \n",
              "                       0 "
            ],
            "text/latex": "\\begin{description*}\n\\item[Daily Time Spent on Site] 0\n\\item[Age] 0\n\\item[Area Income] 0\n\\item[Daily Internet Usage] 0\n\\item[Ad Topic Line] 0\n\\item[City] 0\n\\item[Male] 0\n\\item[Country] 0\n\\item[Timestamp] 0\n\\item[Clicked on Ad] 0\n\\end{description*}\n",
            "text/markdown": "Daily Time Spent on Site\n:   0Age\n:   0Area Income\n:   0Daily Internet Usage\n:   0Ad Topic Line\n:   0City\n:   0Male\n:   0Country\n:   0Timestamp\n:   0Clicked on Ad\n:   0\n\n",
            "text/html": [
              "<style>\n",
              ".dl-inline {width: auto; margin:0; padding: 0}\n",
              ".dl-inline>dt, .dl-inline>dd {float: none; width: auto; display: inline-block}\n",
              ".dl-inline>dt::after {content: \":\\0020\"; padding-right: .5ex}\n",
              ".dl-inline>dt:not(:first-of-type) {padding-left: .5ex}\n",
              "</style><dl class=dl-inline><dt>Daily Time Spent on Site</dt><dd>0</dd><dt>Age</dt><dd>0</dd><dt>Area Income</dt><dd>0</dd><dt>Daily Internet Usage</dt><dd>0</dd><dt>Ad Topic Line</dt><dd>0</dd><dt>City</dt><dd>0</dd><dt>Male</dt><dd>0</dd><dt>Country</dt><dd>0</dd><dt>Timestamp</dt><dd>0</dd><dt>Clicked on Ad</dt><dd>0</dd></dl>\n"
            ]
          },
          "metadata": {
            "tags": []
          }
        }
      ]
    },
    {
      "cell_type": "code",
      "metadata": {
        "id": "UpRhSZzwzh9a",
        "outputId": "b787b76b-0298-4357-e1ed-7b157e82d700",
        "colab": {
          "base_uri": "https://localhost:8080/",
          "height": 0
        }
      },
      "source": [
        "# Checking for duplicates\n",
        "\n",
        "any(duplicated(df))\n",
        "\n",
        "# There are no duplicates in our dataset"
      ],
      "execution_count": 11,
      "outputs": [
        {
          "output_type": "display_data",
          "data": {
            "text/plain": [
              "[1] FALSE"
            ],
            "text/latex": "FALSE",
            "text/markdown": "FALSE",
            "text/html": [
              "FALSE"
            ]
          },
          "metadata": {
            "tags": []
          }
        }
      ]
    },
    {
      "cell_type": "code",
      "metadata": {
        "id": "0LxKacTlz9jW",
        "outputId": "02d56bf7-3526-4097-ad40-e0c586a440ed",
        "colab": {
          "base_uri": "https://localhost:8080/",
          "height": 0
        }
      },
      "source": [
        "# Shape of the dataset\n",
        "\n",
        "dim(df)\n",
        "\n",
        "# Our dataset contains 1000 rows and 10 columns"
      ],
      "execution_count": 12,
      "outputs": [
        {
          "output_type": "display_data",
          "data": {
            "text/plain": [
              "[1] 1000   10"
            ],
            "text/latex": "\\begin{enumerate*}\n\\item 1000\n\\item 10\n\\end{enumerate*}\n",
            "text/markdown": "1. 1000\n2. 10\n\n\n",
            "text/html": [
              "<style>\n",
              ".list-inline {list-style: none; margin:0; padding: 0}\n",
              ".list-inline>li {display: inline-block}\n",
              ".list-inline>li:not(:last-child)::after {content: \"\\00b7\"; padding: 0 .5ex}\n",
              "</style>\n",
              "<ol class=list-inline><li>1000</li><li>10</li></ol>\n"
            ]
          },
          "metadata": {
            "tags": []
          }
        }
      ]
    },
    {
      "cell_type": "code",
      "metadata": {
        "id": "TcY8RKph00ri",
        "outputId": "0c80dbe1-0300-48f4-8653-5e5b8e1f7ef4",
        "colab": {
          "base_uri": "https://localhost:8080/",
          "height": 0
        }
      },
      "source": [
        "# Checking for outliers\n",
        "\n",
        "boxplot(`Area Income`)\n",
        "\n",
        "# Few otliers noted "
      ],
      "execution_count": 13,
      "outputs": [
        {
          "output_type": "display_data",
          "data": {
            "image/png": "[encoded data removed]",
            "text/plain": [
              "plot without title"
            ]
          },
          "metadata": {
            "tags": [],
            "image/png": {
              "width": 420,
              "height": 420
            }
          }
        }
      ]
    },
    {
      "cell_type": "code",
      "metadata": {
        "id": "KInsLuON9NMJ",
        "outputId": "f2355de8-b263-4ba8-a21c-d4f1ebf98b9f",
        "colab": {
          "base_uri": "https://localhost:8080/",
          "height": 0
        }
      },
      "source": [
        "# Showing the outliers in area income\n",
        "boxplot.stats(`Area Income`)$out"
      ],
      "execution_count": 14,
      "outputs": [
        {
          "output_type": "display_data",
          "data": {
            "text/plain": [
              "[1] 17709.98 18819.34 15598.29 15879.10 14548.06 13996.50 14775.50 18368.57"
            ],
            "text/latex": "\\begin{enumerate*}\n\\item 17709.98\n\\item 18819.34\n\\item 15598.29\n\\item 15879.1\n\\item 14548.06\n\\item 13996.5\n\\item 14775.5\n\\item 18368.57\n\\end{enumerate*}\n",
            "text/markdown": "1. 17709.98\n2. 18819.34\n3. 15598.29\n4. 15879.1\n5. 14548.06\n6. 13996.5\n7. 14775.5\n8. 18368.57\n\n\n",
            "text/html": [
              "<style>\n",
              ".list-inline {list-style: none; margin:0; padding: 0}\n",
              ".list-inline>li {display: inline-block}\n",
              ".list-inline>li:not(:last-child)::after {content: \"\\00b7\"; padding: 0 .5ex}\n",
              "</style>\n",
              "<ol class=list-inline><li>17709.98</li><li>18819.34</li><li>15598.29</li><li>15879.1</li><li>14548.06</li><li>13996.5</li><li>14775.5</li><li>18368.57</li></ol>\n"
            ]
          },
          "metadata": {
            "tags": []
          }
        }
      ]
    },
    {
      "cell_type": "code",
      "metadata": {
        "id": "juND-DHu8pMG",
        "outputId": "93fe15fa-110b-4ad4-9079-1757792bdd61",
        "colab": {
          "base_uri": "https://localhost:8080/",
          "height": 0
        }
      },
      "source": [
        "boxplot(Timestamp)\n",
        "# No outliers on timestamp"
      ],
      "execution_count": 15,
      "outputs": [
        {
          "output_type": "display_data",
          "data": {
            "image/png": "[encoded data removed]",
            "text/plain": [
              "plot without title"
            ]
          },
          "metadata": {
            "tags": [],
            "image/png": {
              "width": 420,
              "height": 420
            }
          }
        }
      ]
    },
    {
      "cell_type": "code",
      "metadata": {
        "id": "MrindcvtNHFf",
        "outputId": "f8b31947-3650-4a8e-d49b-5a4e08288c62",
        "colab": {
          "base_uri": "https://localhost:8080/",
          "height": 0
        }
      },
      "source": [
        "# A boxplot for Age, Daily Internet usage and Daily time spent on site\n",
        "\n",
        "boxplot(df$Age, df$`Daily Internet Usage`, df$`Daily Time Spent on Site`)"
      ],
      "execution_count": 16,
      "outputs": [
        {
          "output_type": "display_data",
          "data": {
            "image/png": "[encoded data removed]",
            "text/plain": [
              "plot without title"
            ]
          },
          "metadata": {
            "tags": [],
            "image/png": {
              "width": 420,
              "height": 420
            }
          }
        }
      ]
    },
    {
      "cell_type": "markdown",
      "metadata": {
        "id": "A-utRNsT9rhv"
      },
      "source": [
        "# **EDA**"
      ]
    },
    {
      "cell_type": "markdown",
      "metadata": {
        "id": "4alRTWdF-IKq"
      },
      "source": [
        "## Univariate"
      ]
    },
    {
      "cell_type": "code",
      "metadata": {
        "id": "e0yvCNq4-gs5",
        "outputId": "6e434cb1-e8d5-48f7-df15-3faf36c4cadf",
        "colab": {
          "base_uri": "https://localhost:8080/",
          "height": 0
        }
      },
      "source": [
        "# Shows the mean, median, minimum, maximum, mode, 1st and 3rd quartile of each numeric column in the dataset\n",
        "# Measures of centrality are mean, median. \n",
        "# Measures of spread are standard deviation, quantiles, min and max, range, interquartile range.\n",
        "\n",
        "summary(df)"
      ],
      "execution_count": 17,
      "outputs": [
        {
          "output_type": "display_data",
          "data": {
            "text/plain": [
              " Daily Time Spent on Site      Age         Area Income    Daily Internet Usage\n",
              " Min.   :32.60            Min.   :19.00   Min.   :13996   Min.   :104.8       \n",
              " 1st Qu.:51.36            1st Qu.:29.00   1st Qu.:47032   1st Qu.:138.8       \n",
              " Median :68.22            Median :35.00   Median :57012   Median :183.1       \n",
              " Mean   :65.00            Mean   :36.01   Mean   :55000   Mean   :180.0       \n",
              " 3rd Qu.:78.55            3rd Qu.:42.00   3rd Qu.:65471   3rd Qu.:218.8       \n",
              " Max.   :91.43            Max.   :61.00   Max.   :79485   Max.   :270.0       \n",
              " Ad Topic Line          City                Male         Country         \n",
              " Length:1000        Length:1000        Min.   :0.000   Length:1000       \n",
              " Class :character   Class :character   1st Qu.:0.000   Class :character  \n",
              " Mode  :character   Mode  :character   Median :0.000   Mode  :character  \n",
              "                                       Mean   :0.481                     \n",
              "                                       3rd Qu.:1.000                     \n",
              "                                       Max.   :1.000                     \n",
              "   Timestamp                   Clicked on Ad\n",
              " Min.   :2016-01-01 02:52:10   Min.   :0.0  \n",
              " 1st Qu.:2016-02-18 02:55:42   1st Qu.:0.0  \n",
              " Median :2016-04-07 17:27:29   Median :0.5  \n",
              " Mean   :2016-04-10 10:34:06   Mean   :0.5  \n",
              " 3rd Qu.:2016-05-31 03:18:14   3rd Qu.:1.0  \n",
              " Max.   :2016-07-24 00:22:16   Max.   :1.0  "
            ]
          },
          "metadata": {
            "tags": []
          }
        }
      ]
    },
    {
      "cell_type": "code",
      "metadata": {
        "id": "GoTReZLIlThu",
        "outputId": "5855a526-1ed9-4ab9-c005-c2e7aa0ffc9f",
        "colab": {
          "base_uri": "https://localhost:8080/",
          "height": 0
        }
      },
      "source": [
        "# This function provides the ones most useful for scale construction and item analysis in classic psychometrics. \n",
        "# Range is most useful for the first pass in a data set, to check for coding errors.\n",
        "\n",
        "install.packages(\"psych\")\n",
        "library(psych)\n",
        "describe(df)"
      ],
      "execution_count": 18,
      "outputs": [
        {
          "output_type": "stream",
          "text": [
            "Installing package into ‘/usr/local/lib/R/site-library’\n",
            "(as ‘lib’ is unspecified)\n",
            "\n",
            "Warning message in FUN(newX[, i], ...):\n",
            "“no non-missing arguments to min; returning Inf”\n",
            "Warning message in FUN(newX[, i], ...):\n",
            "“no non-missing arguments to max; returning -Inf”\n"
          ],
          "name": "stderr"
        },
        {
          "output_type": "display_data",
          "data": {
            "text/plain": [
              "                         vars n    mean       sd           median   \n",
              "Daily Time Spent on Site  1   1000    65.0002 1.585361e+01    68.215\n",
              "Age                       2   1000    36.0090 8.785562e+00    35.000\n",
              "Area Income               3   1000 55000.0001 1.341463e+04 57012.300\n",
              "Daily Internet Usage      4   1000   180.0001 4.390234e+01   183.130\n",
              "Ad Topic Line*            5   1000   500.5000 2.888194e+02   500.500\n",
              "City*                     6   1000   487.3230 2.793116e+02   485.500\n",
              "Male                      7   1000     0.4810 4.998889e-01     0.000\n",
              "Country*                  8   1000   116.4090 6.994214e+01   114.500\n",
              "Timestamp                 9   1000        NaN           NA        NA\n",
              "Clicked on Ad            10   1000     0.5000 5.002502e-01     0.500\n",
              "                         trimmed     mad         min      max      range   \n",
              "Daily Time Spent on Site    65.74090    17.92463    32.60    91.43    58.83\n",
              "Age                         35.50625     8.89560    19.00    61.00    42.00\n",
              "Area Income              56038.93815 13316.62424 13996.50 79484.80 65488.30\n",
              "Daily Internet Usage       179.98620    58.61459   104.78   269.96   165.18\n",
              "Ad Topic Line*             500.50000   370.65000     1.00  1000.00   999.00\n",
              "City*                      487.51125   356.56530     1.00   969.00   968.00\n",
              "Male                         0.47625     0.00000     0.00     1.00     1.00\n",
              "Country*                   115.81875    89.69730     1.00   237.00   236.00\n",
              "Timestamp                        NaN          NA      Inf     -Inf     -Inf\n",
              "Clicked on Ad                0.50000     0.74130     0.00     1.00     1.00\n",
              "                         skew         kurtosis   se          \n",
              "Daily Time Spent on Site -0.370645950 -1.0998638   0.50133531\n",
              "Age                       0.477705222 -0.4097066   0.27782387\n",
              "Area Income              -0.648422850 -0.1110924 424.20797488\n",
              "Daily Internet Usage     -0.033436814 -1.2757525   1.38831387\n",
              "Ad Topic Line*            0.000000000 -1.2036006   9.13327251\n",
              "City*                    -0.002957293 -1.1893592   8.83260741\n",
              "Male                      0.075940878 -1.9962262   0.01580787\n",
              "Country*                  0.076151967 -1.2328105   2.21176482\n",
              "Timestamp                          NA         NA           NA\n",
              "Clicked on Ad             0.000000000 -2.0019990   0.01581930"
            ],
            "text/latex": "A psych: 10 × 13\n\\begin{tabular}{r|lllllllllllll}\n  & vars & n & mean & sd & median & trimmed & mad & min & max & range & skew & kurtosis & se\\\\\n  & <int> & <dbl> & <dbl> & <dbl> & <dbl> & <dbl> & <dbl> & <dbl> & <dbl> & <dbl> & <dbl> & <dbl> & <dbl>\\\\\n\\hline\n\tDaily Time Spent on Site &  1 & 1000 &    65.0002 & 1.585361e+01 &    68.215 &    65.74090 &    17.92463 &    32.60 &    91.43 &    58.83 & -0.370645950 & -1.0998638 &   0.50133531\\\\\n\tAge &  2 & 1000 &    36.0090 & 8.785562e+00 &    35.000 &    35.50625 &     8.89560 &    19.00 &    61.00 &    42.00 &  0.477705222 & -0.4097066 &   0.27782387\\\\\n\tArea Income &  3 & 1000 & 55000.0001 & 1.341463e+04 & 57012.300 & 56038.93815 & 13316.62424 & 13996.50 & 79484.80 & 65488.30 & -0.648422850 & -0.1110924 & 424.20797488\\\\\n\tDaily Internet Usage &  4 & 1000 &   180.0001 & 4.390234e+01 &   183.130 &   179.98620 &    58.61459 &   104.78 &   269.96 &   165.18 & -0.033436814 & -1.2757525 &   1.38831387\\\\\n\tAd Topic Line* &  5 & 1000 &   500.5000 & 2.888194e+02 &   500.500 &   500.50000 &   370.65000 &     1.00 &  1000.00 &   999.00 &  0.000000000 & -1.2036006 &   9.13327251\\\\\n\tCity* &  6 & 1000 &   487.3230 & 2.793116e+02 &   485.500 &   487.51125 &   356.56530 &     1.00 &   969.00 &   968.00 & -0.002957293 & -1.1893592 &   8.83260741\\\\\n\tMale &  7 & 1000 &     0.4810 & 4.998889e-01 &     0.000 &     0.47625 &     0.00000 &     0.00 &     1.00 &     1.00 &  0.075940878 & -1.9962262 &   0.01580787\\\\\n\tCountry* &  8 & 1000 &   116.4090 & 6.994214e+01 &   114.500 &   115.81875 &    89.69730 &     1.00 &   237.00 &   236.00 &  0.076151967 & -1.2328105 &   2.21176482\\\\\n\tTimestamp &  9 & 1000 &        NaN &           NA &        NA &         NaN &          NA &      Inf &     -Inf &     -Inf &           NA &         NA &           NA\\\\\n\tClicked on Ad & 10 & 1000 &     0.5000 & 5.002502e-01 &     0.500 &     0.50000 &     0.74130 &     0.00 &     1.00 &     1.00 &  0.000000000 & -2.0019990 &   0.01581930\\\\\n\\end{tabular}\n",
            "text/markdown": "\nA psych: 10 × 13\n\n| <!--/--> | vars &lt;int&gt; | n &lt;dbl&gt; | mean &lt;dbl&gt; | sd &lt;dbl&gt; | median &lt;dbl&gt; | trimmed &lt;dbl&gt; | mad &lt;dbl&gt; | min &lt;dbl&gt; | max &lt;dbl&gt; | range &lt;dbl&gt; | skew &lt;dbl&gt; | kurtosis &lt;dbl&gt; | se &lt;dbl&gt; |\n|---|---|---|---|---|---|---|---|---|---|---|---|---|---|\n| Daily Time Spent on Site |  1 | 1000 |    65.0002 | 1.585361e+01 |    68.215 |    65.74090 |    17.92463 |    32.60 |    91.43 |    58.83 | -0.370645950 | -1.0998638 |   0.50133531 |\n| Age |  2 | 1000 |    36.0090 | 8.785562e+00 |    35.000 |    35.50625 |     8.89560 |    19.00 |    61.00 |    42.00 |  0.477705222 | -0.4097066 |   0.27782387 |\n| Area Income |  3 | 1000 | 55000.0001 | 1.341463e+04 | 57012.300 | 56038.93815 | 13316.62424 | 13996.50 | 79484.80 | 65488.30 | -0.648422850 | -0.1110924 | 424.20797488 |\n| Daily Internet Usage |  4 | 1000 |   180.0001 | 4.390234e+01 |   183.130 |   179.98620 |    58.61459 |   104.78 |   269.96 |   165.18 | -0.033436814 | -1.2757525 |   1.38831387 |\n| Ad Topic Line* |  5 | 1000 |   500.5000 | 2.888194e+02 |   500.500 |   500.50000 |   370.65000 |     1.00 |  1000.00 |   999.00 |  0.000000000 | -1.2036006 |   9.13327251 |\n| City* |  6 | 1000 |   487.3230 | 2.793116e+02 |   485.500 |   487.51125 |   356.56530 |     1.00 |   969.00 |   968.00 | -0.002957293 | -1.1893592 |   8.83260741 |\n| Male |  7 | 1000 |     0.4810 | 4.998889e-01 |     0.000 |     0.47625 |     0.00000 |     0.00 |     1.00 |     1.00 |  0.075940878 | -1.9962262 |   0.01580787 |\n| Country* |  8 | 1000 |   116.4090 | 6.994214e+01 |   114.500 |   115.81875 |    89.69730 |     1.00 |   237.00 |   236.00 |  0.076151967 | -1.2328105 |   2.21176482 |\n| Timestamp |  9 | 1000 |        NaN |           NA |        NA |         NaN |          NA |      Inf |     -Inf |     -Inf |           NA |         NA |           NA |\n| Clicked on Ad | 10 | 1000 |     0.5000 | 5.002502e-01 |     0.500 |     0.50000 |     0.74130 |     0.00 |     1.00 |     1.00 |  0.000000000 | -2.0019990 |   0.01581930 |\n\n",
            "text/html": [
              "<table>\n",
              "<caption>A psych: 10 × 13</caption>\n",
              "<thead>\n",
              "\t<tr><th></th><th scope=col>vars</th><th scope=col>n</th><th scope=col>mean</th><th scope=col>sd</th><th scope=col>median</th><th scope=col>trimmed</th><th scope=col>mad</th><th scope=col>min</th><th scope=col>max</th><th scope=col>range</th><th scope=col>skew</th><th scope=col>kurtosis</th><th scope=col>se</th></tr>\n",
              "\t<tr><th></th><th scope=col>&lt;int&gt;</th><th scope=col>&lt;dbl&gt;</th><th scope=col>&lt;dbl&gt;</th><th scope=col>&lt;dbl&gt;</th><th scope=col>&lt;dbl&gt;</th><th scope=col>&lt;dbl&gt;</th><th scope=col>&lt;dbl&gt;</th><th scope=col>&lt;dbl&gt;</th><th scope=col>&lt;dbl&gt;</th><th scope=col>&lt;dbl&gt;</th><th scope=col>&lt;dbl&gt;</th><th scope=col>&lt;dbl&gt;</th><th scope=col>&lt;dbl&gt;</th></tr>\n",
              "</thead>\n",
              "<tbody>\n",
              "\t<tr><th scope=row>Daily Time Spent on Site</th><td> 1</td><td>1000</td><td>   65.0002</td><td>1.585361e+01</td><td>   68.215</td><td>   65.74090</td><td>   17.92463</td><td>   32.60</td><td>   91.43</td><td>   58.83</td><td>-0.370645950</td><td>-1.0998638</td><td>  0.50133531</td></tr>\n",
              "\t<tr><th scope=row>Age</th><td> 2</td><td>1000</td><td>   36.0090</td><td>8.785562e+00</td><td>   35.000</td><td>   35.50625</td><td>    8.89560</td><td>   19.00</td><td>   61.00</td><td>   42.00</td><td> 0.477705222</td><td>-0.4097066</td><td>  0.27782387</td></tr>\n",
              "\t<tr><th scope=row>Area Income</th><td> 3</td><td>1000</td><td>55000.0001</td><td>1.341463e+04</td><td>57012.300</td><td>56038.93815</td><td>13316.62424</td><td>13996.50</td><td>79484.80</td><td>65488.30</td><td>-0.648422850</td><td>-0.1110924</td><td>424.20797488</td></tr>\n",
              "\t<tr><th scope=row>Daily Internet Usage</th><td> 4</td><td>1000</td><td>  180.0001</td><td>4.390234e+01</td><td>  183.130</td><td>  179.98620</td><td>   58.61459</td><td>  104.78</td><td>  269.96</td><td>  165.18</td><td>-0.033436814</td><td>-1.2757525</td><td>  1.38831387</td></tr>\n",
              "\t<tr><th scope=row>Ad Topic Line*</th><td> 5</td><td>1000</td><td>  500.5000</td><td>2.888194e+02</td><td>  500.500</td><td>  500.50000</td><td>  370.65000</td><td>    1.00</td><td> 1000.00</td><td>  999.00</td><td> 0.000000000</td><td>-1.2036006</td><td>  9.13327251</td></tr>\n",
              "\t<tr><th scope=row>City*</th><td> 6</td><td>1000</td><td>  487.3230</td><td>2.793116e+02</td><td>  485.500</td><td>  487.51125</td><td>  356.56530</td><td>    1.00</td><td>  969.00</td><td>  968.00</td><td>-0.002957293</td><td>-1.1893592</td><td>  8.83260741</td></tr>\n",
              "\t<tr><th scope=row>Male</th><td> 7</td><td>1000</td><td>    0.4810</td><td>4.998889e-01</td><td>    0.000</td><td>    0.47625</td><td>    0.00000</td><td>    0.00</td><td>    1.00</td><td>    1.00</td><td> 0.075940878</td><td>-1.9962262</td><td>  0.01580787</td></tr>\n",
              "\t<tr><th scope=row>Country*</th><td> 8</td><td>1000</td><td>  116.4090</td><td>6.994214e+01</td><td>  114.500</td><td>  115.81875</td><td>   89.69730</td><td>    1.00</td><td>  237.00</td><td>  236.00</td><td> 0.076151967</td><td>-1.2328105</td><td>  2.21176482</td></tr>\n",
              "\t<tr><th scope=row>Timestamp</th><td> 9</td><td>1000</td><td>       NaN</td><td>          NA</td><td>       NA</td><td>        NaN</td><td>         NA</td><td>     Inf</td><td>    -Inf</td><td>    -Inf</td><td>          NA</td><td>        NA</td><td>          NA</td></tr>\n",
              "\t<tr><th scope=row>Clicked on Ad</th><td>10</td><td>1000</td><td>    0.5000</td><td>5.002502e-01</td><td>    0.500</td><td>    0.50000</td><td>    0.74130</td><td>    0.00</td><td>    1.00</td><td>    1.00</td><td> 0.000000000</td><td>-2.0019990</td><td>  0.01581930</td></tr>\n",
              "</tbody>\n",
              "</table>\n"
            ]
          },
          "metadata": {
            "tags": []
          }
        }
      ]
    },
    {
      "cell_type": "markdown",
      "metadata": {
        "id": "9E1ISWvadCcZ"
      },
      "source": [
        "* trimed is the eman after elimination of some rows to calculate the mean and see if the mean will change much i.e. the removed rows to what extent do they affect the true mean\n",
        "* se is the standard error of the error term"
      ]
    },
    {
      "cell_type": "markdown",
      "metadata": {
        "id": "NhGfuwH6PZia"
      },
      "source": [
        "* The skewness and Kurtosis are defined above.\n",
        "* Daily Time Spent on Site, Area Income, Daily internet usage are negtively skewed, i.e. they are skewed to the left while the other variables / columns are skewed to the right / positively skewed\n"
      ]
    },
    {
      "cell_type": "markdown",
      "metadata": {
        "id": "rprRpW3ol39L"
      },
      "source": [
        "* The variables of the df object returned by describe() are as follows.\n",
        "-- n : number of observations excluding missing values\n",
        "-- na : number of missing values\n",
        "-- mean : arithmetic average\n",
        "-- sd : standard devation\n",
        "-- skewness : skewness\n",
        "-- kurtosis : kurtosis\n",
        "-- se: standrd error "
      ]
    },
    {
      "cell_type": "code",
      "metadata": {
        "id": "A2MiLmWW_G9W",
        "outputId": "966e9aca-e5da-4a1f-930a-f398223aa642",
        "colab": {
          "base_uri": "https://localhost:8080/",
          "height": 0
        }
      },
      "source": [
        "# Variance and standard deviation of the dataset\n",
        "install.packages(\"pander\")\n",
        "library(pander)\n",
        "mpg %>%\n",
        "    summarize(variable = \"Daily Time Spent on Site\", Variance = var(`Daily Time Spent on Site`), Standard_Deviation = sd(`Daily Time Spent on Site`)) %>%\n",
        "    pander\n",
        "var(`Daily Time Spent on Site`)\n",
        "sd(`Daily Time Spent on Site`)"
      ],
      "execution_count": 19,
      "outputs": [
        {
          "output_type": "stream",
          "text": [
            "Installing package into ‘/usr/local/lib/R/site-library’\n",
            "(as ‘lib’ is unspecified)\n",
            "\n",
            "\n",
            "Attaching package: ‘pander’\n",
            "\n",
            "\n",
            "The following object is masked from ‘package:GGally’:\n",
            "\n",
            "    wrap\n",
            "\n",
            "\n"
          ],
          "name": "stderr"
        },
        {
          "output_type": "stream",
          "text": [
            "\n",
            "\n",
            "|         variable         | Variance | Standard_Deviation |\n",
            "|:------------------------:|:--------:|:------------------:|\n",
            "| Daily Time Spent on Site |  251.3   |       15.85        |\n",
            "\n"
          ],
          "name": "stdout"
        },
        {
          "output_type": "display_data",
          "data": {
            "text/plain": [
              "[1] 251.3371"
            ],
            "text/latex": "251.337094854855",
            "text/markdown": "251.337094854855",
            "text/html": [
              "251.337094854855"
            ]
          },
          "metadata": {
            "tags": []
          }
        },
        {
          "output_type": "display_data",
          "data": {
            "text/plain": [
              "[1] 15.85361"
            ],
            "text/latex": "15.8536145675002",
            "text/markdown": "15.8536145675002",
            "text/html": [
              "15.8536145675002"
            ]
          },
          "metadata": {
            "tags": []
          }
        }
      ]
    },
    {
      "cell_type": "code",
      "metadata": {
        "id": "WQ2ICcXM_KFd",
        "outputId": "c5529216-8d73-4708-804a-649bede60e32",
        "colab": {
          "base_uri": "https://localhost:8080/",
          "height": 0
        }
      },
      "source": [
        "# Variance and standard deviation of the dataset\n",
        "mpg %>%\n",
        "    summarize(variable = \"Age\", Variance = var(Age), Standard_Deviation = sd(Age)) %>%\n",
        "    pander\n",
        "var(Age)\n",
        "sd(Age)"
      ],
      "execution_count": 20,
      "outputs": [
        {
          "output_type": "stream",
          "text": [
            "\n",
            "\n",
            "| variable | Variance | Standard_Deviation |\n",
            "|:--------:|:--------:|:------------------:|\n",
            "|   Age    |  77.19   |       8.786        |\n",
            "\n"
          ],
          "name": "stdout"
        },
        {
          "output_type": "display_data",
          "data": {
            "text/plain": [
              "[1] 77.18611"
            ],
            "text/latex": "77.1861051051051",
            "text/markdown": "77.1861051051051",
            "text/html": [
              "77.1861051051051"
            ]
          },
          "metadata": {
            "tags": []
          }
        },
        {
          "output_type": "display_data",
          "data": {
            "text/plain": [
              "[1] 8.785562"
            ],
            "text/latex": "8.78556231012592",
            "text/markdown": "8.78556231012592",
            "text/html": [
              "8.78556231012592"
            ]
          },
          "metadata": {
            "tags": []
          }
        }
      ]
    },
    {
      "cell_type": "code",
      "metadata": {
        "id": "Qe_20EJe_Mrl",
        "outputId": "6a3e6f9b-523e-4549-c3dd-659226ddf8e2",
        "colab": {
          "base_uri": "https://localhost:8080/",
          "height": 0
        }
      },
      "source": [
        "# Variance and standard deviation of the dataset\n",
        "mpg %>%\n",
        "    summarize(variable = \"Area Income\", Variance = var(`Area Income`), Standard_Deviation = sd(`Area Income`)) %>%\n",
        "    pander\n",
        "var(`Area Income`)\n",
        "sd(`Area Income`)"
      ],
      "execution_count": 21,
      "outputs": [
        {
          "output_type": "stream",
          "text": [
            "\n",
            "\n",
            "|  variable   | Variance | Standard_Deviation |\n",
            "|:-----------:|:--------:|:------------------:|\n",
            "| Area Income | 1.8e+08  |       13415        |\n",
            "\n"
          ],
          "name": "stdout"
        },
        {
          "output_type": "display_data",
          "data": {
            "text/plain": [
              "[1] 179952406"
            ],
            "text/latex": "179952405.951775",
            "text/markdown": "179952405.951775",
            "text/html": [
              "179952405.951775"
            ]
          },
          "metadata": {
            "tags": []
          }
        },
        {
          "output_type": "display_data",
          "data": {
            "text/plain": [
              "[1] 13414.63"
            ],
            "text/latex": "13414.6340222824",
            "text/markdown": "13414.6340222824",
            "text/html": [
              "13414.6340222824"
            ]
          },
          "metadata": {
            "tags": []
          }
        }
      ]
    },
    {
      "cell_type": "code",
      "metadata": {
        "id": "eng8ZVCp-8Gb",
        "outputId": "11a3b58f-d586-4a6d-b466-387b0c4969ee",
        "colab": {
          "base_uri": "https://localhost:8080/",
          "height": 0
        }
      },
      "source": [
        "# Variance and standard deviation of the dataset\n",
        "mpg %>%\n",
        "    summarize(variable = \"Daily Internet Usage\", Variance = var(`Daily Internet Usage`), Standard_Deviation = sd(`Daily Internet Usage`)) %>%\n",
        "    pander\n",
        "var(`Daily Internet Usage`)"
      ],
      "execution_count": 22,
      "outputs": [
        {
          "output_type": "stream",
          "text": [
            "\n",
            "\n",
            "|       variable       | Variance | Standard_Deviation |\n",
            "|:--------------------:|:--------:|:------------------:|\n",
            "| Daily Internet Usage |   1927   |        43.9        |\n",
            "\n"
          ],
          "name": "stdout"
        },
        {
          "output_type": "display_data",
          "data": {
            "text/plain": [
              "[1] 1927.415"
            ],
            "text/latex": "1927.41539618619",
            "text/markdown": "1927.41539618619",
            "text/html": [
              "1927.41539618619"
            ]
          },
          "metadata": {
            "tags": []
          }
        }
      ]
    },
    {
      "cell_type": "code",
      "metadata": {
        "id": "M-mye3XE_qm5",
        "outputId": "24bb8563-62da-44f4-931b-6b16091c8967",
        "colab": {
          "base_uri": "https://localhost:8080/",
          "height": 0
        }
      },
      "source": [
        "# Variance and standard deviation of the dataset\n",
        "mpg %>%\n",
        "    summarize(variable = \"Timestamp\", Variance = var(Timestamp), Standard_Deviation = sd(Timestamp)) %>%\n",
        "    pander\n",
        "var(Timestamp)\n",
        "sd(Timestamp)"
      ],
      "execution_count": 23,
      "outputs": [
        {
          "output_type": "stream",
          "text": [
            "\n",
            "\n",
            "| variable  | Variance  | Standard_Deviation |\n",
            "|:---------:|:---------:|:------------------:|\n",
            "| Timestamp | 2.591e+13 |      5089978       |\n",
            "\n"
          ],
          "name": "stdout"
        },
        {
          "output_type": "display_data",
          "data": {
            "text/plain": [
              "[1] 2.590788e+13"
            ],
            "text/latex": "25907880113086.1",
            "text/markdown": "25907880113086.1",
            "text/html": [
              "25907880113086.1"
            ]
          },
          "metadata": {
            "tags": []
          }
        },
        {
          "output_type": "display_data",
          "data": {
            "text/plain": [
              "[1] 5089978"
            ],
            "text/latex": "5089978.40006085",
            "text/markdown": "5089978.40006085",
            "text/html": [
              "5089978.40006085"
            ]
          },
          "metadata": {
            "tags": []
          }
        }
      ]
    },
    {
      "cell_type": "code",
      "metadata": {
        "id": "DntT0C5t_tIW",
        "outputId": "d2e06846-39bc-4368-e1a5-df7e80839fdb",
        "colab": {
          "base_uri": "https://localhost:8080/",
          "height": 0
        }
      },
      "source": [
        "# Variance and standard deviation of the dataset\n",
        "mpg %>%\n",
        "    summarize(variable = \"Click On Ad\", Variance = var(`Clicked on Ad`), Standard_Deviation = sd(`Clicked on Ad`)) %>%\n",
        "    pander\n",
        "var(`Clicked on Ad`)\n",
        "sd(`Clicked on Ad`)"
      ],
      "execution_count": 24,
      "outputs": [
        {
          "output_type": "stream",
          "text": [
            "\n",
            "\n",
            "|  variable   | Variance | Standard_Deviation |\n",
            "|:-----------:|:--------:|:------------------:|\n",
            "| Click On Ad |  0.2503  |       0.5003       |\n",
            "\n"
          ],
          "name": "stdout"
        },
        {
          "output_type": "display_data",
          "data": {
            "text/plain": [
              "[1] 0.2502503"
            ],
            "text/latex": "0.25025025025025",
            "text/markdown": "0.25025025025025",
            "text/html": [
              "0.25025025025025"
            ]
          },
          "metadata": {
            "tags": []
          }
        },
        {
          "output_type": "display_data",
          "data": {
            "text/plain": [
              "[1] 0.5002502"
            ],
            "text/latex": "0.500250187656387",
            "text/markdown": "0.500250187656387",
            "text/html": [
              "0.500250187656387"
            ]
          },
          "metadata": {
            "tags": []
          }
        }
      ]
    },
    {
      "cell_type": "markdown",
      "metadata": {
        "id": "pFiMzCQsbCbr"
      },
      "source": [
        "* The pander function came again on a new line, using the same indentation as summarize."
      ]
    },
    {
      "cell_type": "code",
      "metadata": {
        "id": "dp7kO7fh4y2M",
        "outputId": "2606cc2a-b972-4f2e-afd3-5cbffda622ff",
        "colab": {
          "base_uri": "https://localhost:8080/",
          "height": 0
        }
      },
      "source": [
        "# A frequency table of Male as a percentage\n",
        "\n",
        "table(Male) / 1000 * 100\n",
        "\n",
        "# AT least 51.9% of the data is male while 48.1% are females"
      ],
      "execution_count": 25,
      "outputs": [
        {
          "output_type": "display_data",
          "data": {
            "text/plain": [
              "Male\n",
              "   0    1 \n",
              "51.9 48.1 "
            ]
          },
          "metadata": {
            "tags": []
          }
        }
      ]
    },
    {
      "cell_type": "code",
      "metadata": {
        "id": "O62EZleJ4-M7",
        "outputId": "b47b4c2e-2dba-43dc-a941-1395875f8f5a",
        "colab": {
          "base_uri": "https://localhost:8080/",
          "height": 0
        }
      },
      "source": [
        "# A frequency table of Clicked On Ad as a percentage\n",
        "\n",
        "table(`Clicked on Ad`) / 1000 * 100\n",
        "\n",
        "# Theres an equal probability of those who clicked on the add and who didn't click on the add."
      ],
      "execution_count": 26,
      "outputs": [
        {
          "output_type": "display_data",
          "data": {
            "text/plain": [
              "Clicked on Ad\n",
              " 0  1 \n",
              "50 50 "
            ]
          },
          "metadata": {
            "tags": []
          }
        }
      ]
    },
    {
      "cell_type": "code",
      "metadata": {
        "id": "sWpj3iEC5Fe4",
        "outputId": "b2dacc27-943e-402a-9961-2c93b7897e24",
        "colab": {
          "base_uri": "https://localhost:8080/",
          "height": 0
        }
      },
      "source": [
        "# A frequency table of age as a percentage\n",
        "\n",
        "table(Age) / 1000 * 100\n",
        "\n",
        "# A frequency table of Age \n",
        "\n",
        "table(Age)\n",
        "\n",
        "# 31 was the dominant age with atleast 60 people followed by age 36 which had 50.\n",
        "# This contributed to 0.060 and 0.050 of the entire count assuming the total count is 1"
      ],
      "execution_count": 27,
      "outputs": [
        {
          "output_type": "display_data",
          "data": {
            "text/plain": [
              "Age\n",
              " 19  20  21  22  23  24  25  26  27  28  29  30  31  32  33  34  35  36  37  38 \n",
              "0.6 0.6 0.6 1.3 1.9 2.1 2.7 3.7 3.3 4.8 4.8 3.9 6.0 3.8 4.3 3.9 3.9 5.0 3.6 3.7 \n",
              " 39  40  41  42  43  44  45  46  47  48  49  50  51  52  53  54  55  56  57  58 \n",
              "3.0 3.6 3.2 2.6 2.3 2.1 3.0 1.8 1.3 1.6 1.8 2.0 1.2 1.5 1.0 0.9 0.7 0.2 0.6 0.4 \n",
              " 59  60  61 \n",
              "0.2 0.4 0.1 "
            ]
          },
          "metadata": {
            "tags": []
          }
        },
        {
          "output_type": "display_data",
          "data": {
            "text/plain": [
              "Age\n",
              "19 20 21 22 23 24 25 26 27 28 29 30 31 32 33 34 35 36 37 38 39 40 41 42 43 44 \n",
              " 6  6  6 13 19 21 27 37 33 48 48 39 60 38 43 39 39 50 36 37 30 36 32 26 23 21 \n",
              "45 46 47 48 49 50 51 52 53 54 55 56 57 58 59 60 61 \n",
              "30 18 13 16 18 20 12 15 10  9  7  2  6  4  2  4  1 "
            ]
          },
          "metadata": {
            "tags": []
          }
        }
      ]
    },
    {
      "cell_type": "markdown",
      "metadata": {
        "id": "oV4cTIv4WoLv"
      },
      "source": [
        "## Bivariate analysis"
      ]
    },
    {
      "cell_type": "code",
      "metadata": {
        "id": "LyThzCQx10zM",
        "outputId": "882bc4f8-9946-4201-96ff-ff1250d944a9",
        "colab": {
          "base_uri": "https://localhost:8080/",
          "height": 129
        }
      },
      "source": [
        "# Pearson correlation matrix for the numeric variables\n",
        "cor(df[,1:4])"
      ],
      "execution_count": 28,
      "outputs": [
        {
          "output_type": "display_data",
          "data": {
            "text/plain": [
              "                         Daily Time Spent on Site Age        Area Income\n",
              "Daily Time Spent on Site  1.0000000               -0.3315133  0.3109544 \n",
              "Age                      -0.3315133                1.0000000 -0.1826050 \n",
              "Area Income               0.3109544               -0.1826050  1.0000000 \n",
              "Daily Internet Usage      0.5186585               -0.3672086  0.3374955 \n",
              "                         Daily Internet Usage\n",
              "Daily Time Spent on Site  0.5186585          \n",
              "Age                      -0.3672086          \n",
              "Area Income               0.3374955          \n",
              "Daily Internet Usage      1.0000000          "
            ],
            "text/latex": "A matrix: 4 × 4 of type dbl\n\\begin{tabular}{r|llll}\n  & Daily Time Spent on Site & Age & Area Income & Daily Internet Usage\\\\\n\\hline\n\tDaily Time Spent on Site &  1.0000000 & -0.3315133 &  0.3109544 &  0.5186585\\\\\n\tAge & -0.3315133 &  1.0000000 & -0.1826050 & -0.3672086\\\\\n\tArea Income &  0.3109544 & -0.1826050 &  1.0000000 &  0.3374955\\\\\n\tDaily Internet Usage &  0.5186585 & -0.3672086 &  0.3374955 &  1.0000000\\\\\n\\end{tabular}\n",
            "text/markdown": "\nA matrix: 4 × 4 of type dbl\n\n| <!--/--> | Daily Time Spent on Site | Age | Area Income | Daily Internet Usage |\n|---|---|---|---|---|\n| Daily Time Spent on Site |  1.0000000 | -0.3315133 |  0.3109544 |  0.5186585 |\n| Age | -0.3315133 |  1.0000000 | -0.1826050 | -0.3672086 |\n| Area Income |  0.3109544 | -0.1826050 |  1.0000000 |  0.3374955 |\n| Daily Internet Usage |  0.5186585 | -0.3672086 |  0.3374955 |  1.0000000 |\n\n",
            "text/html": [
              "<table>\n",
              "<caption>A matrix: 4 × 4 of type dbl</caption>\n",
              "<thead>\n",
              "\t<tr><th></th><th scope=col>Daily Time Spent on Site</th><th scope=col>Age</th><th scope=col>Area Income</th><th scope=col>Daily Internet Usage</th></tr>\n",
              "</thead>\n",
              "<tbody>\n",
              "\t<tr><th scope=row>Daily Time Spent on Site</th><td> 1.0000000</td><td>-0.3315133</td><td> 0.3109544</td><td> 0.5186585</td></tr>\n",
              "\t<tr><th scope=row>Age</th><td>-0.3315133</td><td> 1.0000000</td><td>-0.1826050</td><td>-0.3672086</td></tr>\n",
              "\t<tr><th scope=row>Area Income</th><td> 0.3109544</td><td>-0.1826050</td><td> 1.0000000</td><td> 0.3374955</td></tr>\n",
              "\t<tr><th scope=row>Daily Internet Usage</th><td> 0.5186585</td><td>-0.3672086</td><td> 0.3374955</td><td> 1.0000000</td></tr>\n",
              "</tbody>\n",
              "</table>\n"
            ]
          },
          "metadata": {
            "tags": []
          }
        }
      ]
    },
    {
      "cell_type": "code",
      "metadata": {
        "id": "Iqe95e_J2qfL",
        "outputId": "10d6fcfc-988c-40ab-f9ef-bcf501870817",
        "colab": {
          "base_uri": "https://localhost:8080/",
          "height": 129
        }
      },
      "source": [
        "# Spearman correlation matrix for the numeric variables\n",
        "cor(df[,1:4], method = \"spearman\")"
      ],
      "execution_count": 29,
      "outputs": [
        {
          "output_type": "display_data",
          "data": {
            "text/plain": [
              "                         Daily Time Spent on Site Age        Area Income\n",
              "Daily Time Spent on Site  1.0000000               -0.3168616  0.2831344 \n",
              "Age                      -0.3168616                1.0000000 -0.1359540 \n",
              "Area Income               0.2831344               -0.1359540  1.0000000 \n",
              "Daily Internet Usage      0.5141081               -0.3708639  0.3391602 \n",
              "                         Daily Internet Usage\n",
              "Daily Time Spent on Site  0.5141081          \n",
              "Age                      -0.3708639          \n",
              "Area Income               0.3391602          \n",
              "Daily Internet Usage      1.0000000          "
            ],
            "text/latex": "A matrix: 4 × 4 of type dbl\n\\begin{tabular}{r|llll}\n  & Daily Time Spent on Site & Age & Area Income & Daily Internet Usage\\\\\n\\hline\n\tDaily Time Spent on Site &  1.0000000 & -0.3168616 &  0.2831344 &  0.5141081\\\\\n\tAge & -0.3168616 &  1.0000000 & -0.1359540 & -0.3708639\\\\\n\tArea Income &  0.2831344 & -0.1359540 &  1.0000000 &  0.3391602\\\\\n\tDaily Internet Usage &  0.5141081 & -0.3708639 &  0.3391602 &  1.0000000\\\\\n\\end{tabular}\n",
            "text/markdown": "\nA matrix: 4 × 4 of type dbl\n\n| <!--/--> | Daily Time Spent on Site | Age | Area Income | Daily Internet Usage |\n|---|---|---|---|---|\n| Daily Time Spent on Site |  1.0000000 | -0.3168616 |  0.2831344 |  0.5141081 |\n| Age | -0.3168616 |  1.0000000 | -0.1359540 | -0.3708639 |\n| Area Income |  0.2831344 | -0.1359540 |  1.0000000 |  0.3391602 |\n| Daily Internet Usage |  0.5141081 | -0.3708639 |  0.3391602 |  1.0000000 |\n\n",
            "text/html": [
              "<table>\n",
              "<caption>A matrix: 4 × 4 of type dbl</caption>\n",
              "<thead>\n",
              "\t<tr><th></th><th scope=col>Daily Time Spent on Site</th><th scope=col>Age</th><th scope=col>Area Income</th><th scope=col>Daily Internet Usage</th></tr>\n",
              "</thead>\n",
              "<tbody>\n",
              "\t<tr><th scope=row>Daily Time Spent on Site</th><td> 1.0000000</td><td>-0.3168616</td><td> 0.2831344</td><td> 0.5141081</td></tr>\n",
              "\t<tr><th scope=row>Age</th><td>-0.3168616</td><td> 1.0000000</td><td>-0.1359540</td><td>-0.3708639</td></tr>\n",
              "\t<tr><th scope=row>Area Income</th><td> 0.2831344</td><td>-0.1359540</td><td> 1.0000000</td><td> 0.3391602</td></tr>\n",
              "\t<tr><th scope=row>Daily Internet Usage</th><td> 0.5141081</td><td>-0.3708639</td><td> 0.3391602</td><td> 1.0000000</td></tr>\n",
              "</tbody>\n",
              "</table>\n"
            ]
          },
          "metadata": {
            "tags": []
          }
        }
      ]
    },
    {
      "cell_type": "code",
      "metadata": {
        "id": "k-0Kauug2y5x",
        "outputId": "75791a27-565b-452b-e746-be136bfd9f1c",
        "colab": {
          "base_uri": "https://localhost:8080/",
          "height": 129
        }
      },
      "source": [
        "# Kendall correlation matrix for the numeric variables\n",
        "cor(df[,1:4], method = \"kendall\")"
      ],
      "execution_count": 30,
      "outputs": [
        {
          "output_type": "display_data",
          "data": {
            "text/plain": [
              "                         Daily Time Spent on Site Age        Area Income\n",
              "Daily Time Spent on Site  1.0000000               -0.1966866  0.1657812 \n",
              "Age                      -0.1966866                1.0000000 -0.0800581 \n",
              "Area Income               0.1657812               -0.0800581  1.0000000 \n",
              "Daily Internet Usage      0.2932360               -0.2324461  0.2083755 \n",
              "                         Daily Internet Usage\n",
              "Daily Time Spent on Site  0.2932360          \n",
              "Age                      -0.2324461          \n",
              "Area Income               0.2083755          \n",
              "Daily Internet Usage      1.0000000          "
            ],
            "text/latex": "A matrix: 4 × 4 of type dbl\n\\begin{tabular}{r|llll}\n  & Daily Time Spent on Site & Age & Area Income & Daily Internet Usage\\\\\n\\hline\n\tDaily Time Spent on Site &  1.0000000 & -0.1966866 &  0.1657812 &  0.2932360\\\\\n\tAge & -0.1966866 &  1.0000000 & -0.0800581 & -0.2324461\\\\\n\tArea Income &  0.1657812 & -0.0800581 &  1.0000000 &  0.2083755\\\\\n\tDaily Internet Usage &  0.2932360 & -0.2324461 &  0.2083755 &  1.0000000\\\\\n\\end{tabular}\n",
            "text/markdown": "\nA matrix: 4 × 4 of type dbl\n\n| <!--/--> | Daily Time Spent on Site | Age | Area Income | Daily Internet Usage |\n|---|---|---|---|---|\n| Daily Time Spent on Site |  1.0000000 | -0.1966866 |  0.1657812 |  0.2932360 |\n| Age | -0.1966866 |  1.0000000 | -0.0800581 | -0.2324461 |\n| Area Income |  0.1657812 | -0.0800581 |  1.0000000 |  0.2083755 |\n| Daily Internet Usage |  0.2932360 | -0.2324461 |  0.2083755 |  1.0000000 |\n\n",
            "text/html": [
              "<table>\n",
              "<caption>A matrix: 4 × 4 of type dbl</caption>\n",
              "<thead>\n",
              "\t<tr><th></th><th scope=col>Daily Time Spent on Site</th><th scope=col>Age</th><th scope=col>Area Income</th><th scope=col>Daily Internet Usage</th></tr>\n",
              "</thead>\n",
              "<tbody>\n",
              "\t<tr><th scope=row>Daily Time Spent on Site</th><td> 1.0000000</td><td>-0.1966866</td><td> 0.1657812</td><td> 0.2932360</td></tr>\n",
              "\t<tr><th scope=row>Age</th><td>-0.1966866</td><td> 1.0000000</td><td>-0.0800581</td><td>-0.2324461</td></tr>\n",
              "\t<tr><th scope=row>Area Income</th><td> 0.1657812</td><td>-0.0800581</td><td> 1.0000000</td><td> 0.2083755</td></tr>\n",
              "\t<tr><th scope=row>Daily Internet Usage</th><td> 0.2932360</td><td>-0.2324461</td><td> 0.2083755</td><td> 1.0000000</td></tr>\n",
              "</tbody>\n",
              "</table>\n"
            ]
          },
          "metadata": {
            "tags": []
          }
        }
      ]
    },
    {
      "cell_type": "markdown",
      "metadata": {
        "id": "myDkm3LDVPNW"
      },
      "source": [
        "* Pearson and spearman correlation don't seem to differ much\n",
        "* They produce nearly similar results if rounder to 1 decimal place"
      ]
    },
    {
      "cell_type": "code",
      "metadata": {
        "id": "bUyaD_k1EATH",
        "outputId": "f51d32a6-295f-444d-c741-9faa8ffba39d",
        "colab": {
          "base_uri": "https://localhost:8080/",
          "height": 208
        }
      },
      "source": [
        "# apply the Pearson's product-moment correlation correlation function \n",
        "\n",
        "cor.test(`Daily Time Spent on Site`, `Daily Internet Usage`)\n",
        "# Produces a variety of results from the p-value, 95% Confidence Interval, the degrees of freedom (df) and also the hypothesis under testing "
      ],
      "execution_count": 31,
      "outputs": [
        {
          "output_type": "display_data",
          "data": {
            "text/plain": [
              "\n",
              "\tPearson's product-moment correlation\n",
              "\n",
              "data:  Daily Time Spent on Site and Daily Internet Usage\n",
              "t = 19.164, df = 998, p-value < 2.2e-16\n",
              "alternative hypothesis: true correlation is not equal to 0\n",
              "95 percent confidence interval:\n",
              " 0.4718365 0.5625633\n",
              "sample estimates:\n",
              "      cor \n",
              "0.5186585 \n"
            ]
          },
          "metadata": {
            "tags": []
          }
        }
      ]
    },
    {
      "cell_type": "code",
      "metadata": {
        "id": "rp62U-9I2c5a",
        "outputId": "833289bf-2922-4372-d400-3a7c852f62ae",
        "colab": {
          "base_uri": "https://localhost:8080/",
          "height": 129
        }
      },
      "source": [
        "# A covariance matrix for the numeric variables\n",
        "cov(df[,1:4])"
      ],
      "execution_count": 32,
      "outputs": [
        {
          "output_type": "display_data",
          "data": {
            "text/plain": [
              "                         Daily Time Spent on Site Age          Area Income \n",
              "Daily Time Spent on Site   251.33709                 -46.17415     66130.81\n",
              "Age                        -46.17415                  77.18611    -21520.93\n",
              "Area Income              66130.81091              -21520.92580 179952405.95\n",
              "Daily Internet Usage       360.99188                -141.63482    198762.53\n",
              "                         Daily Internet Usage\n",
              "Daily Time Spent on Site    360.9919         \n",
              "Age                        -141.6348         \n",
              "Area Income              198762.5315         \n",
              "Daily Internet Usage       1927.4154         "
            ],
            "text/latex": "A matrix: 4 × 4 of type dbl\n\\begin{tabular}{r|llll}\n  & Daily Time Spent on Site & Age & Area Income & Daily Internet Usage\\\\\n\\hline\n\tDaily Time Spent on Site &   251.33709 &    -46.17415 &     66130.81 &    360.9919\\\\\n\tAge &   -46.17415 &     77.18611 &    -21520.93 &   -141.6348\\\\\n\tArea Income & 66130.81091 & -21520.92580 & 179952405.95 & 198762.5315\\\\\n\tDaily Internet Usage &   360.99188 &   -141.63482 &    198762.53 &   1927.4154\\\\\n\\end{tabular}\n",
            "text/markdown": "\nA matrix: 4 × 4 of type dbl\n\n| <!--/--> | Daily Time Spent on Site | Age | Area Income | Daily Internet Usage |\n|---|---|---|---|---|\n| Daily Time Spent on Site |   251.33709 |    -46.17415 |     66130.81 |    360.9919 |\n| Age |   -46.17415 |     77.18611 |    -21520.93 |   -141.6348 |\n| Area Income | 66130.81091 | -21520.92580 | 179952405.95 | 198762.5315 |\n| Daily Internet Usage |   360.99188 |   -141.63482 |    198762.53 |   1927.4154 |\n\n",
            "text/html": [
              "<table>\n",
              "<caption>A matrix: 4 × 4 of type dbl</caption>\n",
              "<thead>\n",
              "\t<tr><th></th><th scope=col>Daily Time Spent on Site</th><th scope=col>Age</th><th scope=col>Area Income</th><th scope=col>Daily Internet Usage</th></tr>\n",
              "</thead>\n",
              "<tbody>\n",
              "\t<tr><th scope=row>Daily Time Spent on Site</th><td>  251.33709</td><td>   -46.17415</td><td>    66130.81</td><td>   360.9919</td></tr>\n",
              "\t<tr><th scope=row>Age</th><td>  -46.17415</td><td>    77.18611</td><td>   -21520.93</td><td>  -141.6348</td></tr>\n",
              "\t<tr><th scope=row>Area Income</th><td>66130.81091</td><td>-21520.92580</td><td>179952405.95</td><td>198762.5315</td></tr>\n",
              "\t<tr><th scope=row>Daily Internet Usage</th><td>  360.99188</td><td>  -141.63482</td><td>   198762.53</td><td>  1927.4154</td></tr>\n",
              "</tbody>\n",
              "</table>\n"
            ]
          },
          "metadata": {
            "tags": []
          }
        }
      ]
    },
    {
      "cell_type": "code",
      "metadata": {
        "id": "urDlu80VfSxe"
      },
      "source": [
        "# We convert the clicked on ad variable into a categorical variable\n",
        "# ---\n",
        "#  \n",
        "df$`Clicked on Ad` <- factor(df$`Clicked on Ad`, levels = c(0,1), labels = c(\"Yes\", \"No\"))"
      ],
      "execution_count": 33,
      "outputs": []
    },
    {
      "cell_type": "code",
      "metadata": {
        "id": "rhQ40R7ufImH",
        "outputId": "0929f452-7214-4ee7-a7b7-e5cb2ed77a7e",
        "colab": {
          "base_uri": "https://localhost:8080/",
          "height": 437
        }
      },
      "source": [
        "# Creating some visualisations to take a look at each variable\n",
        "# Visualisation 1\n",
        "# \n",
        "ggplot(df, aes(`Daily Time Spent on Site`, colour = `Clicked on Ad`)) +\n",
        "geom_freqpoly(binwidth = 1) + labs(title=\"Daily Time Spent On Site Distribution by Clicked On Ad\")"
      ],
      "execution_count": 34,
      "outputs": [
        {
          "output_type": "display_data",
          "data": {
            "image/png": "[encoded data removed]",
            "text/plain": [
              "plot without title"
            ]
          },
          "metadata": {
            "tags": [],
            "image/png": {
              "width": 420,
              "height": 420
            }
          }
        }
      ]
    },
    {
      "cell_type": "code",
      "metadata": {
        "id": "-Y_jhc1Ef6OT",
        "outputId": "b1317258-dec8-4092-fd2c-89e7a51e43ed",
        "colab": {
          "base_uri": "https://localhost:8080/",
          "height": 437
        }
      },
      "source": [
        "# Visualisation 2\n",
        "# ---\n",
        "# \n",
        "c <- ggplot(df, aes(x=Age, fill=`Clicked on Ad`, color=`Clicked on Ad`)) +\n",
        "geom_histogram(binwidth = 1) + labs(title=\"Age Distribution by Clicked on Ad\")\n",
        "c + theme_bw()"
      ],
      "execution_count": 35,
      "outputs": [
        {
          "output_type": "display_data",
          "data": {
            "image/png": "[encoded data removed]",
            "text/plain": [
              "plot without title"
            ]
          },
          "metadata": {
            "tags": [],
            "image/png": {
              "width": 420,
              "height": 420
            }
          }
        }
      ]
    },
    {
      "cell_type": "code",
      "metadata": {
        "id": "85Yk20APgtva",
        "outputId": "59fe65b2-0984-44d3-814e-5c025cdded21",
        "colab": {
          "base_uri": "https://localhost:8080/",
          "height": 437
        }
      },
      "source": [
        "# Visualisation 3\n",
        "# \n",
        "ggplot(df, aes(`Area Income`, colour = `Clicked on Ad`)) +\n",
        "geom_freqpoly(binwidth = 1) + labs(title=\"Area Income by Clicked On Ad\")"
      ],
      "execution_count": 36,
      "outputs": [
        {
          "output_type": "display_data",
          "data": {
            "image/png": "[encoded data removed]",
            "text/plain": [
              "plot without title"
            ]
          },
          "metadata": {
            "tags": [],
            "image/png": {
              "width": 420,
              "height": 420
            }
          }
        }
      ]
    },
    {
      "cell_type": "code",
      "metadata": {
        "id": "jdNSsZLhgU8R",
        "outputId": "92ce821d-1a12-445e-f0d2-0b02f542993e",
        "colab": {
          "base_uri": "https://localhost:8080/",
          "height": 437
        }
      },
      "source": [
        "# Visualisation 4\n",
        "# ---\n",
        "# \n",
        "c <- ggplot(df, aes(x=`Daily Internet Usage`, fill=`Clicked on Ad`, color=`Clicked on Ad`)) +\n",
        "geom_histogram(binwidth = 1) + labs(title=\"Daily Internet Usage Distribution by Clicked on Ad\")\n",
        "c + theme_bw()"
      ],
      "execution_count": 37,
      "outputs": [
        {
          "output_type": "display_data",
          "data": {
            "image/png": "[encoded data removed]",
            "text/plain": [
              "plot without title"
            ]
          },
          "metadata": {
            "tags": [],
            "image/png": {
              "width": 420,
              "height": 420
            }
          }
        }
      ]
    },
    {
      "cell_type": "code",
      "metadata": {
        "id": "vfFTQIOahDzf",
        "outputId": "7f5e20dc-af9b-44c8-d437-253981f72fc3",
        "colab": {
          "base_uri": "https://localhost:8080/",
          "height": 437
        }
      },
      "source": [
        "# Visualisation 5\n",
        "# ---\n",
        "# \n",
        "ggplot(df, aes(Male, colour = `Clicked on Ad`)) +\n",
        "geom_freqpoly(binwidth = 1) + labs(title=\"Male Distribution by Clicked On Ad\")"
      ],
      "execution_count": 38,
      "outputs": [
        {
          "output_type": "display_data",
          "data": {
            "image/png": "[encoded data removed]",
            "text/plain": [
              "plot without title"
            ]
          },
          "metadata": {
            "tags": [],
            "image/png": {
              "width": 420,
              "height": 420
            }
          }
        }
      ]
    },
    {
      "cell_type": "code",
      "metadata": {
        "id": "nITYrfRPMevG",
        "outputId": "8f155fc3-5f59-49d3-eb4b-c512f948bb42",
        "colab": {
          "base_uri": "https://localhost:8080/",
          "height": 1000
        }
      },
      "source": [
        "# A qplot of the df dataset\n",
        "\n",
        "library(ggplot2)\n",
        "\n",
        "attach(df)\n",
        "par(mfrow=c(3,1))\n",
        "\n",
        "qplot(`Daily Time Spent on Site`)\n",
        "qplot(Age)\n",
        "qplot(`Area Income`)\n",
        "qplot(`Daily Internet Usage`)\n",
        "qplot(`Clicked on Ad`)"
      ],
      "execution_count": 39,
      "outputs": [
        {
          "output_type": "stream",
          "text": [
            "The following objects are masked from df (pos = 4):\n",
            "\n",
            "    Ad Topic Line, Age, Area Income, City, Clicked on Ad, Country,\n",
            "    Daily Internet Usage, Daily Time Spent on Site, Male, Timestamp\n",
            "\n",
            "\n",
            "`stat_bin()` using `bins = 30`. Pick better value with `binwidth`.\n",
            "\n",
            "`stat_bin()` using `bins = 30`. Pick better value with `binwidth`.\n",
            "\n"
          ],
          "name": "stderr"
        },
        {
          "output_type": "display_data",
          "data": {
            "image/png": "[encoded data removed]",
            "text/plain": [
              "plot without title"
            ]
          },
          "metadata": {
            "tags": [],
            "image/png": {
              "width": 420,
              "height": 420
            }
          }
        },
        {
          "output_type": "stream",
          "text": [
            "`stat_bin()` using `bins = 30`. Pick better value with `binwidth`.\n",
            "\n"
          ],
          "name": "stderr"
        },
        {
          "output_type": "display_data",
          "data": {
            "image/png": "[encoded data removed]",
            "text/plain": [
              "plot without title"
            ]
          },
          "metadata": {
            "tags": [],
            "image/png": {
              "width": 420,
              "height": 420
            }
          }
        },
        {
          "output_type": "stream",
          "text": [
            "`stat_bin()` using `bins = 30`. Pick better value with `binwidth`.\n",
            "\n"
          ],
          "name": "stderr"
        },
        {
          "output_type": "display_data",
          "data": {
            "image/png": "[encoded data removed]",
            "text/plain": [
              "plot without title"
            ]
          },
          "metadata": {
            "tags": [],
            "image/png": {
              "width": 420,
              "height": 420
            }
          }
        },
        {
          "output_type": "display_data",
          "data": {
            "image/png": "[encoded data removed]",
            "text/plain": [
              "plot without title"
            ]
          },
          "metadata": {
            "tags": [],
            "image/png": {
              "width": 420,
              "height": 420
            }
          }
        },
        {
          "output_type": "display_data",
          "data": {
            "image/png": "[encoded data removed]",
            "text/plain": [
              "plot without title"
            ]
          },
          "metadata": {
            "tags": [],
            "image/png": {
              "width": 420,
              "height": 420
            }
          }
        }
      ]
    },
    {
      "cell_type": "code",
      "metadata": {
        "id": "ZDvt9pruLqTQ",
        "outputId": "3d95fa0d-9512-42a5-9adc-125e93674b4f",
        "colab": {
          "base_uri": "https://localhost:8080/",
          "height": 1000
        }
      },
      "source": [
        "# 3 figures arranged in 3 rows and 1 column\n",
        "# Combined barplot for the numeric dataset\n",
        "\n",
        "attach(df)\n",
        "par(mfrow=c(3,1))\n",
        "barplot(`Daily Time Spent on Site`)\n",
        "barplot(Age)\n",
        "barplot(`Area Income`)\n",
        "barplot(`Daily Internet Usage`)\n",
        "barplot(`Clicked on Ad`)"
      ],
      "execution_count": 40,
      "outputs": [
        {
          "output_type": "stream",
          "text": [
            "The following objects are masked from df (pos = 3):\n",
            "\n",
            "    Ad Topic Line, Age, Area Income, City, Clicked on Ad, Country,\n",
            "    Daily Internet Usage, Daily Time Spent on Site, Male, Timestamp\n",
            "\n",
            "\n",
            "The following objects are masked from df (pos = 5):\n",
            "\n",
            "    Ad Topic Line, Age, Area Income, City, Clicked on Ad, Country,\n",
            "    Daily Internet Usage, Daily Time Spent on Site, Male, Timestamp\n",
            "\n",
            "\n"
          ],
          "name": "stderr"
        },
        {
          "output_type": "error",
          "ename": "ERROR",
          "evalue": "ignored",
          "traceback": [
            "Error in barplot.default(`Clicked on Ad`): 'height' must be a vector or a matrix\nTraceback:\n",
            "1. barplot(`Clicked on Ad`)",
            "2. barplot.default(`Clicked on Ad`)",
            "3. stop(\"'height' must be a vector or a matrix\")"
          ]
        },
        {
          "output_type": "display_data",
          "data": {
            "image/png": "[encoded data removed]",
            "text/plain": [
              "plot without title"
            ]
          },
          "metadata": {
            "tags": [],
            "image/png": {
              "width": 420,
              "height": 420
            }
          }
        },
        {
          "output_type": "display_data",
          "data": {
            "image/png": "[encoded data removed]",
            "text/plain": [
              "plot without title"
            ]
          },
          "metadata": {
            "tags": [],
            "image/png": {
              "width": 420,
              "height": 420
            }
          }
        }
      ]
    },
    {
      "cell_type": "code",
      "metadata": {
        "id": "duYXi8fnKXzN",
        "outputId": "ff506dff-3496-4eb4-8c58-71adf93cbc11",
        "colab": {
          "base_uri": "https://localhost:8080/",
          "height": 1000
        }
      },
      "source": [
        "# 3 figures arranged in 3 rows and 1 column\n",
        "# Combined boxplot for the numeric dataset\n",
        "\n",
        "attach(df)\n",
        "par(mfrow=c(3,1))\n",
        "boxplot(`Daily Time Spent on Site`)\n",
        "boxplot(Age)\n",
        "boxplot(`Area Income`)\n",
        "boxplot(`Daily Internet Usage`)\n",
        "boxplot(`Clicked on Ad`)"
      ],
      "execution_count": 41,
      "outputs": [
        {
          "output_type": "stream",
          "text": [
            "The following objects are masked from df (pos = 3):\n",
            "\n",
            "    Ad Topic Line, Age, Area Income, City, Clicked on Ad, Country,\n",
            "    Daily Internet Usage, Daily Time Spent on Site, Male, Timestamp\n",
            "\n",
            "\n",
            "The following objects are masked from df (pos = 4):\n",
            "\n",
            "    Ad Topic Line, Age, Area Income, City, Clicked on Ad, Country,\n",
            "    Daily Internet Usage, Daily Time Spent on Site, Male, Timestamp\n",
            "\n",
            "\n",
            "The following objects are masked from df (pos = 6):\n",
            "\n",
            "    Ad Topic Line, Age, Area Income, City, Clicked on Ad, Country,\n",
            "    Daily Internet Usage, Daily Time Spent on Site, Male, Timestamp\n",
            "\n",
            "\n"
          ],
          "name": "stderr"
        },
        {
          "output_type": "error",
          "ename": "ERROR",
          "evalue": "ignored",
          "traceback": [
            "Error in oldClass(stats) <- cl: adding class \"factor\" to an invalid object\nTraceback:\n",
            "1. boxplot(`Clicked on Ad`)",
            "2. boxplot.default(`Clicked on Ad`)"
          ]
        },
        {
          "output_type": "display_data",
          "data": {
            "image/png": "[encoded data removed]",
            "text/plain": [
              "plot without title"
            ]
          },
          "metadata": {
            "tags": [],
            "image/png": {
              "width": 420,
              "height": 420
            }
          }
        },
        {
          "output_type": "display_data",
          "data": {
            "image/png": "[encoded data removed]",
            "text/plain": [
              "plot without title"
            ]
          },
          "metadata": {
            "tags": [],
            "image/png": {
              "width": 420,
              "height": 420
            }
          }
        }
      ]
    },
    {
      "cell_type": "code",
      "metadata": {
        "id": "sNZXW4XHLC_-",
        "outputId": "3915fd79-eef8-4081-dc28-5ca3949ef16a",
        "colab": {
          "base_uri": "https://localhost:8080/",
          "height": 1000
        }
      },
      "source": [
        "# 3 figures arranged in 3 rows and 1 column\n",
        "attach(df)\n",
        "par(mfrow=c(3,1))\n",
        "hist(`Daily Time Spent on Site`)\n",
        "hist(Age)\n",
        "hist(`Area Income`)\n",
        "hist(`Daily Internet Usage`)\n",
        "hist(`Clicked on Ad`)"
      ],
      "execution_count": 42,
      "outputs": [
        {
          "output_type": "stream",
          "text": [
            "The following objects are masked from df (pos = 3):\n",
            "\n",
            "    Ad Topic Line, Age, Area Income, City, Clicked on Ad, Country,\n",
            "    Daily Internet Usage, Daily Time Spent on Site, Male, Timestamp\n",
            "\n",
            "\n",
            "The following objects are masked from df (pos = 4):\n",
            "\n",
            "    Ad Topic Line, Age, Area Income, City, Clicked on Ad, Country,\n",
            "    Daily Internet Usage, Daily Time Spent on Site, Male, Timestamp\n",
            "\n",
            "\n",
            "The following objects are masked from df (pos = 5):\n",
            "\n",
            "    Ad Topic Line, Age, Area Income, City, Clicked on Ad, Country,\n",
            "    Daily Internet Usage, Daily Time Spent on Site, Male, Timestamp\n",
            "\n",
            "\n",
            "The following objects are masked from df (pos = 7):\n",
            "\n",
            "    Ad Topic Line, Age, Area Income, City, Clicked on Ad, Country,\n",
            "    Daily Internet Usage, Daily Time Spent on Site, Male, Timestamp\n",
            "\n",
            "\n"
          ],
          "name": "stderr"
        },
        {
          "output_type": "error",
          "ename": "ERROR",
          "evalue": "ignored",
          "traceback": [
            "Error in hist.default(`Clicked on Ad`): 'x' must be numeric\nTraceback:\n",
            "1. hist(`Clicked on Ad`)",
            "2. hist.default(`Clicked on Ad`)",
            "3. stop(\"'x' must be numeric\")"
          ]
        },
        {
          "output_type": "display_data",
          "data": {
            "image/png": "[encoded data removed]",
            "text/plain": [
              "Plot with title “Histogram of Area Income”"
            ]
          },
          "metadata": {
            "tags": [],
            "image/png": {
              "width": 420,
              "height": 420
            }
          }
        },
        {
          "output_type": "display_data",
          "data": {
            "image/png": "[encoded data removed]",
            "text/plain": [
              "Plot with title “Histogram of Daily Internet Usage”"
            ]
          },
          "metadata": {
            "tags": [],
            "image/png": {
              "width": 420,
              "height": 420
            }
          }
        }
      ]
    },
    {
      "cell_type": "markdown",
      "metadata": {
        "id": "YSEmwVS-mrv-"
      },
      "source": [
        ""
      ]
    },
    {
      "cell_type": "markdown",
      "metadata": {
        "id": "2haR1LIoUFz_"
      },
      "source": [
        "# **Implementing the solution**"
      ]
    },
    {
      "cell_type": "markdown",
      "metadata": {
        "id": "AJ3VXEN9mpat"
      },
      "source": [
        "## **Without the categorical columns**"
      ]
    },
    {
      "cell_type": "code",
      "metadata": {
        "id": "CU70yrSAon9D",
        "outputId": "c10e2cf4-c281-451b-c237-2d2cde42beec",
        "colab": {
          "base_uri": "https://localhost:8080/",
          "height": 185
        }
      },
      "source": [
        "head(df)"
      ],
      "execution_count": 43,
      "outputs": [
        {
          "output_type": "display_data",
          "data": {
            "text/plain": [
              "  Daily Time Spent on Site Age Area Income Daily Internet Usage\n",
              "1 68.95                    35  61833.90    256.09              \n",
              "2 80.23                    31  68441.85    193.77              \n",
              "3 69.47                    26  59785.94    236.50              \n",
              "4 74.15                    29  54806.18    245.89              \n",
              "5 68.37                    35  73889.99    225.58              \n",
              "6 59.99                    23  59761.56    226.74              \n",
              "  Ad Topic Line                         City           Male Country   \n",
              "1 Cloned 5thgeneration orchestration    Wrightburgh    0    Tunisia   \n",
              "2 Monitored national standardization    West Jodi      1    Nauru     \n",
              "3 Organic bottom-line service-desk      Davidton       0    San Marino\n",
              "4 Triple-buffered reciprocal time-frame West Terrifurt 1    Italy     \n",
              "5 Robust logistical utilization         South Manuel   0    Iceland   \n",
              "6 Sharable client-driven software       Jamieberg      1    Norway    \n",
              "  Timestamp           Clicked on Ad\n",
              "1 2016-03-27 00:53:11 Yes          \n",
              "2 2016-04-04 01:39:02 Yes          \n",
              "3 2016-03-13 20:35:42 Yes          \n",
              "4 2016-01-10 02:31:19 Yes          \n",
              "5 2016-06-03 03:36:18 Yes          \n",
              "6 2016-05-19 14:30:17 Yes          "
            ],
            "text/latex": "A tibble: 6 × 10\n\\begin{tabular}{llllllllll}\n Daily Time Spent on Site & Age & Area Income & Daily Internet Usage & Ad Topic Line & City & Male & Country & Timestamp & Clicked on Ad\\\\\n <dbl> & <dbl> & <dbl> & <dbl> & <chr> & <chr> & <dbl> & <chr> & <dttm> & <fct>\\\\\n\\hline\n\t 68.95 & 35 & 61833.90 & 256.09 & Cloned 5thgeneration orchestration    & Wrightburgh    & 0 & Tunisia    & 2016-03-27 00:53:11 & Yes\\\\\n\t 80.23 & 31 & 68441.85 & 193.77 & Monitored national standardization    & West Jodi      & 1 & Nauru      & 2016-04-04 01:39:02 & Yes\\\\\n\t 69.47 & 26 & 59785.94 & 236.50 & Organic bottom-line service-desk      & Davidton       & 0 & San Marino & 2016-03-13 20:35:42 & Yes\\\\\n\t 74.15 & 29 & 54806.18 & 245.89 & Triple-buffered reciprocal time-frame & West Terrifurt & 1 & Italy      & 2016-01-10 02:31:19 & Yes\\\\\n\t 68.37 & 35 & 73889.99 & 225.58 & Robust logistical utilization         & South Manuel   & 0 & Iceland    & 2016-06-03 03:36:18 & Yes\\\\\n\t 59.99 & 23 & 59761.56 & 226.74 & Sharable client-driven software       & Jamieberg      & 1 & Norway     & 2016-05-19 14:30:17 & Yes\\\\\n\\end{tabular}\n",
            "text/markdown": "\nA tibble: 6 × 10\n\n| Daily Time Spent on Site &lt;dbl&gt; | Age &lt;dbl&gt; | Area Income &lt;dbl&gt; | Daily Internet Usage &lt;dbl&gt; | Ad Topic Line &lt;chr&gt; | City &lt;chr&gt; | Male &lt;dbl&gt; | Country &lt;chr&gt; | Timestamp &lt;dttm&gt; | Clicked on Ad &lt;fct&gt; |\n|---|---|---|---|---|---|---|---|---|---|\n| 68.95 | 35 | 61833.90 | 256.09 | Cloned 5thgeneration orchestration    | Wrightburgh    | 0 | Tunisia    | 2016-03-27 00:53:11 | Yes |\n| 80.23 | 31 | 68441.85 | 193.77 | Monitored national standardization    | West Jodi      | 1 | Nauru      | 2016-04-04 01:39:02 | Yes |\n| 69.47 | 26 | 59785.94 | 236.50 | Organic bottom-line service-desk      | Davidton       | 0 | San Marino | 2016-03-13 20:35:42 | Yes |\n| 74.15 | 29 | 54806.18 | 245.89 | Triple-buffered reciprocal time-frame | West Terrifurt | 1 | Italy      | 2016-01-10 02:31:19 | Yes |\n| 68.37 | 35 | 73889.99 | 225.58 | Robust logistical utilization         | South Manuel   | 0 | Iceland    | 2016-06-03 03:36:18 | Yes |\n| 59.99 | 23 | 59761.56 | 226.74 | Sharable client-driven software       | Jamieberg      | 1 | Norway     | 2016-05-19 14:30:17 | Yes |\n\n",
            "text/html": [
              "<table>\n",
              "<caption>A tibble: 6 × 10</caption>\n",
              "<thead>\n",
              "\t<tr><th scope=col>Daily Time Spent on Site</th><th scope=col>Age</th><th scope=col>Area Income</th><th scope=col>Daily Internet Usage</th><th scope=col>Ad Topic Line</th><th scope=col>City</th><th scope=col>Male</th><th scope=col>Country</th><th scope=col>Timestamp</th><th scope=col>Clicked on Ad</th></tr>\n",
              "\t<tr><th scope=col>&lt;dbl&gt;</th><th scope=col>&lt;dbl&gt;</th><th scope=col>&lt;dbl&gt;</th><th scope=col>&lt;dbl&gt;</th><th scope=col>&lt;chr&gt;</th><th scope=col>&lt;chr&gt;</th><th scope=col>&lt;dbl&gt;</th><th scope=col>&lt;chr&gt;</th><th scope=col>&lt;dttm&gt;</th><th scope=col>&lt;fct&gt;</th></tr>\n",
              "</thead>\n",
              "<tbody>\n",
              "\t<tr><td>68.95</td><td>35</td><td>61833.90</td><td>256.09</td><td>Cloned 5thgeneration orchestration   </td><td>Wrightburgh   </td><td>0</td><td>Tunisia   </td><td>2016-03-27 00:53:11</td><td>Yes</td></tr>\n",
              "\t<tr><td>80.23</td><td>31</td><td>68441.85</td><td>193.77</td><td>Monitored national standardization   </td><td>West Jodi     </td><td>1</td><td>Nauru     </td><td>2016-04-04 01:39:02</td><td>Yes</td></tr>\n",
              "\t<tr><td>69.47</td><td>26</td><td>59785.94</td><td>236.50</td><td>Organic bottom-line service-desk     </td><td>Davidton      </td><td>0</td><td>San Marino</td><td>2016-03-13 20:35:42</td><td>Yes</td></tr>\n",
              "\t<tr><td>74.15</td><td>29</td><td>54806.18</td><td>245.89</td><td>Triple-buffered reciprocal time-frame</td><td>West Terrifurt</td><td>1</td><td>Italy     </td><td>2016-01-10 02:31:19</td><td>Yes</td></tr>\n",
              "\t<tr><td>68.37</td><td>35</td><td>73889.99</td><td>225.58</td><td>Robust logistical utilization        </td><td>South Manuel  </td><td>0</td><td>Iceland   </td><td>2016-06-03 03:36:18</td><td>Yes</td></tr>\n",
              "\t<tr><td>59.99</td><td>23</td><td>59761.56</td><td>226.74</td><td>Sharable client-driven software      </td><td>Jamieberg     </td><td>1</td><td>Norway    </td><td>2016-05-19 14:30:17</td><td>Yes</td></tr>\n",
              "</tbody>\n",
              "</table>\n"
            ]
          },
          "metadata": {
            "tags": []
          }
        }
      ]
    },
    {
      "cell_type": "code",
      "metadata": {
        "id": "jeB7DLPyp0bL",
        "outputId": "60971b04-86cb-4627-ff96-1c7c88c9e39c",
        "colab": {
          "base_uri": "https://localhost:8080/",
          "height": 166
        }
      },
      "source": [
        "# remove Categorical variables\n",
        "dat <- df %>%\n",
        "  select(-Country, -City, -(\"Ad Topic Line\"), -(\"Timestamp\"))\n",
        "\n",
        "# display 5 first obs. of new dataset\n",
        "head(dat, 5)\n"
      ],
      "execution_count": 44,
      "outputs": [
        {
          "output_type": "display_data",
          "data": {
            "text/plain": [
              "  Daily Time Spent on Site Age Area Income Daily Internet Usage Male\n",
              "1 68.95                    35  61833.90    256.09               0   \n",
              "2 80.23                    31  68441.85    193.77               1   \n",
              "3 69.47                    26  59785.94    236.50               0   \n",
              "4 74.15                    29  54806.18    245.89               1   \n",
              "5 68.37                    35  73889.99    225.58               0   \n",
              "  Clicked on Ad\n",
              "1 Yes          \n",
              "2 Yes          \n",
              "3 Yes          \n",
              "4 Yes          \n",
              "5 Yes          "
            ],
            "text/latex": "A tibble: 5 × 6\n\\begin{tabular}{llllll}\n Daily Time Spent on Site & Age & Area Income & Daily Internet Usage & Male & Clicked on Ad\\\\\n <dbl> & <dbl> & <dbl> & <dbl> & <dbl> & <fct>\\\\\n\\hline\n\t 68.95 & 35 & 61833.90 & 256.09 & 0 & Yes\\\\\n\t 80.23 & 31 & 68441.85 & 193.77 & 1 & Yes\\\\\n\t 69.47 & 26 & 59785.94 & 236.50 & 0 & Yes\\\\\n\t 74.15 & 29 & 54806.18 & 245.89 & 1 & Yes\\\\\n\t 68.37 & 35 & 73889.99 & 225.58 & 0 & Yes\\\\\n\\end{tabular}\n",
            "text/markdown": "\nA tibble: 5 × 6\n\n| Daily Time Spent on Site &lt;dbl&gt; | Age &lt;dbl&gt; | Area Income &lt;dbl&gt; | Daily Internet Usage &lt;dbl&gt; | Male &lt;dbl&gt; | Clicked on Ad &lt;fct&gt; |\n|---|---|---|---|---|---|\n| 68.95 | 35 | 61833.90 | 256.09 | 0 | Yes |\n| 80.23 | 31 | 68441.85 | 193.77 | 1 | Yes |\n| 69.47 | 26 | 59785.94 | 236.50 | 0 | Yes |\n| 74.15 | 29 | 54806.18 | 245.89 | 1 | Yes |\n| 68.37 | 35 | 73889.99 | 225.58 | 0 | Yes |\n\n",
            "text/html": [
              "<table>\n",
              "<caption>A tibble: 5 × 6</caption>\n",
              "<thead>\n",
              "\t<tr><th scope=col>Daily Time Spent on Site</th><th scope=col>Age</th><th scope=col>Area Income</th><th scope=col>Daily Internet Usage</th><th scope=col>Male</th><th scope=col>Clicked on Ad</th></tr>\n",
              "\t<tr><th scope=col>&lt;dbl&gt;</th><th scope=col>&lt;dbl&gt;</th><th scope=col>&lt;dbl&gt;</th><th scope=col>&lt;dbl&gt;</th><th scope=col>&lt;dbl&gt;</th><th scope=col>&lt;fct&gt;</th></tr>\n",
              "</thead>\n",
              "<tbody>\n",
              "\t<tr><td>68.95</td><td>35</td><td>61833.90</td><td>256.09</td><td>0</td><td>Yes</td></tr>\n",
              "\t<tr><td>80.23</td><td>31</td><td>68441.85</td><td>193.77</td><td>1</td><td>Yes</td></tr>\n",
              "\t<tr><td>69.47</td><td>26</td><td>59785.94</td><td>236.50</td><td>0</td><td>Yes</td></tr>\n",
              "\t<tr><td>74.15</td><td>29</td><td>54806.18</td><td>245.89</td><td>1</td><td>Yes</td></tr>\n",
              "\t<tr><td>68.37</td><td>35</td><td>73889.99</td><td>225.58</td><td>0</td><td>Yes</td></tr>\n",
              "</tbody>\n",
              "</table>\n"
            ]
          },
          "metadata": {
            "tags": []
          }
        }
      ]
    },
    {
      "cell_type": "code",
      "metadata": {
        "id": "q4deKACClGPy"
      },
      "source": [
        "# For visualization of corr purpose only\n",
        "data <- dat %>%\n",
        "  select(-(\"Clicked on Ad\"))"
      ],
      "execution_count": 45,
      "outputs": []
    },
    {
      "cell_type": "code",
      "metadata": {
        "id": "9W3lEzXlq1b3",
        "outputId": "0b0dc461-3484-454a-f94d-7f16a965e074",
        "colab": {
          "base_uri": "https://localhost:8080/",
          "height": 524
        }
      },
      "source": [
        "# improved correlation matrix\n",
        "install.packages(\"corrplot\")\n",
        "library(corrplot)\n",
        "\n",
        "corrplot(cor(data), type = 'upper', method = 'number', tl.cex = 0.9)\n",
        "\n",
        "# No positive or negative strong Correlation between the numerical variables"
      ],
      "execution_count": 46,
      "outputs": [
        {
          "output_type": "stream",
          "text": [
            "Installing package into ‘/usr/local/lib/R/site-library’\n",
            "(as ‘lib’ is unspecified)\n",
            "\n",
            "corrplot 0.84 loaded\n",
            "\n"
          ],
          "name": "stderr"
        },
        {
          "output_type": "display_data",
          "data": {
            "image/png": "[encoded data removed]",
            "text/plain": [
              "Plot with title “”"
            ]
          },
          "metadata": {
            "tags": [],
            "image/png": {
              "width": 420,
              "height": 420
            }
          }
        }
      ]
    },
    {
      "cell_type": "code",
      "metadata": {
        "id": "K3Dk6FF9fJsh",
        "outputId": "a417cc26-869b-4a0d-f241-cd1cf3f7c578",
        "colab": {
          "base_uri": "https://localhost:8080/",
          "height": 610
        }
      },
      "source": [
        "# Visualisation 1\n",
        "# ---\n",
        "# \n",
        "ggpairs(dat)"
      ],
      "execution_count": 47,
      "outputs": [
        {
          "output_type": "stream",
          "text": [
            "`stat_bin()` using `bins = 30`. Pick better value with `binwidth`.\n",
            "\n",
            "`stat_bin()` using `bins = 30`. Pick better value with `binwidth`.\n",
            "\n",
            "`stat_bin()` using `bins = 30`. Pick better value with `binwidth`.\n",
            "\n",
            "`stat_bin()` using `bins = 30`. Pick better value with `binwidth`.\n",
            "\n",
            "`stat_bin()` using `bins = 30`. Pick better value with `binwidth`.\n",
            "\n"
          ],
          "name": "stderr"
        },
        {
          "output_type": "display_data",
          "data": {
            "image/png": "[encoded data removed]",
            "text/plain": [
              "plot without title"
            ]
          },
          "metadata": {
            "tags": [],
            "image/png": {
              "width": 420,
              "height": 420
            }
          }
        }
      ]
    },
    {
      "cell_type": "code",
      "metadata": {
        "id": "OW-OKBBWt1Zj",
        "outputId": "a467bd2d-c69c-4c27-d25a-11afbfe62a24",
        "colab": {
          "base_uri": "https://localhost:8080/",
          "height": 202
        }
      },
      "source": [
        "# Reading the first 6 rows of the iris dataset\n",
        "\n",
        "dim(dat)\n",
        "head(dat)"
      ],
      "execution_count": 48,
      "outputs": [
        {
          "output_type": "display_data",
          "data": {
            "text/plain": [
              "[1] 1000    6"
            ],
            "text/latex": "\\begin{enumerate*}\n\\item 1000\n\\item 6\n\\end{enumerate*}\n",
            "text/markdown": "1. 1000\n2. 6\n\n\n",
            "text/html": [
              "<style>\n",
              ".list-inline {list-style: none; margin:0; padding: 0}\n",
              ".list-inline>li {display: inline-block}\n",
              ".list-inline>li:not(:last-child)::after {content: \"\\00b7\"; padding: 0 .5ex}\n",
              "</style>\n",
              "<ol class=list-inline><li>1000</li><li>6</li></ol>\n"
            ]
          },
          "metadata": {
            "tags": []
          }
        },
        {
          "output_type": "display_data",
          "data": {
            "text/plain": [
              "  Daily Time Spent on Site Age Area Income Daily Internet Usage Male\n",
              "1 68.95                    35  61833.90    256.09               0   \n",
              "2 80.23                    31  68441.85    193.77               1   \n",
              "3 69.47                    26  59785.94    236.50               0   \n",
              "4 74.15                    29  54806.18    245.89               1   \n",
              "5 68.37                    35  73889.99    225.58               0   \n",
              "6 59.99                    23  59761.56    226.74               1   \n",
              "  Clicked on Ad\n",
              "1 Yes          \n",
              "2 Yes          \n",
              "3 Yes          \n",
              "4 Yes          \n",
              "5 Yes          \n",
              "6 Yes          "
            ],
            "text/latex": "A tibble: 6 × 6\n\\begin{tabular}{llllll}\n Daily Time Spent on Site & Age & Area Income & Daily Internet Usage & Male & Clicked on Ad\\\\\n <dbl> & <dbl> & <dbl> & <dbl> & <dbl> & <fct>\\\\\n\\hline\n\t 68.95 & 35 & 61833.90 & 256.09 & 0 & Yes\\\\\n\t 80.23 & 31 & 68441.85 & 193.77 & 1 & Yes\\\\\n\t 69.47 & 26 & 59785.94 & 236.50 & 0 & Yes\\\\\n\t 74.15 & 29 & 54806.18 & 245.89 & 1 & Yes\\\\\n\t 68.37 & 35 & 73889.99 & 225.58 & 0 & Yes\\\\\n\t 59.99 & 23 & 59761.56 & 226.74 & 1 & Yes\\\\\n\\end{tabular}\n",
            "text/markdown": "\nA tibble: 6 × 6\n\n| Daily Time Spent on Site &lt;dbl&gt; | Age &lt;dbl&gt; | Area Income &lt;dbl&gt; | Daily Internet Usage &lt;dbl&gt; | Male &lt;dbl&gt; | Clicked on Ad &lt;fct&gt; |\n|---|---|---|---|---|---|\n| 68.95 | 35 | 61833.90 | 256.09 | 0 | Yes |\n| 80.23 | 31 | 68441.85 | 193.77 | 1 | Yes |\n| 69.47 | 26 | 59785.94 | 236.50 | 0 | Yes |\n| 74.15 | 29 | 54806.18 | 245.89 | 1 | Yes |\n| 68.37 | 35 | 73889.99 | 225.58 | 0 | Yes |\n| 59.99 | 23 | 59761.56 | 226.74 | 1 | Yes |\n\n",
            "text/html": [
              "<table>\n",
              "<caption>A tibble: 6 × 6</caption>\n",
              "<thead>\n",
              "\t<tr><th scope=col>Daily Time Spent on Site</th><th scope=col>Age</th><th scope=col>Area Income</th><th scope=col>Daily Internet Usage</th><th scope=col>Male</th><th scope=col>Clicked on Ad</th></tr>\n",
              "\t<tr><th scope=col>&lt;dbl&gt;</th><th scope=col>&lt;dbl&gt;</th><th scope=col>&lt;dbl&gt;</th><th scope=col>&lt;dbl&gt;</th><th scope=col>&lt;dbl&gt;</th><th scope=col>&lt;fct&gt;</th></tr>\n",
              "</thead>\n",
              "<tbody>\n",
              "\t<tr><td>68.95</td><td>35</td><td>61833.90</td><td>256.09</td><td>0</td><td>Yes</td></tr>\n",
              "\t<tr><td>80.23</td><td>31</td><td>68441.85</td><td>193.77</td><td>1</td><td>Yes</td></tr>\n",
              "\t<tr><td>69.47</td><td>26</td><td>59785.94</td><td>236.50</td><td>0</td><td>Yes</td></tr>\n",
              "\t<tr><td>74.15</td><td>29</td><td>54806.18</td><td>245.89</td><td>1</td><td>Yes</td></tr>\n",
              "\t<tr><td>68.37</td><td>35</td><td>73889.99</td><td>225.58</td><td>0</td><td>Yes</td></tr>\n",
              "\t<tr><td>59.99</td><td>23</td><td>59761.56</td><td>226.74</td><td>1</td><td>Yes</td></tr>\n",
              "</tbody>\n",
              "</table>\n"
            ]
          },
          "metadata": {
            "tags": []
          }
        }
      ]
    },
    {
      "cell_type": "markdown",
      "metadata": {
        "id": "AZ_IhE7VWLWX"
      },
      "source": [
        "## Linear Models"
      ]
    },
    {
      "cell_type": "code",
      "metadata": {
        "id": "dj--ZEGCXERc",
        "outputId": "64aea77c-25c9-4a79-9d1b-e148e1f38bc0",
        "colab": {
          "base_uri": "https://localhost:8080/",
          "height": 277
        }
      },
      "source": [
        "# Applying the lm() function.\n",
        "\n",
        "multiple_lm <- lm(`Clicked on Ad` ~ ., dat)\n",
        "multiple_lm"
      ],
      "execution_count": 49,
      "outputs": [
        {
          "output_type": "stream",
          "text": [
            "Warning message in model.response(mf, \"numeric\"):\n",
            "“using type = \"numeric\" with a factor response will be ignored”\n",
            "Warning message in Ops.factor(y, z$residuals):\n",
            "“‘-’ not meaningful for factors”\n"
          ],
          "name": "stderr"
        },
        {
          "output_type": "display_data",
          "data": {
            "text/plain": [
              "\n",
              "Call:\n",
              "lm(formula = `Clicked on Ad` ~ ., data = dat)\n",
              "\n",
              "Coefficients:\n",
              "               (Intercept)  `Daily Time Spent on Site`  \n",
              "                 3.309e+00                  -1.279e-02  \n",
              "                       Age               `Area Income`  \n",
              "                 8.983e-03                  -6.173e-06  \n",
              "    `Daily Internet Usage`                        Male  \n",
              "                -5.260e-03                  -2.926e-02  \n"
            ]
          },
          "metadata": {
            "tags": []
          }
        }
      ]
    },
    {
      "cell_type": "code",
      "metadata": {
        "id": "KVBD4dqSXUpc",
        "outputId": "a9e0d26c-c2ff-4da6-d02e-8d67be3ccb1e",
        "colab": {
          "base_uri": "https://localhost:8080/",
          "height": 201
        }
      },
      "source": [
        "# Generating the anova table\n",
        "# anova(multiple_lm)\n",
        "# which predictor variables are significant, you can examine the coefficients table, \n",
        "# which shows the estimate of regression beta coefficients and the associated t-statitic p-values\n",
        "\n",
        "summary(multiple_lm)$coefficient"
      ],
      "execution_count": 50,
      "outputs": [
        {
          "output_type": "stream",
          "text": [
            "Warning message in Ops.factor(r, 2):\n",
            "“‘^’ not meaningful for factors”\n"
          ],
          "name": "stderr"
        },
        {
          "output_type": "display_data",
          "data": {
            "text/plain": [
              "                           Estimate      Std. Error t value Pr(>|t|)\n",
              "(Intercept)                 3.308568e+00 NA         NA      NA      \n",
              "`Daily Time Spent on Site` -1.279453e-02 NA         NA      NA      \n",
              "Age                         8.982714e-03 NA         NA      NA      \n",
              "`Area Income`              -6.172802e-06 NA         NA      NA      \n",
              "`Daily Internet Usage`     -5.259994e-03 NA         NA      NA      \n",
              "Male                       -2.926290e-02 NA         NA      NA      "
            ],
            "text/latex": "A matrix: 6 × 4 of type dbl\n\\begin{tabular}{r|llll}\n  & Estimate & Std. Error & t value & Pr(>\\textbar{}t\\textbar{})\\\\\n\\hline\n\t(Intercept) &  3.308568e+00 & NA & NA & NA\\\\\n\t`Daily Time Spent on Site` & -1.279453e-02 & NA & NA & NA\\\\\n\tAge &  8.982714e-03 & NA & NA & NA\\\\\n\t`Area Income` & -6.172802e-06 & NA & NA & NA\\\\\n\t`Daily Internet Usage` & -5.259994e-03 & NA & NA & NA\\\\\n\tMale & -2.926290e-02 & NA & NA & NA\\\\\n\\end{tabular}\n",
            "text/markdown": "\nA matrix: 6 × 4 of type dbl\n\n| <!--/--> | Estimate | Std. Error | t value | Pr(&gt;|t|) |\n|---|---|---|---|---|\n| (Intercept) |  3.308568e+00 | NA | NA | NA |\n| `Daily Time Spent on Site` | -1.279453e-02 | NA | NA | NA |\n| Age |  8.982714e-03 | NA | NA | NA |\n| `Area Income` | -6.172802e-06 | NA | NA | NA |\n| `Daily Internet Usage` | -5.259994e-03 | NA | NA | NA |\n| Male | -2.926290e-02 | NA | NA | NA |\n\n",
            "text/html": [
              "<table>\n",
              "<caption>A matrix: 6 × 4 of type dbl</caption>\n",
              "<thead>\n",
              "\t<tr><th></th><th scope=col>Estimate</th><th scope=col>Std. Error</th><th scope=col>t value</th><th scope=col>Pr(&gt;|t|)</th></tr>\n",
              "</thead>\n",
              "<tbody>\n",
              "\t<tr><th scope=row>(Intercept)</th><td> 3.308568e+00</td><td>NA</td><td>NA</td><td>NA</td></tr>\n",
              "\t<tr><th scope=row>`Daily Time Spent on Site`</th><td>-1.279453e-02</td><td>NA</td><td>NA</td><td>NA</td></tr>\n",
              "\t<tr><th scope=row>Age</th><td> 8.982714e-03</td><td>NA</td><td>NA</td><td>NA</td></tr>\n",
              "\t<tr><th scope=row>`Area Income`</th><td>-6.172802e-06</td><td>NA</td><td>NA</td><td>NA</td></tr>\n",
              "\t<tr><th scope=row>`Daily Internet Usage`</th><td>-5.259994e-03</td><td>NA</td><td>NA</td><td>NA</td></tr>\n",
              "\t<tr><th scope=row>Male</th><td>-2.926290e-02</td><td>NA</td><td>NA</td><td>NA</td></tr>\n",
              "</tbody>\n",
              "</table>\n"
            ]
          },
          "metadata": {
            "tags": []
          }
        }
      ]
    },
    {
      "cell_type": "code",
      "metadata": {
        "id": "FEN3acDJYN5X",
        "outputId": "cbf5ed4c-f24e-425a-adb3-e051f6964b9c",
        "colab": {
          "base_uri": "https://localhost:8080/",
          "height": 208
        }
      },
      "source": [
        "# The significant variables\n",
        "\n",
        "sig_lm <- lm(`Clicked on Ad` ~ Age, data = dat)\n",
        "sig_lm"
      ],
      "execution_count": 51,
      "outputs": [
        {
          "output_type": "stream",
          "text": [
            "Warning message in model.response(mf, \"numeric\"):\n",
            "“using type = \"numeric\" with a factor response will be ignored”\n",
            "Warning message in Ops.factor(y, z$residuals):\n",
            "“‘-’ not meaningful for factors”\n"
          ],
          "name": "stderr"
        },
        {
          "output_type": "display_data",
          "data": {
            "text/plain": [
              "\n",
              "Call:\n",
              "lm(formula = `Clicked on Ad` ~ Age, data = dat)\n",
              "\n",
              "Coefficients:\n",
              "(Intercept)          Age  \n",
              "    0.49014      0.02804  \n"
            ]
          },
          "metadata": {
            "tags": []
          }
        }
      ]
    },
    {
      "cell_type": "markdown",
      "metadata": {
        "id": "j5CCTqriY48l"
      },
      "source": [
        "* Our model equation is Clicked on Add = -0.50986 + 0.02804*Age"
      ]
    },
    {
      "cell_type": "code",
      "metadata": {
        "id": "GOBcgUhpRcph",
        "outputId": "058b8cb9-ed0e-4b24-df41-4f17d7fdfdc1",
        "colab": {
          "base_uri": "https://localhost:8080/",
          "height": 104
        }
      },
      "source": [
        "# RSE estimate gives a measure of error of prediction\n",
        "# The error rate can be estimated by dividing the RSE by the mean outcome variable\n",
        "\n",
        "sigma(sig_lm)/mean(dat$`Clicked on Ad`)"
      ],
      "execution_count": 52,
      "outputs": [
        {
          "output_type": "stream",
          "text": [
            "Warning message in Ops.factor(weighted.residuals(object), 2):\n",
            "“‘^’ not meaningful for factors”\n",
            "Warning message in mean.default(dat$`Clicked on Ad`):\n",
            "“argument is not numeric or logical: returning NA”\n"
          ],
          "name": "stderr"
        },
        {
          "output_type": "display_data",
          "data": {
            "text/plain": [
              "[1] NA"
            ],
            "text/latex": "<NA>",
            "text/markdown": "&lt;NA&gt;",
            "text/html": [
              "&lt;NA&gt;"
            ]
          },
          "metadata": {
            "tags": []
          }
        }
      ]
    },
    {
      "cell_type": "code",
      "metadata": {
        "id": "DYP1UHftRygL",
        "outputId": "f74ca054-6322-499c-9fd3-ca7c2e0e2d7d",
        "colab": {
          "base_uri": "https://localhost:8080/",
          "height": 126
        }
      },
      "source": [
        "# The confidence interval of the model coefficient can be extracted as follow:\n",
        "\n",
        "confint(sig_lm)"
      ],
      "execution_count": 53,
      "outputs": [
        {
          "output_type": "stream",
          "text": [
            "Warning message in Ops.factor(r, 2):\n",
            "“‘^’ not meaningful for factors”\n"
          ],
          "name": "stderr"
        },
        {
          "output_type": "display_data",
          "data": {
            "text/plain": [
              "            2.5 % 97.5 %\n",
              "(Intercept) NA    NA    \n",
              "Age         NA    NA    "
            ],
            "text/latex": "A matrix: 2 × 2 of type dbl\n\\begin{tabular}{r|ll}\n  & 2.5 \\% & 97.5 \\%\\\\\n\\hline\n\t(Intercept) & NA & NA\\\\\n\tAge & NA & NA\\\\\n\\end{tabular}\n",
            "text/markdown": "\nA matrix: 2 × 2 of type dbl\n\n| <!--/--> | 2.5 % | 97.5 % |\n|---|---|---|\n| (Intercept) | NA | NA |\n| Age | NA | NA |\n\n",
            "text/html": [
              "<table>\n",
              "<caption>A matrix: 2 × 2 of type dbl</caption>\n",
              "<thead>\n",
              "\t<tr><th></th><th scope=col>2.5 %</th><th scope=col>97.5 %</th></tr>\n",
              "</thead>\n",
              "<tbody>\n",
              "\t<tr><th scope=row>(Intercept)</th><td>NA</td><td>NA</td></tr>\n",
              "\t<tr><th scope=row>Age</th><td>NA</td><td>NA</td></tr>\n",
              "</tbody>\n",
              "</table>\n"
            ]
          },
          "metadata": {
            "tags": []
          }
        }
      ]
    },
    {
      "cell_type": "markdown",
      "metadata": {
        "id": "PYhysaWXm0Ed"
      },
      "source": [
        "## KNN"
      ]
    },
    {
      "cell_type": "code",
      "metadata": {
        "id": "esXjl00Wnbw9",
        "outputId": "4c610836-fd30-4400-8091-b1c884d93a9c",
        "colab": {
          "base_uri": "https://localhost:8080/",
          "height": 260
        }
      },
      "source": [
        "# Fetting a summary of our dataset\n",
        "\n",
        "summary(dat)"
      ],
      "execution_count": 54,
      "outputs": [
        {
          "output_type": "display_data",
          "data": {
            "text/plain": [
              " Daily Time Spent on Site      Age         Area Income    Daily Internet Usage\n",
              " Min.   :32.60            Min.   :19.00   Min.   :13996   Min.   :104.8       \n",
              " 1st Qu.:51.36            1st Qu.:29.00   1st Qu.:47032   1st Qu.:138.8       \n",
              " Median :68.22            Median :35.00   Median :57012   Median :183.1       \n",
              " Mean   :65.00            Mean   :36.01   Mean   :55000   Mean   :180.0       \n",
              " 3rd Qu.:78.55            3rd Qu.:42.00   3rd Qu.:65471   3rd Qu.:218.8       \n",
              " Max.   :91.43            Max.   :61.00   Max.   :79485   Max.   :270.0       \n",
              "      Male       Clicked on Ad\n",
              " Min.   :0.000   Yes:500      \n",
              " 1st Qu.:0.000   No :500      \n",
              " Median :0.000                \n",
              " Mean   :0.481                \n",
              " 3rd Qu.:1.000                \n",
              " Max.   :1.000                "
            ]
          },
          "metadata": {
            "tags": []
          }
        }
      ]
    },
    {
      "cell_type": "code",
      "metadata": {
        "id": "PnoVZBvtuWTP"
      },
      "source": [
        "# Storing it as data frame\n",
        "dia <- data.frame(dat)"
      ],
      "execution_count": 55,
      "outputs": []
    },
    {
      "cell_type": "code",
      "metadata": {
        "id": "wzGQu9giubBs"
      },
      "source": [
        "# Creating a random number equal 90% of total number of rows\n",
        "ran <- sample(1:nrow(dia),0.9 * nrow(dia))\n",
        "\n",
        "# The normalization function is created\n",
        "nor <-function(x) { (x -min(x))/(max(x)-min(x))   }"
      ],
      "execution_count": 56,
      "outputs": []
    },
    {
      "cell_type": "code",
      "metadata": {
        "id": "yb3Eig0Qujlm"
      },
      "source": [
        "# Normalization function is applied to the dataframe\n",
        "dia_nor <- as.data.frame(lapply(dia[,c(1,2,3,4,5)], nor))"
      ],
      "execution_count": 57,
      "outputs": []
    },
    {
      "cell_type": "code",
      "metadata": {
        "id": "Pi6IGjjwuoxf"
      },
      "source": [
        "# The training dataset extracted\n",
        "dia_train <- dia_nor[ran,]\n",
        "\n",
        "# The test dataset extracted\n",
        "dia_test <- dia_nor[-ran,]"
      ],
      "execution_count": 58,
      "outputs": []
    },
    {
      "cell_type": "code",
      "metadata": {
        "id": "7J9-VJYAuuKn"
      },
      "source": [
        "# The 6th column of training dataset because that is what we need to predict about testing dataset\n",
        "# also convert ordered factor to normal factor\n",
        "dia_target <- as.factor(dia[ran,6])"
      ],
      "execution_count": 59,
      "outputs": []
    },
    {
      "cell_type": "code",
      "metadata": {
        "id": "TmuKQ5kcu0i7"
      },
      "source": [
        "# The actual values of 6th column of testing dataset to compaire it with values that will be predicted\n",
        "# also convert ordered factor to normal factor\n",
        "test_target <- as.factor(dia[-ran,6])"
      ],
      "execution_count": 60,
      "outputs": []
    },
    {
      "cell_type": "code",
      "metadata": {
        "id": "Q6AspFUIu6Lu"
      },
      "source": [
        "# Running the knn function\n",
        "library(class)\n",
        "pr <- knn(dia_train,dia_test,cl=dia_target,k=20)"
      ],
      "execution_count": 61,
      "outputs": []
    },
    {
      "cell_type": "code",
      "metadata": {
        "id": "p9AUGo3fu9P0",
        "outputId": "e581fac0-e23e-4db1-826b-892369cb32ba",
        "colab": {
          "base_uri": "https://localhost:8080/",
          "height": 86
        }
      },
      "source": [
        "# Creating the confucion matrix\n",
        "tb <- table(pr,test_target)\n",
        "tb"
      ],
      "execution_count": 62,
      "outputs": [
        {
          "output_type": "display_data",
          "data": {
            "text/plain": [
              "     test_target\n",
              "pr    Yes No\n",
              "  Yes  54  3\n",
              "  No    3 40"
            ]
          },
          "metadata": {
            "tags": []
          }
        }
      ]
    },
    {
      "cell_type": "code",
      "metadata": {
        "id": "8iBsTqnHvApR",
        "outputId": "2d9969e6-1e99-495d-94f9-4f0bfa752e90",
        "colab": {
          "base_uri": "https://localhost:8080/",
          "height": 34
        }
      },
      "source": [
        "# Checking the accuracy\n",
        "accuracy <- function(x){sum(diag(x)/(sum(rowSums(x)))) * 100}\n",
        "accuracy(tb)"
      ],
      "execution_count": 63,
      "outputs": [
        {
          "output_type": "display_data",
          "data": {
            "text/plain": [
              "[1] 94"
            ],
            "text/latex": "94",
            "text/markdown": "94",
            "text/html": [
              "94"
            ]
          },
          "metadata": {
            "tags": []
          }
        }
      ]
    },
    {
      "cell_type": "code",
      "metadata": {
        "id": "wGsBJOGdvSnM",
        "outputId": "cb9904a2-0241-4e7d-e738-a89f2fafc6f1",
        "colab": {
          "base_uri": "https://localhost:8080/",
          "height": 52
        }
      },
      "source": [
        "# Test accuracy rate\n",
        "sum(diag(tb)/sum(tb))\n",
        "\n",
        "# Test error rate\n",
        "1 - sum(diag(tb)/sum(tb))\n",
        "\n",
        "# As you may notice, test accuracy rate + test error rate = 1, and I’m providing multiple ways of calculating each value."
      ],
      "execution_count": 64,
      "outputs": [
        {
          "output_type": "display_data",
          "data": {
            "text/plain": [
              "[1] 0.94"
            ],
            "text/latex": "0.94",
            "text/markdown": "0.94",
            "text/html": [
              "0.94"
            ]
          },
          "metadata": {
            "tags": []
          }
        },
        {
          "output_type": "display_data",
          "data": {
            "text/plain": [
              "[1] 0.06"
            ],
            "text/latex": "0.0599999999999999",
            "text/markdown": "0.0599999999999999",
            "text/html": [
              "0.0599999999999999"
            ]
          },
          "metadata": {
            "tags": []
          }
        }
      ]
    },
    {
      "cell_type": "markdown",
      "metadata": {
        "id": "RUQA8ui9vHWr"
      },
      "source": [
        "* Our model has archieved a 94% accuracy score\n",
        "* we have n error of 5.999%"
      ]
    },
    {
      "cell_type": "markdown",
      "metadata": {
        "id": "0GVW-XamwjbK"
      },
      "source": [
        "## Decision Tree"
      ]
    },
    {
      "cell_type": "code",
      "metadata": {
        "id": "SI3SRtmwwzTg",
        "outputId": "6d0794f1-4de0-462b-94a6-5849a1398eb9",
        "colab": {
          "base_uri": "https://localhost:8080/"
        }
      },
      "source": [
        "# Load the party package. It will automatically load other\n",
        "\n",
        "install.packages(\"party\")\n",
        "library(party)"
      ],
      "execution_count": 65,
      "outputs": [
        {
          "output_type": "stream",
          "text": [
            "Installing package into ‘/usr/local/lib/R/site-library’\n",
            "(as ‘lib’ is unspecified)\n",
            "\n",
            "also installing the dependencies ‘TH.data’, ‘libcoin’, ‘matrixStats’, ‘multcomp’, ‘mvtnorm’, ‘modeltools’, ‘strucchange’, ‘coin’, ‘zoo’, ‘sandwich’\n",
            "\n",
            "\n",
            "Loading required package: grid\n",
            "\n",
            "Loading required package: mvtnorm\n",
            "\n",
            "Loading required package: modeltools\n",
            "\n",
            "Loading required package: stats4\n",
            "\n",
            "Loading required package: strucchange\n",
            "\n",
            "Loading required package: zoo\n",
            "\n",
            "\n",
            "Attaching package: ‘zoo’\n",
            "\n",
            "\n",
            "The following objects are masked from ‘package:base’:\n",
            "\n",
            "    as.Date, as.Date.numeric\n",
            "\n",
            "\n",
            "Loading required package: sandwich\n",
            "\n",
            "\n",
            "Attaching package: ‘strucchange’\n",
            "\n",
            "\n",
            "The following object is masked from ‘package:stringr’:\n",
            "\n",
            "    boundary\n",
            "\n",
            "\n"
          ],
          "name": "stderr"
        }
      ]
    },
    {
      "cell_type": "code",
      "metadata": {
        "id": "zP0vmq1rx2nJ"
      },
      "source": [
        "# Creating the input data frame.\n",
        "input.dat <- dat[c(1:905),]"
      ],
      "execution_count": 66,
      "outputs": []
    },
    {
      "cell_type": "code",
      "metadata": {
        "id": "7mlrZDEjx92Z"
      },
      "source": [
        "# Creating the tree.\n",
        "  output.tree <- ctree(\n",
        "  `Clicked on Ad`~ `Daily Time Spent on Site` + Age + `Area Income` + `Daily Internet Usage` + Male, \n",
        "  data = input.dat)"
      ],
      "execution_count": 67,
      "outputs": []
    },
    {
      "cell_type": "code",
      "metadata": {
        "id": "y1Cv40FqyTOj",
        "outputId": "dbf502ec-fcb1-42a0-b6ff-cf80e4b9d2a9",
        "colab": {
          "base_uri": "https://localhost:8080/",
          "height": 437
        }
      },
      "source": [
        "# Plotting the tree.\n",
        "plot(output.tree)"
      ],
      "execution_count": 68,
      "outputs": [
        {
          "output_type": "display_data",
          "data": {
            "image/png": "[encoded data removed]",
            "text/plain": [
              "plot without title"
            ]
          },
          "metadata": {
            "tags": [],
            "image/png": {
              "width": 420,
              "height": 420
            }
          }
        }
      ]
    },
    {
      "cell_type": "markdown",
      "metadata": {
        "id": "S4lzqYOrylar"
      },
      "source": [
        "## SVM"
      ]
    },
    {
      "cell_type": "code",
      "metadata": {
        "id": "Zp_DMq8WynXe",
        "outputId": "74997180-28a8-41bc-9805-fde56a4f1ffc",
        "colab": {
          "base_uri": "https://localhost:8080/"
        }
      },
      "source": [
        "# We first install the caret package. \n",
        "# This package will be very helfpul in providing us with \n",
        "# direct access to various functions for training our model\n",
        "# with various machine learning algorithms such \n",
        "# as KNN, SVM, Decision Tree, Linear Regression etc.\n",
        "# ---\n",
        "# \n",
        "install.packages('caret')\n",
        "library(caret)\n",
        "\n",
        "install.packages(\"kernlab\")\n",
        "library(kernlab)\n",
        "\n",
        "install.packages(\"e1071\")\n",
        "library(e1071)"
      ],
      "execution_count": 69,
      "outputs": [
        {
          "output_type": "stream",
          "text": [
            "Installing package into ‘/usr/local/lib/R/site-library’\n",
            "(as ‘lib’ is unspecified)\n",
            "\n",
            "also installing the dependencies ‘numDeriv’, ‘SQUAREM’, ‘lava’, ‘prodlim’, ‘iterators’, ‘data.table’, ‘gower’, ‘ipred’, ‘timeDate’, ‘foreach’, ‘ModelMetrics’, ‘reshape2’, ‘recipes’, ‘pROC’\n",
            "\n",
            "\n",
            "Loading required package: lattice\n",
            "\n",
            "\n",
            "Attaching package: ‘caret’\n",
            "\n",
            "\n",
            "The following object is masked from ‘package:purrr’:\n",
            "\n",
            "    lift\n",
            "\n",
            "\n",
            "Installing package into ‘/usr/local/lib/R/site-library’\n",
            "(as ‘lib’ is unspecified)\n",
            "\n",
            "\n",
            "Attaching package: ‘kernlab’\n",
            "\n",
            "\n",
            "The following object is masked from ‘package:modeltools’:\n",
            "\n",
            "    prior\n",
            "\n",
            "\n",
            "The following object is masked from ‘package:psych’:\n",
            "\n",
            "    alpha\n",
            "\n",
            "\n",
            "The following object is masked from ‘package:purrr’:\n",
            "\n",
            "    cross\n",
            "\n",
            "\n",
            "The following object is masked from ‘package:ggplot2’:\n",
            "\n",
            "    alpha\n",
            "\n",
            "\n",
            "Installing package into ‘/usr/local/lib/R/site-library’\n",
            "(as ‘lib’ is unspecified)\n",
            "\n"
          ],
          "name": "stderr"
        }
      ]
    },
    {
      "cell_type": "code",
      "metadata": {
        "id": "szH5AjuG8NU-",
        "outputId": "7018fe6e-0a18-43ce-b0e6-f126592e2350",
        "colab": {
          "base_uri": "https://localhost:8080/"
        }
      },
      "source": [
        "# Next we split the data into training set and testing set. \n",
        "# NB: The training set will be used for model building while the testing set for model evaluation.\n",
        "# ---\n",
        "# - The “y” parameter takes the value of variable according to which data needs to be partitioned. \n",
        "# In our case, target variable is at Clicked on Ad, so we are passing dat$`Clicked on Ad`\n",
        "# - The “p” parameter holds a decimal value in the range of 0-1. It’s to show the percentage of the split. \n",
        "# We are using p=0.7. It means that data split should be done in 70:30 ratio. \n",
        "# So, 70% of the data is used for training and the remaining 30% is for testing the model.\n",
        "# - The “list” parameter is for whether to return a list or matrix. \n",
        "# We are passing FALSE for not returning a list\n",
        "# ---\n",
        "# \n",
        "intrain <- createDataPartition(y = dat$`Clicked on Ad`, p= 0.7, list = FALSE)\n",
        "training <- dat[intrain,]\n",
        "testing <- dat[-intrain,]"
      ],
      "execution_count": 70,
      "outputs": [
        {
          "output_type": "stream",
          "text": [
            "Warning message:\n",
            "“The `i` argument of ``[`()` can't be a matrix as of tibble 3.0.0.\n",
            "Convert to a vector.\n",
            "\u001b[90mThis warning is displayed once every 8 hours.\u001b[39m\n",
            "\u001b[90mCall `lifecycle::last_warnings()` to see where this warning was generated.\u001b[39m”\n"
          ],
          "name": "stderr"
        }
      ]
    },
    {
      "cell_type": "code",
      "metadata": {
        "id": "Wu-gQaE08bwQ",
        "outputId": "6fe22dbb-d9d6-4f62-e0f9-4689809ac67c",
        "colab": {
          "base_uri": "https://localhost:8080/",
          "height": 52
        }
      },
      "source": [
        "# We check the dimensions of out training dataframe and testing dataframe\n",
        "# ---\n",
        "# \n",
        "dim(training); \n",
        "dim(testing);"
      ],
      "execution_count": 71,
      "outputs": [
        {
          "output_type": "display_data",
          "data": {
            "text/plain": [
              "[1] 700   6"
            ],
            "text/latex": "\\begin{enumerate*}\n\\item 700\n\\item 6\n\\end{enumerate*}\n",
            "text/markdown": "1. 700\n2. 6\n\n\n",
            "text/html": [
              "<style>\n",
              ".list-inline {list-style: none; margin:0; padding: 0}\n",
              ".list-inline>li {display: inline-block}\n",
              ".list-inline>li:not(:last-child)::after {content: \"\\00b7\"; padding: 0 .5ex}\n",
              "</style>\n",
              "<ol class=list-inline><li>700</li><li>6</li></ol>\n"
            ]
          },
          "metadata": {
            "tags": []
          }
        },
        {
          "output_type": "display_data",
          "data": {
            "text/plain": [
              "[1] 300   6"
            ],
            "text/latex": "\\begin{enumerate*}\n\\item 300\n\\item 6\n\\end{enumerate*}\n",
            "text/markdown": "1. 300\n2. 6\n\n\n",
            "text/html": [
              "<style>\n",
              ".list-inline {list-style: none; margin:0; padding: 0}\n",
              ".list-inline>li {display: inline-block}\n",
              ".list-inline>li:not(:last-child)::after {content: \"\\00b7\"; padding: 0 .5ex}\n",
              "</style>\n",
              "<ol class=list-inline><li>300</li><li>6</li></ol>\n"
            ]
          },
          "metadata": {
            "tags": []
          }
        }
      ]
    },
    {
      "cell_type": "code",
      "metadata": {
        "id": "VJQwAw7u9_bZ"
      },
      "source": [
        "trctrl <- trainControl(method = \"repeatedcv\", number = 10, repeats = 3)\n",
        "\n",
        "svm_Linear <- train(`Clicked on Ad` ~., data = training, method = \"svmLinear\",\n",
        "trControl=trctrl,\n",
        "preProcess = c(\"center\", \"scale\"),\n",
        "tuneLength = 10)"
      ],
      "execution_count": 72,
      "outputs": []
    },
    {
      "cell_type": "code",
      "metadata": {
        "id": "9dkXWQeg-JO3",
        "outputId": "4a356e97-50ca-45f8-d945-6afd33ab1235",
        "colab": {
          "base_uri": "https://localhost:8080/",
          "height": 277
        }
      },
      "source": [
        "# We can then check the reult of our train() model as shown below\n",
        "# ---\n",
        "# \n",
        "svm_Linear"
      ],
      "execution_count": 73,
      "outputs": [
        {
          "output_type": "display_data",
          "data": {
            "text/plain": [
              "Support Vector Machines with Linear Kernel \n",
              "\n",
              "700 samples\n",
              "  5 predictor\n",
              "  2 classes: 'Yes', 'No' \n",
              "\n",
              "Pre-processing: centered (5), scaled (5) \n",
              "Resampling: Cross-Validated (10 fold, repeated 3 times) \n",
              "Summary of sample sizes: 630, 630, 630, 630, 630, 630, ... \n",
              "Resampling results:\n",
              "\n",
              "  Accuracy   Kappa    \n",
              "  0.9685714  0.9371429\n",
              "\n",
              "Tuning parameter 'C' was held constant at a value of 1"
            ]
          },
          "metadata": {
            "tags": []
          }
        }
      ]
    },
    {
      "cell_type": "markdown",
      "metadata": {
        "id": "v7K8awo5-X5K"
      },
      "source": [
        "* We have a 96.86% accuracy score \n",
        "* Te diagonal sum / Cohen's kappa is the diagonal sum of the (possibly weighted) relative frequencies, corrected for expected values and standardized by its maximum value. And it has an accuracy of 93.71%"
      ]
    },
    {
      "cell_type": "code",
      "metadata": {
        "id": "MmXbJfy5-N3h",
        "outputId": "f652f3e7-3fdd-4cfb-e715-c36461227ff3",
        "colab": {
          "base_uri": "https://localhost:8080/",
          "height": 0
        }
      },
      "source": [
        "# We can use the predict() method for predicting results as shown below. \n",
        "# We pass 2 arguements, our trained model and our testing data frame.\n",
        "# ---\n",
        "# \n",
        "test_pred <- predict(svm_Linear, newdata = testing)\n",
        "test_pred"
      ],
      "execution_count": 74,
      "outputs": [
        {
          "output_type": "display_data",
          "data": {
            "text/plain": [
              "  [1] Yes Yes Yes No  No  No  Yes No  Yes Yes Yes No  Yes No  Yes Yes No  Yes\n",
              " [19] No  No  No  Yes No  Yes No  No  Yes No  No  No  No  Yes No  Yes No  Yes\n",
              " [37] Yes Yes Yes No  No  No  No  Yes No  Yes No  Yes No  No  No  Yes Yes Yes\n",
              " [55] No  No  Yes Yes Yes No  Yes No  No  No  No  Yes Yes Yes Yes No  Yes Yes\n",
              " [73] No  Yes No  No  Yes Yes No  No  No  Yes Yes No  Yes Yes No  Yes No  No \n",
              " [91] No  Yes Yes Yes Yes No  Yes Yes No  Yes Yes No  No  No  Yes Yes Yes Yes\n",
              "[109] No  Yes Yes Yes Yes Yes No  Yes Yes Yes No  No  Yes No  Yes No  Yes Yes\n",
              "[127] No  Yes No  No  No  Yes Yes No  Yes Yes No  No  No  Yes Yes No  Yes No \n",
              "[145] Yes No  No  Yes No  Yes No  No  Yes No  Yes Yes Yes No  No  Yes Yes Yes\n",
              "[163] Yes No  Yes Yes No  No  Yes No  No  Yes Yes No  Yes Yes No  No  No  Yes\n",
              "[181] No  Yes No  Yes No  Yes Yes Yes No  No  Yes No  No  No  Yes Yes Yes No \n",
              "[199] Yes Yes Yes No  Yes Yes Yes No  Yes Yes Yes Yes Yes Yes No  Yes No  No \n",
              "[217] Yes Yes Yes Yes Yes Yes No  Yes Yes Yes No  Yes Yes Yes No  No  Yes No \n",
              "[235] No  No  No  Yes No  No  No  No  No  No  No  Yes Yes No  No  No  Yes Yes\n",
              "[253] Yes No  No  No  Yes No  Yes Yes No  No  No  Yes Yes Yes No  Yes Yes No \n",
              "[271] No  Yes No  No  Yes No  No  No  No  Yes Yes Yes No  No  No  No  No  Yes\n",
              "[289] Yes No  No  No  No  Yes Yes No  No  Yes No  No \n",
              "Levels: Yes No"
            ],
            "text/latex": "\\begin{enumerate*}\n\\item Yes\n\\item Yes\n\\item Yes\n\\item No\n\\item No\n\\item No\n\\item Yes\n\\item No\n\\item Yes\n\\item Yes\n\\item Yes\n\\item No\n\\item Yes\n\\item No\n\\item Yes\n\\item Yes\n\\item No\n\\item Yes\n\\item No\n\\item No\n\\item No\n\\item Yes\n\\item No\n\\item Yes\n\\item No\n\\item No\n\\item Yes\n\\item No\n\\item No\n\\item No\n\\item No\n\\item Yes\n\\item No\n\\item Yes\n\\item No\n\\item Yes\n\\item Yes\n\\item Yes\n\\item Yes\n\\item No\n\\item No\n\\item No\n\\item No\n\\item Yes\n\\item No\n\\item Yes\n\\item No\n\\item Yes\n\\item No\n\\item No\n\\item No\n\\item Yes\n\\item Yes\n\\item Yes\n\\item No\n\\item No\n\\item Yes\n\\item Yes\n\\item Yes\n\\item No\n\\item Yes\n\\item No\n\\item No\n\\item No\n\\item No\n\\item Yes\n\\item Yes\n\\item Yes\n\\item Yes\n\\item No\n\\item Yes\n\\item Yes\n\\item No\n\\item Yes\n\\item No\n\\item No\n\\item Yes\n\\item Yes\n\\item No\n\\item No\n\\item No\n\\item Yes\n\\item Yes\n\\item No\n\\item Yes\n\\item Yes\n\\item No\n\\item Yes\n\\item No\n\\item No\n\\item No\n\\item Yes\n\\item Yes\n\\item Yes\n\\item Yes\n\\item No\n\\item Yes\n\\item Yes\n\\item No\n\\item Yes\n\\item Yes\n\\item No\n\\item No\n\\item No\n\\item Yes\n\\item Yes\n\\item Yes\n\\item Yes\n\\item No\n\\item Yes\n\\item Yes\n\\item Yes\n\\item Yes\n\\item Yes\n\\item No\n\\item Yes\n\\item Yes\n\\item Yes\n\\item No\n\\item No\n\\item Yes\n\\item No\n\\item Yes\n\\item No\n\\item Yes\n\\item Yes\n\\item No\n\\item Yes\n\\item No\n\\item No\n\\item No\n\\item Yes\n\\item Yes\n\\item No\n\\item Yes\n\\item Yes\n\\item No\n\\item No\n\\item No\n\\item Yes\n\\item Yes\n\\item No\n\\item Yes\n\\item No\n\\item Yes\n\\item No\n\\item No\n\\item Yes\n\\item No\n\\item Yes\n\\item No\n\\item No\n\\item Yes\n\\item No\n\\item Yes\n\\item Yes\n\\item Yes\n\\item No\n\\item No\n\\item Yes\n\\item Yes\n\\item Yes\n\\item Yes\n\\item No\n\\item Yes\n\\item Yes\n\\item No\n\\item No\n\\item Yes\n\\item No\n\\item No\n\\item Yes\n\\item Yes\n\\item No\n\\item Yes\n\\item Yes\n\\item No\n\\item No\n\\item No\n\\item Yes\n\\item No\n\\item Yes\n\\item No\n\\item Yes\n\\item No\n\\item Yes\n\\item Yes\n\\item Yes\n\\item No\n\\item No\n\\item Yes\n\\item No\n\\item No\n\\item No\n\\item Yes\n\\item Yes\n\\item Yes\n\\item No\n\\item Yes\n\\item Yes\n\\item Yes\n\\item No\n\\item Yes\n\\item Yes\n\\item Yes\n\\item No\n\\item Yes\n\\item Yes\n\\item Yes\n\\item Yes\n\\item Yes\n\\item Yes\n\\item No\n\\item Yes\n\\item No\n\\item No\n\\item Yes\n\\item Yes\n\\item Yes\n\\item Yes\n\\item Yes\n\\item Yes\n\\item No\n\\item Yes\n\\item Yes\n\\item Yes\n\\item No\n\\item Yes\n\\item Yes\n\\item Yes\n\\item No\n\\item No\n\\item Yes\n\\item No\n\\item No\n\\item No\n\\item No\n\\item Yes\n\\item No\n\\item No\n\\item No\n\\item No\n\\item No\n\\item No\n\\item No\n\\item Yes\n\\item Yes\n\\item No\n\\item No\n\\item No\n\\item Yes\n\\item Yes\n\\item Yes\n\\item No\n\\item No\n\\item No\n\\item Yes\n\\item No\n\\item Yes\n\\item Yes\n\\item No\n\\item No\n\\item No\n\\item Yes\n\\item Yes\n\\item Yes\n\\item No\n\\item Yes\n\\item Yes\n\\item No\n\\item No\n\\item Yes\n\\item No\n\\item No\n\\item Yes\n\\item No\n\\item No\n\\item No\n\\item No\n\\item Yes\n\\item Yes\n\\item Yes\n\\item No\n\\item No\n\\item No\n\\item No\n\\item No\n\\item Yes\n\\item Yes\n\\item No\n\\item No\n\\item No\n\\item No\n\\item Yes\n\\item Yes\n\\item No\n\\item No\n\\item Yes\n\\item No\n\\item No\n\\end{enumerate*}\n\n\\emph{Levels}: \\begin{enumerate*}\n\\item 'Yes'\n\\item 'No'\n\\end{enumerate*}\n",
            "text/markdown": "1. Yes\n2. Yes\n3. Yes\n4. No\n5. No\n6. No\n7. Yes\n8. No\n9. Yes\n10. Yes\n11. Yes\n12. No\n13. Yes\n14. No\n15. Yes\n16. Yes\n17. No\n18. Yes\n19. No\n20. No\n21. No\n22. Yes\n23. No\n24. Yes\n25. No\n26. No\n27. Yes\n28. No\n29. No\n30. No\n31. No\n32. Yes\n33. No\n34. Yes\n35. No\n36. Yes\n37. Yes\n38. Yes\n39. Yes\n40. No\n41. No\n42. No\n43. No\n44. Yes\n45. No\n46. Yes\n47. No\n48. Yes\n49. No\n50. No\n51. No\n52. Yes\n53. Yes\n54. Yes\n55. No\n56. No\n57. Yes\n58. Yes\n59. Yes\n60. No\n61. Yes\n62. No\n63. No\n64. No\n65. No\n66. Yes\n67. Yes\n68. Yes\n69. Yes\n70. No\n71. Yes\n72. Yes\n73. No\n74. Yes\n75. No\n76. No\n77. Yes\n78. Yes\n79. No\n80. No\n81. No\n82. Yes\n83. Yes\n84. No\n85. Yes\n86. Yes\n87. No\n88. Yes\n89. No\n90. No\n91. No\n92. Yes\n93. Yes\n94. Yes\n95. Yes\n96. No\n97. Yes\n98. Yes\n99. No\n100. Yes\n101. Yes\n102. No\n103. No\n104. No\n105. Yes\n106. Yes\n107. Yes\n108. Yes\n109. No\n110. Yes\n111. Yes\n112. Yes\n113. Yes\n114. Yes\n115. No\n116. Yes\n117. Yes\n118. Yes\n119. No\n120. No\n121. Yes\n122. No\n123. Yes\n124. No\n125. Yes\n126. Yes\n127. No\n128. Yes\n129. No\n130. No\n131. No\n132. Yes\n133. Yes\n134. No\n135. Yes\n136. Yes\n137. No\n138. No\n139. No\n140. Yes\n141. Yes\n142. No\n143. Yes\n144. No\n145. Yes\n146. No\n147. No\n148. Yes\n149. No\n150. Yes\n151. No\n152. No\n153. Yes\n154. No\n155. Yes\n156. Yes\n157. Yes\n158. No\n159. No\n160. Yes\n161. Yes\n162. Yes\n163. Yes\n164. No\n165. Yes\n166. Yes\n167. No\n168. No\n169. Yes\n170. No\n171. No\n172. Yes\n173. Yes\n174. No\n175. Yes\n176. Yes\n177. No\n178. No\n179. No\n180. Yes\n181. No\n182. Yes\n183. No\n184. Yes\n185. No\n186. Yes\n187. Yes\n188. Yes\n189. No\n190. No\n191. Yes\n192. No\n193. No\n194. No\n195. Yes\n196. Yes\n197. Yes\n198. No\n199. Yes\n200. Yes\n201. Yes\n202. No\n203. Yes\n204. Yes\n205. Yes\n206. No\n207. Yes\n208. Yes\n209. Yes\n210. Yes\n211. Yes\n212. Yes\n213. No\n214. Yes\n215. No\n216. No\n217. Yes\n218. Yes\n219. Yes\n220. Yes\n221. Yes\n222. Yes\n223. No\n224. Yes\n225. Yes\n226. Yes\n227. No\n228. Yes\n229. Yes\n230. Yes\n231. No\n232. No\n233. Yes\n234. No\n235. No\n236. No\n237. No\n238. Yes\n239. No\n240. No\n241. No\n242. No\n243. No\n244. No\n245. No\n246. Yes\n247. Yes\n248. No\n249. No\n250. No\n251. Yes\n252. Yes\n253. Yes\n254. No\n255. No\n256. No\n257. Yes\n258. No\n259. Yes\n260. Yes\n261. No\n262. No\n263. No\n264. Yes\n265. Yes\n266. Yes\n267. No\n268. Yes\n269. Yes\n270. No\n271. No\n272. Yes\n273. No\n274. No\n275. Yes\n276. No\n277. No\n278. No\n279. No\n280. Yes\n281. Yes\n282. Yes\n283. No\n284. No\n285. No\n286. No\n287. No\n288. Yes\n289. Yes\n290. No\n291. No\n292. No\n293. No\n294. Yes\n295. Yes\n296. No\n297. No\n298. Yes\n299. No\n300. No\n\n\n\n**Levels**: 1. 'Yes'\n2. 'No'\n\n\n",
            "text/html": [
              "<style>\n",
              ".list-inline {list-style: none; margin:0; padding: 0}\n",
              ".list-inline>li {display: inline-block}\n",
              ".list-inline>li:not(:last-child)::after {content: \"\\00b7\"; padding: 0 .5ex}\n",
              "</style>\n",
              "<ol class=list-inline><li>Yes</li><li>Yes</li><li>Yes</li><li>No</li><li>No</li><li>No</li><li>Yes</li><li>No</li><li>Yes</li><li>Yes</li><li>Yes</li><li>No</li><li>Yes</li><li>No</li><li>Yes</li><li>Yes</li><li>No</li><li>Yes</li><li>No</li><li>No</li><li>No</li><li>Yes</li><li>No</li><li>Yes</li><li>No</li><li>No</li><li>Yes</li><li>No</li><li>No</li><li>No</li><li>No</li><li>Yes</li><li>No</li><li>Yes</li><li>No</li><li>Yes</li><li>Yes</li><li>Yes</li><li>Yes</li><li>No</li><li>No</li><li>No</li><li>No</li><li>Yes</li><li>No</li><li>Yes</li><li>No</li><li>Yes</li><li>No</li><li>No</li><li>No</li><li>Yes</li><li>Yes</li><li>Yes</li><li>No</li><li>No</li><li>Yes</li><li>Yes</li><li>Yes</li><li>No</li><li>Yes</li><li>No</li><li>No</li><li>No</li><li>No</li><li>Yes</li><li>Yes</li><li>Yes</li><li>Yes</li><li>No</li><li>Yes</li><li>Yes</li><li>No</li><li>Yes</li><li>No</li><li>No</li><li>Yes</li><li>Yes</li><li>No</li><li>No</li><li>No</li><li>Yes</li><li>Yes</li><li>No</li><li>Yes</li><li>Yes</li><li>No</li><li>Yes</li><li>No</li><li>No</li><li>No</li><li>Yes</li><li>Yes</li><li>Yes</li><li>Yes</li><li>No</li><li>Yes</li><li>Yes</li><li>No</li><li>Yes</li><li>Yes</li><li>No</li><li>No</li><li>No</li><li>Yes</li><li>Yes</li><li>Yes</li><li>Yes</li><li>No</li><li>Yes</li><li>Yes</li><li>Yes</li><li>Yes</li><li>Yes</li><li>No</li><li>Yes</li><li>Yes</li><li>Yes</li><li>No</li><li>No</li><li>Yes</li><li>No</li><li>Yes</li><li>No</li><li>Yes</li><li>Yes</li><li>No</li><li>Yes</li><li>No</li><li>No</li><li>No</li><li>Yes</li><li>Yes</li><li>No</li><li>Yes</li><li>Yes</li><li>No</li><li>No</li><li>No</li><li>Yes</li><li>Yes</li><li>No</li><li>Yes</li><li>No</li><li>Yes</li><li>No</li><li>No</li><li>Yes</li><li>No</li><li>Yes</li><li>No</li><li>No</li><li>Yes</li><li>No</li><li>Yes</li><li>Yes</li><li>Yes</li><li>No</li><li>No</li><li>Yes</li><li>Yes</li><li>Yes</li><li>Yes</li><li>No</li><li>Yes</li><li>Yes</li><li>No</li><li>No</li><li>Yes</li><li>No</li><li>No</li><li>Yes</li><li>Yes</li><li>No</li><li>Yes</li><li>Yes</li><li>No</li><li>No</li><li>No</li><li>Yes</li><li>No</li><li>Yes</li><li>No</li><li>Yes</li><li>No</li><li>Yes</li><li>Yes</li><li>Yes</li><li>No</li><li>No</li><li>Yes</li><li>No</li><li>No</li><li>No</li><li>Yes</li><li>Yes</li><li>Yes</li><li>No</li><li>Yes</li><li>Yes</li><li>Yes</li><li>No</li><li>Yes</li><li>Yes</li><li>Yes</li><li>No</li><li>Yes</li><li>Yes</li><li>Yes</li><li>Yes</li><li>Yes</li><li>Yes</li><li>No</li><li>Yes</li><li>No</li><li>No</li><li>Yes</li><li>Yes</li><li>Yes</li><li>Yes</li><li>Yes</li><li>Yes</li><li>No</li><li>Yes</li><li>Yes</li><li>Yes</li><li>No</li><li>Yes</li><li>Yes</li><li>Yes</li><li>No</li><li>No</li><li>Yes</li><li>No</li><li>No</li><li>No</li><li>No</li><li>Yes</li><li>No</li><li>No</li><li>No</li><li>No</li><li>No</li><li>No</li><li>No</li><li>Yes</li><li>Yes</li><li>No</li><li>No</li><li>No</li><li>Yes</li><li>Yes</li><li>Yes</li><li>No</li><li>No</li><li>No</li><li>Yes</li><li>No</li><li>Yes</li><li>Yes</li><li>No</li><li>No</li><li>No</li><li>Yes</li><li>Yes</li><li>Yes</li><li>No</li><li>Yes</li><li>Yes</li><li>No</li><li>No</li><li>Yes</li><li>No</li><li>No</li><li>Yes</li><li>No</li><li>No</li><li>No</li><li>No</li><li>Yes</li><li>Yes</li><li>Yes</li><li>No</li><li>No</li><li>No</li><li>No</li><li>No</li><li>Yes</li><li>Yes</li><li>No</li><li>No</li><li>No</li><li>No</li><li>Yes</li><li>Yes</li><li>No</li><li>No</li><li>Yes</li><li>No</li><li>No</li></ol>\n",
              "\n",
              "<details>\n",
              "\t<summary style=display:list-item;cursor:pointer>\n",
              "\t\t<strong>Levels</strong>:\n",
              "\t</summary>\n",
              "\t<style>\n",
              "\t.list-inline {list-style: none; margin:0; padding: 0}\n",
              "\t.list-inline>li {display: inline-block}\n",
              "\t.list-inline>li:not(:last-child)::after {content: \"\\00b7\"; padding: 0 .5ex}\n",
              "\t</style>\n",
              "\t<ol class=list-inline><li>'Yes'</li><li>'No'</li></ol>\n",
              "</details>"
            ]
          },
          "metadata": {
            "tags": []
          }
        }
      ]
    },
    {
      "cell_type": "code",
      "metadata": {
        "id": "uhWJrCoK-R8p",
        "outputId": "ca395c27-b306-4bb5-be2a-6ad9cfe223f7",
        "colab": {
          "base_uri": "https://localhost:8080/",
          "height": 485
        }
      },
      "source": [
        "# Now checking for our accuracy of our model by using a confusion matrix \n",
        "# ---\n",
        "# \n",
        "confusionMatrix(table(test_pred, testing$`Clicked on Ad`))"
      ],
      "execution_count": 75,
      "outputs": [
        {
          "output_type": "display_data",
          "data": {
            "text/plain": [
              "Confusion Matrix and Statistics\n",
              "\n",
              "         \n",
              "test_pred Yes  No\n",
              "      Yes 147   7\n",
              "      No    3 143\n",
              "                                          \n",
              "               Accuracy : 0.9667          \n",
              "                 95% CI : (0.9396, 0.9839)\n",
              "    No Information Rate : 0.5             \n",
              "    P-Value [Acc > NIR] : <2e-16          \n",
              "                                          \n",
              "                  Kappa : 0.9333          \n",
              "                                          \n",
              " Mcnemar's Test P-Value : 0.3428          \n",
              "                                          \n",
              "            Sensitivity : 0.9800          \n",
              "            Specificity : 0.9533          \n",
              "         Pos Pred Value : 0.9545          \n",
              "         Neg Pred Value : 0.9795          \n",
              "             Prevalence : 0.5000          \n",
              "         Detection Rate : 0.4900          \n",
              "   Detection Prevalence : 0.5133          \n",
              "      Balanced Accuracy : 0.9667          \n",
              "                                          \n",
              "       'Positive' Class : Yes             \n",
              "                                          "
            ]
          },
          "metadata": {
            "tags": []
          }
        }
      ]
    },
    {
      "cell_type": "markdown",
      "metadata": {
        "id": "ZZw0U8UQwiph"
      },
      "source": [
        "* Overall accuracy is 96.67%"
      ]
    },
    {
      "cell_type": "markdown",
      "metadata": {
        "id": "LXBMjZbF-uDy"
      },
      "source": [
        "## Naive Bayes"
      ]
    },
    {
      "cell_type": "markdown",
      "metadata": {
        "id": "ovbx0om0VbfO"
      },
      "source": [
        "### Naive bayes with e1071 package"
      ]
    },
    {
      "cell_type": "code",
      "metadata": {
        "id": "hFxrn6OC_Qrw"
      },
      "source": [
        "# Splitting data into training and test data sets\n",
        "# ---\n",
        "# \n",
        "indxTrain <- createDataPartition(y = dat$`Clicked on Ad`,p = 0.7,list = FALSE)\n",
        "training <- dat[indxTrain,]\n",
        "testing <- dat[-indxTrain,] \n",
        " "
      ],
      "execution_count": 76,
      "outputs": []
    },
    {
      "cell_type": "code",
      "metadata": {
        "id": "gVs-bx6x_gHR",
        "outputId": "4d0fecf5-6b0f-4854-d673-e2f3d16df871",
        "colab": {
          "base_uri": "https://localhost:8080/",
          "height": 173
        }
      },
      "source": [
        "# Checking dimensions of the split\n",
        "# ---\n",
        "#\n",
        "prop.table(table(dat$`Clicked on Ad`)) * 100\n",
        "prop.table(table(training$`Clicked on Ad`)) * 100\n",
        "prop.table(table(testing$`Clicked on Ad`)) * 100"
      ],
      "execution_count": 77,
      "outputs": [
        {
          "output_type": "display_data",
          "data": {
            "text/plain": [
              "\n",
              "Yes  No \n",
              " 50  50 "
            ]
          },
          "metadata": {
            "tags": []
          }
        },
        {
          "output_type": "display_data",
          "data": {
            "text/plain": [
              "\n",
              "Yes  No \n",
              " 50  50 "
            ]
          },
          "metadata": {
            "tags": []
          }
        },
        {
          "output_type": "display_data",
          "data": {
            "text/plain": [
              "\n",
              "Yes  No \n",
              " 50  50 "
            ]
          },
          "metadata": {
            "tags": []
          }
        }
      ]
    },
    {
      "cell_type": "code",
      "metadata": {
        "id": "iXYlMwko_7my"
      },
      "source": [
        "# Comparing the outcome of the training and testing phase\n",
        "# ---\n",
        "# Creating objects x which holds the predictor variables and y which holds the response variables\n",
        "# ---\n",
        "#\n",
        "x = training[,-6]\n",
        "y = training$`Clicked on Ad`"
      ],
      "execution_count": 78,
      "outputs": []
    },
    {
      "cell_type": "code",
      "metadata": {
        "id": "pxpaVayRAXyG",
        "outputId": "f004be48-6c62-459d-890c-e899132b8a08",
        "colab": {
          "base_uri": "https://localhost:8080/"
        }
      },
      "source": [
        "# Loading our inbuilt e1071 package that holds the Naive Bayes function.\n",
        "# ---\n",
        "# \n",
        "install.packages(\"e1071\")\n",
        "library(e1071)"
      ],
      "execution_count": 79,
      "outputs": [
        {
          "output_type": "stream",
          "text": [
            "Installing package into ‘/usr/local/lib/R/site-library’\n",
            "(as ‘lib’ is unspecified)\n",
            "\n"
          ],
          "name": "stderr"
        }
      ]
    },
    {
      "cell_type": "code",
      "metadata": {
        "id": "wJ71RMI3F3j_",
        "outputId": "7224077d-1234-4b77-b7de-6d74426f0189",
        "colab": {
          "base_uri": "https://localhost:8080/",
          "height": 641
        }
      },
      "source": [
        "# Naive bayes receives contigency table\n",
        "\n",
        "model <- naiveBayes(`Clicked on Ad` ~ ., data = dat)\n",
        "model"
      ],
      "execution_count": 80,
      "outputs": [
        {
          "output_type": "display_data",
          "data": {
            "text/plain": [
              "\n",
              "Naive Bayes Classifier for Discrete Predictors\n",
              "\n",
              "Call:\n",
              "naiveBayes.default(x = X, y = Y, laplace = laplace)\n",
              "\n",
              "A-priori probabilities:\n",
              "Y\n",
              "Yes  No \n",
              "0.5 0.5 \n",
              "\n",
              "Conditional probabilities:\n",
              "     Daily Time Spent on Site\n",
              "Y         [,1]      [,2]\n",
              "  Yes 76.85462  7.560031\n",
              "  No  53.14578 12.822091\n",
              "\n",
              "     Age\n",
              "Y       [,1]     [,2]\n",
              "  Yes 31.684 6.212998\n",
              "  No  40.334 8.856598\n",
              "\n",
              "     Area Income\n",
              "Y         [,1]     [,2]\n",
              "  Yes 61385.59  8904.06\n",
              "  No  48614.41 14116.24\n",
              "\n",
              "     Daily Internet Usage\n",
              "Y         [,1]     [,2]\n",
              "  Yes 214.5137 23.87438\n",
              "  No  145.4865 30.02583\n",
              "\n",
              "     Male\n",
              "Y      [,1]      [,2]\n",
              "  Yes 0.500 0.5005008\n",
              "  No  0.462 0.4990532\n"
            ]
          },
          "metadata": {
            "tags": []
          }
        }
      ]
    },
    {
      "cell_type": "markdown",
      "metadata": {
        "id": "MYLygIdRHk0O"
      },
      "source": [
        "* The a-priori probabilities are the prior probability in Bayes theorem. Its the frequency each level of class occurs in the training dataset."
      ]
    },
    {
      "cell_type": "code",
      "metadata": {
        "id": "V3kiXCsvGeEt",
        "outputId": "560e6c94-e96b-48cc-c37d-8e57ee5848d1",
        "colab": {
          "base_uri": "https://localhost:8080/",
          "height": 69
        }
      },
      "source": [
        "predict(model, dat[sample(1:1000, 6, replace = FALSE),])"
      ],
      "execution_count": 81,
      "outputs": [
        {
          "output_type": "display_data",
          "data": {
            "text/plain": [
              "[1] Yes No  No  Yes Yes No \n",
              "Levels: Yes No"
            ],
            "text/latex": "\\begin{enumerate*}\n\\item Yes\n\\item No\n\\item No\n\\item Yes\n\\item Yes\n\\item No\n\\end{enumerate*}\n\n\\emph{Levels}: \\begin{enumerate*}\n\\item 'Yes'\n\\item 'No'\n\\end{enumerate*}\n",
            "text/markdown": "1. Yes\n2. No\n3. No\n4. Yes\n5. Yes\n6. No\n\n\n\n**Levels**: 1. 'Yes'\n2. 'No'\n\n\n",
            "text/html": [
              "<style>\n",
              ".list-inline {list-style: none; margin:0; padding: 0}\n",
              ".list-inline>li {display: inline-block}\n",
              ".list-inline>li:not(:last-child)::after {content: \"\\00b7\"; padding: 0 .5ex}\n",
              "</style>\n",
              "<ol class=list-inline><li>Yes</li><li>No</li><li>No</li><li>Yes</li><li>Yes</li><li>No</li></ol>\n",
              "\n",
              "<details>\n",
              "\t<summary style=display:list-item;cursor:pointer>\n",
              "\t\t<strong>Levels</strong>:\n",
              "\t</summary>\n",
              "\t<style>\n",
              "\t.list-inline {list-style: none; margin:0; padding: 0}\n",
              "\t.list-inline>li {display: inline-block}\n",
              "\t.list-inline>li:not(:last-child)::after {content: \"\\00b7\"; padding: 0 .5ex}\n",
              "\t</style>\n",
              "\t<ol class=list-inline><li>'Yes'</li><li>'No'</li></ol>\n",
              "</details>"
            ]
          },
          "metadata": {
            "tags": []
          }
        }
      ]
    },
    {
      "cell_type": "code",
      "metadata": {
        "id": "BypWtAfdG2ZB",
        "outputId": "42ab26ac-b7b4-423e-abd0-9fb78e96899f",
        "colab": {
          "base_uri": "https://localhost:8080/",
          "height": 166
        }
      },
      "source": [
        "predict(model, dat[sample(1:1000, 6, replace = FALSE),], type = \"raw\")"
      ],
      "execution_count": 82,
      "outputs": [
        {
          "output_type": "display_data",
          "data": {
            "text/plain": [
              "     Yes        No          \n",
              "[1,] 0.99919865 0.0008013527\n",
              "[2,] 0.99970563 0.0002943733\n",
              "[3,] 0.99965333 0.0003466675\n",
              "[4,] 0.97560887 0.0243911315\n",
              "[5,] 0.01369833 0.9863016662\n",
              "[6,] 0.99617773 0.0038222719"
            ],
            "text/latex": "A matrix: 6 × 2 of type dbl\n\\begin{tabular}{ll}\n Yes & No\\\\\n\\hline\n\t 0.99919865 & 0.0008013527\\\\\n\t 0.99970563 & 0.0002943733\\\\\n\t 0.99965333 & 0.0003466675\\\\\n\t 0.97560887 & 0.0243911315\\\\\n\t 0.01369833 & 0.9863016662\\\\\n\t 0.99617773 & 0.0038222719\\\\\n\\end{tabular}\n",
            "text/markdown": "\nA matrix: 6 × 2 of type dbl\n\n| Yes | No |\n|---|---|\n| 0.99919865 | 0.0008013527 |\n| 0.99970563 | 0.0002943733 |\n| 0.99965333 | 0.0003466675 |\n| 0.97560887 | 0.0243911315 |\n| 0.01369833 | 0.9863016662 |\n| 0.99617773 | 0.0038222719 |\n\n",
            "text/html": [
              "<table>\n",
              "<caption>A matrix: 6 × 2 of type dbl</caption>\n",
              "<thead>\n",
              "\t<tr><th scope=col>Yes</th><th scope=col>No</th></tr>\n",
              "</thead>\n",
              "<tbody>\n",
              "\t<tr><td>0.99919865</td><td>0.0008013527</td></tr>\n",
              "\t<tr><td>0.99970563</td><td>0.0002943733</td></tr>\n",
              "\t<tr><td>0.99965333</td><td>0.0003466675</td></tr>\n",
              "\t<tr><td>0.97560887</td><td>0.0243911315</td></tr>\n",
              "\t<tr><td>0.01369833</td><td>0.9863016662</td></tr>\n",
              "\t<tr><td>0.99617773</td><td>0.0038222719</td></tr>\n",
              "</tbody>\n",
              "</table>\n"
            ]
          },
          "metadata": {
            "tags": []
          }
        }
      ]
    },
    {
      "cell_type": "code",
      "metadata": {
        "id": "SGMD7o9cVngp"
      },
      "source": [
        ""
      ],
      "execution_count": 83,
      "outputs": []
    },
    {
      "cell_type": "markdown",
      "metadata": {
        "id": "gNDCk5__IDDR"
      },
      "source": [
        "### Naive bayes with Caret package"
      ]
    },
    {
      "cell_type": "code",
      "metadata": {
        "id": "5-VA4kaCIP2g",
        "outputId": "fcfac2f9-8f58-40c9-c083-0a78bba7bc34",
        "colab": {
          "base_uri": "https://localhost:8080/"
        }
      },
      "source": [
        "install.packages('caret')\n",
        "library(caret)\n",
        "\n",
        "install.packages('caretEnsemble')\n",
        "library(caretEnsemble)\n",
        "\n",
        "install.packages('klaR')\n",
        "library(klaR)"
      ],
      "execution_count": 84,
      "outputs": [
        {
          "output_type": "stream",
          "text": [
            "Installing package into ‘/usr/local/lib/R/site-library’\n",
            "(as ‘lib’ is unspecified)\n",
            "\n",
            "Installing package into ‘/usr/local/lib/R/site-library’\n",
            "(as ‘lib’ is unspecified)\n",
            "\n",
            "also installing the dependencies ‘pbapply’, ‘gridExtra’\n",
            "\n",
            "\n",
            "\n",
            "Attaching package: ‘caretEnsemble’\n",
            "\n",
            "\n",
            "The following object is masked from ‘package:ggplot2’:\n",
            "\n",
            "    autoplot\n",
            "\n",
            "\n",
            "Installing package into ‘/usr/local/lib/R/site-library’\n",
            "(as ‘lib’ is unspecified)\n",
            "\n",
            "also installing the dependencies ‘R.methodsS3’, ‘R.oo’, ‘R.utils’, ‘httpuv’, ‘xtable’, ‘sourcetools’, ‘fastmap’, ‘R.cache’, ‘shiny’, ‘miniUI’, ‘styler’, ‘classInt’, ‘labelled’, ‘combinat’, ‘questionr’\n",
            "\n",
            "\n",
            "Loading required package: MASS\n",
            "\n",
            "\n",
            "Attaching package: ‘MASS’\n",
            "\n",
            "\n",
            "The following object is masked from ‘package:dplyr’:\n",
            "\n",
            "    select\n",
            "\n",
            "\n"
          ],
          "name": "stderr"
        }
      ]
    },
    {
      "cell_type": "code",
      "metadata": {
        "id": "dvhH8aopO9Hm"
      },
      "source": [
        "# Splitting data into training and test data sets\n",
        "# ---\n",
        "# \n",
        "indxTrain <- createDataPartition(y = dat$`Clicked on Ad`,p = 0.7,list = FALSE)\n",
        "training <- dat[indxTrain,]\n",
        "testing <- dat[-indxTrain,] "
      ],
      "execution_count": 87,
      "outputs": []
    },
    {
      "cell_type": "code",
      "metadata": {
        "id": "ya4AVEWqIYN3"
      },
      "source": [
        "# The dataframe dat should be split inro the predictor dataframe and the outcome vector. \n",
        "x = training[,-6]\n",
        "y = training$`Clicked on Ad`"
      ],
      "execution_count": 88,
      "outputs": []
    },
    {
      "cell_type": "code",
      "metadata": {
        "id": "pmtIgXMAAeCO",
        "outputId": "81066fce-f6ef-4130-fff6-5a190041875d",
        "colab": {
          "base_uri": "https://localhost:8080/",
          "height": 1000
        }
      },
      "source": [
        "# Now building our model \n",
        "# The model is trained using the train function\n",
        "# \n",
        "modell <- train(x,y,trControl=trainControl(method='cv',number=10))\n",
        "modell"
      ],
      "execution_count": 89,
      "outputs": [
        {
          "output_type": "stream",
          "text": [
            "Warning message:\n",
            "“Setting row names on a tibble is deprecated.”\n",
            "Warning message:\n",
            "“Setting row names on a tibble is deprecated.”\n",
            "Warning message:\n",
            "“Setting row names on a tibble is deprecated.”\n",
            "Warning message:\n",
            "“Setting row names on a tibble is deprecated.”\n",
            "Warning message:\n",
            "“Setting row names on a tibble is deprecated.”\n",
            "Warning message:\n",
            "“Setting row names on a tibble is deprecated.”\n",
            "Warning message:\n",
            "“Setting row names on a tibble is deprecated.”\n",
            "Warning message:\n",
            "“Setting row names on a tibble is deprecated.”\n",
            "Warning message:\n",
            "“Setting row names on a tibble is deprecated.”\n",
            "Warning message:\n",
            "“Setting row names on a tibble is deprecated.”\n",
            "Warning message:\n",
            "“Setting row names on a tibble is deprecated.”\n",
            "Warning message:\n",
            "“Setting row names on a tibble is deprecated.”\n",
            "Warning message:\n",
            "“Setting row names on a tibble is deprecated.”\n",
            "Warning message:\n",
            "“Setting row names on a tibble is deprecated.”\n",
            "Warning message:\n",
            "“Setting row names on a tibble is deprecated.”\n",
            "Warning message:\n",
            "“Setting row names on a tibble is deprecated.”\n",
            "Warning message:\n",
            "“Setting row names on a tibble is deprecated.”\n",
            "Warning message:\n",
            "“Setting row names on a tibble is deprecated.”\n",
            "Warning message:\n",
            "“Setting row names on a tibble is deprecated.”\n",
            "Warning message:\n",
            "“Setting row names on a tibble is deprecated.”\n",
            "Warning message:\n",
            "“Setting row names on a tibble is deprecated.”\n",
            "Warning message:\n",
            "“Setting row names on a tibble is deprecated.”\n",
            "Warning message:\n",
            "“Setting row names on a tibble is deprecated.”\n",
            "Warning message:\n",
            "“Setting row names on a tibble is deprecated.”\n",
            "Warning message:\n",
            "“Setting row names on a tibble is deprecated.”\n",
            "Warning message:\n",
            "“Setting row names on a tibble is deprecated.”\n",
            "Warning message:\n",
            "“Setting row names on a tibble is deprecated.”\n",
            "Warning message:\n",
            "“Setting row names on a tibble is deprecated.”\n",
            "Warning message:\n",
            "“Setting row names on a tibble is deprecated.”\n",
            "Warning message:\n",
            "“Setting row names on a tibble is deprecated.”\n",
            "Warning message:\n",
            "“Setting row names on a tibble is deprecated.”\n"
          ],
          "name": "stderr"
        },
        {
          "output_type": "display_data",
          "data": {
            "text/plain": [
              "Random Forest \n",
              "\n",
              "700 samples\n",
              "  5 predictor\n",
              "  2 classes: 'Yes', 'No' \n",
              "\n",
              "No pre-processing\n",
              "Resampling: Cross-Validated (10 fold) \n",
              "Summary of sample sizes: 630, 630, 630, 630, 630, 630, ... \n",
              "Resampling results across tuning parameters:\n",
              "\n",
              "  mtry  Accuracy   Kappa    \n",
              "  2     0.9642857  0.9285714\n",
              "  3     0.9657143  0.9314286\n",
              "  5     0.9571429  0.9142857\n",
              "\n",
              "Accuracy was used to select the optimal model using the largest value.\n",
              "The final value used for the model was mtry = 3."
            ]
          },
          "metadata": {
            "tags": []
          }
        }
      ]
    },
    {
      "cell_type": "markdown",
      "metadata": {
        "id": "xH9zBmG9VFz5"
      },
      "source": [
        "* Below is an alternative method "
      ]
    },
    {
      "cell_type": "code",
      "metadata": {
        "id": "XbS7GixOTcXd",
        "outputId": "0dc01386-2458-41ef-fd1c-7e3a1711632f",
        "colab": {
          "base_uri": "https://localhost:8080/"
        }
      },
      "source": [
        "# set up 10-fold cross validation procedure\n",
        "train_control <- trainControl(\n",
        "  method = \"cv\", \n",
        "  number = 10\n",
        "  )\n",
        "  \n",
        "# train model\n",
        "nb.m1 <- train(\n",
        "  x = x,\n",
        "  y = y,\n",
        "  #method = \"nb\",\n",
        "  trControl = train_control\n",
        "  )\n",
        "\n",
        "# This one line will generate a Naive Bayes model, using 10-fold cross-validation. \n",
        "# From above, x is the attributes and y is the labels. \n",
        "# The ‘nb’ tells the trainer to use Naive Bayes. \n",
        "# The trainController part tells the trainer to use cross-validataion (‘cv’) with 10 folds."
      ],
      "execution_count": 90,
      "outputs": [
        {
          "output_type": "stream",
          "text": [
            "Warning message:\n",
            "“Setting row names on a tibble is deprecated.”\n",
            "Warning message:\n",
            "“Setting row names on a tibble is deprecated.”\n",
            "Warning message:\n",
            "“Setting row names on a tibble is deprecated.”\n",
            "Warning message:\n",
            "“Setting row names on a tibble is deprecated.”\n",
            "Warning message:\n",
            "“Setting row names on a tibble is deprecated.”\n",
            "Warning message:\n",
            "“Setting row names on a tibble is deprecated.”\n",
            "Warning message:\n",
            "“Setting row names on a tibble is deprecated.”\n",
            "Warning message:\n",
            "“Setting row names on a tibble is deprecated.”\n",
            "Warning message:\n",
            "“Setting row names on a tibble is deprecated.”\n",
            "Warning message:\n",
            "“Setting row names on a tibble is deprecated.”\n",
            "Warning message:\n",
            "“Setting row names on a tibble is deprecated.”\n",
            "Warning message:\n",
            "“Setting row names on a tibble is deprecated.”\n",
            "Warning message:\n",
            "“Setting row names on a tibble is deprecated.”\n",
            "Warning message:\n",
            "“Setting row names on a tibble is deprecated.”\n",
            "Warning message:\n",
            "“Setting row names on a tibble is deprecated.”\n",
            "Warning message:\n",
            "“Setting row names on a tibble is deprecated.”\n",
            "Warning message:\n",
            "“Setting row names on a tibble is deprecated.”\n",
            "Warning message:\n",
            "“Setting row names on a tibble is deprecated.”\n",
            "Warning message:\n",
            "“Setting row names on a tibble is deprecated.”\n",
            "Warning message:\n",
            "“Setting row names on a tibble is deprecated.”\n",
            "Warning message:\n",
            "“Setting row names on a tibble is deprecated.”\n",
            "Warning message:\n",
            "“Setting row names on a tibble is deprecated.”\n",
            "Warning message:\n",
            "“Setting row names on a tibble is deprecated.”\n",
            "Warning message:\n",
            "“Setting row names on a tibble is deprecated.”\n",
            "Warning message:\n",
            "“Setting row names on a tibble is deprecated.”\n",
            "Warning message:\n",
            "“Setting row names on a tibble is deprecated.”\n",
            "Warning message:\n",
            "“Setting row names on a tibble is deprecated.”\n",
            "Warning message:\n",
            "“Setting row names on a tibble is deprecated.”\n",
            "Warning message:\n",
            "“Setting row names on a tibble is deprecated.”\n",
            "Warning message:\n",
            "“Setting row names on a tibble is deprecated.”\n",
            "Warning message:\n",
            "“Setting row names on a tibble is deprecated.”\n"
          ],
          "name": "stderr"
        }
      ]
    },
    {
      "cell_type": "code",
      "metadata": {
        "id": "r5S_-8xqTouF",
        "outputId": "66fba74e-f7cf-43b0-a5ba-928a6e9df0e5",
        "colab": {
          "base_uri": "https://localhost:8080/",
          "height": 190
        }
      },
      "source": [
        "# results\n",
        "confusionMatrix(nb.m1)"
      ],
      "execution_count": 91,
      "outputs": [
        {
          "output_type": "display_data",
          "data": {
            "text/plain": [
              "Cross-Validated (10 fold) Confusion Matrix \n",
              "\n",
              "(entries are percentual average cell counts across resamples)\n",
              " \n",
              "          Reference\n",
              "Prediction  Yes   No\n",
              "       Yes 48.1  1.9\n",
              "       No   1.9 48.1\n",
              "                            \n",
              " Accuracy (average) : 0.9629\n"
            ]
          },
          "metadata": {
            "tags": []
          }
        }
      ]
    },
    {
      "cell_type": "markdown",
      "metadata": {
        "id": "ybKEam4scpdr"
      },
      "source": [
        "# **Conclusion**"
      ]
    },
    {
      "cell_type": "markdown",
      "metadata": {
        "id": "GBcdrvv1csxW"
      },
      "source": [
        "* As observed there's a 51.9% chance that males will visit her site and a 48.1% chance that females will do so\n",
        "* People in teh following countries are more likely to see and visit her site Czech Republic, France had 9 searches while those in Senegal, Afghanistan, Cyprus, Greece, Liberia, Peru, South AFrica, Turkey had 8 searches. \n",
        "* Most of the people who visit her site are of the ages of 31 and 36 with a count of 60 and 50 respectively\n",
        "* There's an equal chance of those who clicked on the add and who didn't with a probability of 0.5 for both cases."
      ]
    },
    {
      "cell_type": "markdown",
      "metadata": {
        "id": "4KGycpBjfJEx"
      },
      "source": [
        "* A product should be created to encourage the viewership in countries like Andorra, Argentina had 2 searches and Ruba, Bermuda,  had 1 search"
      ]
    }
  ]
}